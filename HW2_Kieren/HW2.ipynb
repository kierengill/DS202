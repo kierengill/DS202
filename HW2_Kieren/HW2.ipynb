{
  "cells": [
    {
      "cell_type": "markdown",
      "metadata": {
        "id": "rmoZ7PnaFdYv"
      },
      "source": [
        "**RDS (DS-UA 202) Spring 2022: Homework 2 Template**\n",
        "\n",
        "This notebook is a template for problem 3. You should save a copy of this notebook and write your code in that copy. The code to setup the analysis is provided for you here. You should not edit or add to the setup code.\n",
        "\n",
        "Some suggested steps are included as comments in the below code cells. You do not need to follow these (other reasonable solutions or approaches are acceptable)."
      ]
    },
    {
      "cell_type": "markdown",
      "metadata": {
        "id": "48xT_WfoVW7m"
      },
      "source": [
        "# Setup\n",
        "\n",
        "Make sure you run all cells in the setup section. Do not modify any code in this section."
      ]
    },
    {
      "cell_type": "code",
      "execution_count": 65,
      "metadata": {
        "colab": {
          "base_uri": "https://localhost:8080/"
        },
        "id": "1VR_j1uKFdY0",
        "outputId": "7c1abb3b-7019-4c89-956e-75733ba81329"
      },
      "outputs": [
        {
          "output_type": "stream",
          "name": "stdout",
          "text": [
            "Requirement already satisfied: DataSynthesizer in /usr/local/lib/python3.7/dist-packages (0.1.11)\n",
            "Requirement already satisfied: python-dateutil>=2.8.1 in /usr/local/lib/python3.7/dist-packages (from DataSynthesizer) (2.8.2)\n",
            "Requirement already satisfied: pandas>=1.0.5 in /usr/local/lib/python3.7/dist-packages (from DataSynthesizer) (1.3.5)\n",
            "Requirement already satisfied: numpy>=1.18.5 in /usr/local/lib/python3.7/dist-packages (from DataSynthesizer) (1.21.5)\n",
            "Requirement already satisfied: matplotlib>=3.2.2 in /usr/local/lib/python3.7/dist-packages (from DataSynthesizer) (3.2.2)\n",
            "Requirement already satisfied: scikit-learn>=0.23.1 in /usr/local/lib/python3.7/dist-packages (from DataSynthesizer) (1.0.2)\n",
            "Requirement already satisfied: seaborn>=0.10.1 in /usr/local/lib/python3.7/dist-packages (from DataSynthesizer) (0.11.2)\n",
            "Requirement already satisfied: pyparsing!=2.0.4,!=2.1.2,!=2.1.6,>=2.0.1 in /usr/local/lib/python3.7/dist-packages (from matplotlib>=3.2.2->DataSynthesizer) (3.0.8)\n",
            "Requirement already satisfied: cycler>=0.10 in /usr/local/lib/python3.7/dist-packages (from matplotlib>=3.2.2->DataSynthesizer) (0.11.0)\n",
            "Requirement already satisfied: kiwisolver>=1.0.1 in /usr/local/lib/python3.7/dist-packages (from matplotlib>=3.2.2->DataSynthesizer) (1.4.2)\n",
            "Requirement already satisfied: typing-extensions in /usr/local/lib/python3.7/dist-packages (from kiwisolver>=1.0.1->matplotlib>=3.2.2->DataSynthesizer) (4.1.1)\n",
            "Requirement already satisfied: pytz>=2017.3 in /usr/local/lib/python3.7/dist-packages (from pandas>=1.0.5->DataSynthesizer) (2018.9)\n",
            "Requirement already satisfied: six>=1.5 in /usr/local/lib/python3.7/dist-packages (from python-dateutil>=2.8.1->DataSynthesizer) (1.15.0)\n",
            "Requirement already satisfied: scipy>=1.1.0 in /usr/local/lib/python3.7/dist-packages (from scikit-learn>=0.23.1->DataSynthesizer) (1.4.1)\n",
            "Requirement already satisfied: joblib>=0.11 in /usr/local/lib/python3.7/dist-packages (from scikit-learn>=0.23.1->DataSynthesizer) (1.1.0)\n",
            "Requirement already satisfied: threadpoolctl>=2.0.0 in /usr/local/lib/python3.7/dist-packages (from scikit-learn>=0.23.1->DataSynthesizer) (3.1.0)\n"
          ]
        }
      ],
      "source": [
        "!pip install DataSynthesizer"
      ]
    },
    {
      "cell_type": "code",
      "execution_count": 66,
      "metadata": {
        "id": "yd3BwlQ1FdZD"
      },
      "outputs": [],
      "source": [
        "from DataSynthesizer.DataDescriber import DataDescriber\n",
        "from DataSynthesizer.DataGenerator import DataGenerator\n",
        "from DataSynthesizer.ModelInspector import ModelInspector\n",
        "from DataSynthesizer.lib.utils import normalize_given_distribution, read_json_file, pairwise_attributes_mutual_information, mutual_information, set_random_seed\n",
        "\n",
        "from IPython.display import clear_output\n",
        "from scipy.stats import entropy, ks_2samp\n",
        "from scipy.spatial.distance import euclidean\n",
        "from sklearn.metrics import mutual_info_score\n",
        "from random import randint\n",
        "import pandas as pd\n",
        "import matplotlib.pyplot as plt\n",
        "import seaborn as sns\n",
        "%matplotlib inline"
      ]
    },
    {
      "cell_type": "code",
      "execution_count": 67,
      "metadata": {
        "id": "M6YGhJ8yFdZO"
      },
      "outputs": [],
      "source": [
        "def generate_data_A(input_data_file, output_data_size, seed=None):\n",
        "    seed = seed or randint(0, 2**30)\n",
        "    description_file = description_files['A']\n",
        "    \n",
        "    describer = DataDescriber()\n",
        "    describer.describe_dataset_in_random_mode(input_data_file, seed=seed)\n",
        "    describer.save_dataset_description_to_file(description_file)\n",
        "    \n",
        "    generator = DataGenerator()\n",
        "    generator.generate_dataset_in_random_mode(output_data_size, description_file, seed=seed)\n",
        "    return generator.synthetic_dataset"
      ]
    },
    {
      "cell_type": "code",
      "execution_count": 68,
      "metadata": {
        "id": "_ucdJfUuFdZe"
      },
      "outputs": [],
      "source": [
        "def generate_data_B(input_data_file, output_data_size, epsilon=0.1, seed=None):\n",
        "    seed = seed or randint(0, 2**30)\n",
        "    description_file = description_files['B']\n",
        "    \n",
        "    describer = DataDescriber()\n",
        "    describer.describe_dataset_in_independent_attribute_mode(input_data_file, epsilon=epsilon, seed=seed)\n",
        "    describer.save_dataset_description_to_file(description_file)\n",
        "    \n",
        "    generator = DataGenerator()\n",
        "    generator.generate_dataset_in_independent_mode(output_data_size, description_file, seed=seed)\n",
        "    return generator.synthetic_dataset"
      ]
    },
    {
      "cell_type": "code",
      "execution_count": 69,
      "metadata": {
        "id": "AiO-8_CPFdZj"
      },
      "outputs": [],
      "source": [
        "def generate_data_CD(input_data_file, output_data_size, description_file, epsilon=0.5, k=1, seed=None):\n",
        "    seed = seed or randint(0, 2**30)\n",
        "    \n",
        "    describer = DataDescriber()\n",
        "    describer.describe_dataset_in_correlated_attribute_mode(input_data_file, k=k, epsilon=epsilon, seed=seed)\n",
        "    describer.save_dataset_description_to_file(description_file)\n",
        "    \n",
        "    generator = DataGenerator()\n",
        "    generator.generate_dataset_in_correlated_attribute_mode(output_data_size, description_file, seed=seed)\n",
        "    return generator.synthetic_dataset\n",
        "\n",
        "def generate_data_C(input_data_file, output_data_size, epsilon=0.1, seed=None):\n",
        "    return generate_data_CD(input_data_file, output_data_size, description_files['C'], epsilon, k=1, seed=seed)\n",
        "\n",
        "def generate_data_D(input_data_file, output_data_size, epsilon=0.1, seed=None):\n",
        "    return generate_data_CD(input_data_file, output_data_size, description_files['D'], epsilon, k=2, seed=seed)"
      ]
    },
    {
      "cell_type": "markdown",
      "metadata": {
        "id": "_ZaByotmFdZo"
      },
      "source": [
        "Start with a real dataset __hw_compas__ and a fake dataset __hw_fake__. Generate synthetic datasets of size __N=10000__, in the following four categories:\n",
        "- A:  random mode\n",
        "- B: independent attribute mode with __epsilon = 0.1__\n",
        "- C:  correlated attribute mode with __epsilon = 0.1__, Bayes net degree k=1\n",
        "- D: correlated attribute mode with __epsilon = 0.1__, Bayes net degree k=2"
      ]
    },
    {
      "cell_type": "code",
      "execution_count": 70,
      "metadata": {
        "id": "GXqw1Tjl3kdb"
      },
      "outputs": [],
      "source": [
        "# Packages for reading csv file into Colaboratory:\n",
        "!pip install -U -q PyDrive==1.3.1\n",
        "\n",
        "from pydrive.auth import GoogleAuth\n",
        "from pydrive.drive import GoogleDrive\n",
        "from google.colab import auth\n",
        "from oauth2client.client import GoogleCredentials\n",
        "\n",
        "# Authenticate and create the PyDrive client. \n",
        "# Please follow the steps as instructed when you run the following commands. \n",
        "\n",
        "auth.authenticate_user()\n",
        "gauth = GoogleAuth()\n",
        "gauth.credentials = GoogleCredentials.get_application_default()\n",
        "drive = GoogleDrive(gauth)"
      ]
    },
    {
      "cell_type": "code",
      "execution_count": 71,
      "metadata": {
        "id": "hecmLsCU3lsg"
      },
      "outputs": [],
      "source": [
        "fileid_compas = '1kgSIBkOM9y0nz_l8LI8ze9TAhF5gbb64'    \n",
        "real_data_file = 'hw_compas.csv'\n",
        "\n",
        "fileid_fake = '1b_T0SHQUMbVvZueZ6yXlxTKBHctMgM0k'    \n",
        "fake_data_file = 'hw_fake.csv'\n",
        "\n",
        "downloaded = drive.CreateFile({'id':fileid_compas}) \n",
        "downloaded.GetContentFile(real_data_file)  \n",
        "df_real = pd.read_csv(real_data_file)\n",
        "\n",
        "downloaded = drive.CreateFile({'id':fileid_fake}) \n",
        "downloaded.GetContentFile(fake_data_file)  \n",
        "df_fake = pd.read_csv(fake_data_file)"
      ]
    },
    {
      "cell_type": "code",
      "execution_count": 72,
      "metadata": {
        "id": "cwmlF9kRFdZp"
      },
      "outputs": [],
      "source": [
        "output_data_size = 10000\n",
        "epsilon = 0.1\n",
        "\n",
        "seed = 0  # make the entire notebook reproducible\n",
        "\n",
        "description_files = {'A': './descrption_A.json', \n",
        "                     'B': './descrption_B.json', \n",
        "                     'C': './descrption_C.json', \n",
        "                     'D': './descrption_D.json'}\n",
        "\n",
        "set_random_seed(seed)\n",
        "\n",
        "df_real_A = generate_data_A(real_data_file, output_data_size)\n",
        "df_real_B = generate_data_B(real_data_file, output_data_size, epsilon=epsilon)\n",
        "df_real_C = generate_data_C(real_data_file, output_data_size, epsilon=epsilon)\n",
        "df_real_D = generate_data_D(real_data_file, output_data_size, epsilon=epsilon)\n",
        "\n",
        "df_fake_A = generate_data_A(fake_data_file, output_data_size)\n",
        "df_fake_B = generate_data_B(fake_data_file, output_data_size, epsilon=epsilon)\n",
        "df_fake_C = generate_data_C(fake_data_file, output_data_size, epsilon=epsilon)\n",
        "df_fake_D = generate_data_D(fake_data_file, output_data_size, epsilon=epsilon)\n",
        "\n",
        "clear_output()"
      ]
    },
    {
      "cell_type": "markdown",
      "metadata": {
        "id": "DyXI_gY_FdZx"
      },
      "source": [
        "## Q1\n",
        "\n",
        "Calculate the Median, Mean, Min, Max of __age__ and __score__ for each A, B, C and D. Compare to the ground truth values in __hw_compas__, present results in a table."
      ]
    },
    {
      "cell_type": "code",
      "execution_count": 73,
      "metadata": {
        "id": "1uMG1X8DFdZz",
        "colab": {
          "base_uri": "https://localhost:8080/"
        },
        "outputId": "92a70f79-30ac-4ca8-98e2-fc999b15f355"
      },
      "outputs": [
        {
          "output_type": "stream",
          "name": "stdout",
          "text": [
            "Requirement already satisfied: tabulate in /usr/local/lib/python3.7/dist-packages (0.8.9)\n"
          ]
        }
      ],
      "source": [
        "#install tabulate so i can make a table\n",
        "!pip install tabulate\n",
        "from tabulate import tabulate"
      ]
    },
    {
      "cell_type": "code",
      "source": [
        "data =  [\n",
        "        [\"Ground Truth\",\"Age\",df_real[\"age\"].median(),df_real[\"age\"].mean(),df_real[\"age\"].min(),df_real[\"age\"].max()],\n",
        "        [\" \",\"Score\",df_real[\"score\"].median(),df_real[\"score\"].mean(),df_real[\"score\"].min(),df_real[\"score\"].max()],\n",
        "        [\" \"],\n",
        "        [\"A\",\"Age\",df_real_A[\"age\"].median(),df_real_A[\"age\"].mean(),df_real_A[\"age\"].min(),df_real_A[\"age\"].max()],\n",
        "        [\" \",\"Score\",df_real_A[\"score\"].median(),df_real_A[\"score\"].mean(),df_real_A[\"score\"].min(),df_real_A[\"score\"].max()],\n",
        "        [\" \"],\n",
        "        [\"B\",\"Age\",df_real_B[\"age\"].median(),df_real_B[\"age\"].mean(),df_real_B[\"age\"].min(),df_real_B[\"age\"].max()],\n",
        "        [\" \",\"Score\",df_real_B[\"score\"].median(),df_real_B[\"score\"].mean(),df_real_B[\"score\"].min(),df_real_B[\"score\"].max()],\n",
        "        [\" \"],\n",
        "        [\"C\",\"Age\",df_real_C[\"age\"].median(),df_real_C[\"age\"].mean(),df_real_C[\"age\"].min(),df_real_C[\"age\"].max()],\n",
        "        [\" \",\"Score\",df_real_C[\"score\"].median(),df_real_C[\"score\"].mean(),df_real_C[\"score\"].min(),df_real_C[\"score\"].max()],\n",
        "        [\" \"],\n",
        "        [\"D\",\"Age\",df_real_D[\"age\"].median(),df_real_D[\"age\"].mean(),df_real_D[\"age\"].min(),df_real_D[\"age\"].max()],\n",
        "        [\" \",\"Score\",df_real_D[\"score\"].median(),df_real_D[\"score\"].mean(),df_real_D[\"score\"].min(),df_real_D[\"score\"].max()],\n",
        "        ]\n",
        "        \n",
        "headers = [\"Data\",\"Column\",\"Median\",\"Mean\",\"Min\",\"Max\"]\n",
        "print(tabulate(data, headers=headers))"
      ],
      "metadata": {
        "colab": {
          "base_uri": "https://localhost:8080/"
        },
        "id": "GIqDD0J-SZp6",
        "outputId": "d984adaf-202a-4a33-ca62-51ed4f283663"
      },
      "execution_count": 74,
      "outputs": [
        {
          "output_type": "stream",
          "name": "stdout",
          "text": [
            "Data          Column      Median      Mean    Min    Max\n",
            "------------  --------  --------  --------  -----  -----\n",
            "Ground Truth  Age             32  35.1433      18     96\n",
            "              Score            4   4.37127     -1     10\n",
            "\n",
            "A             Age             51  50.1731       0    100\n",
            "              Score            5   4.9392      -1     10\n",
            "\n",
            "B             Age             33  35.7354      18     76\n",
            "              Score            4   4.3657       1     10\n",
            "\n",
            "C             Age             36  41.5788      18     96\n",
            "              Score            5   4.9487      -1     10\n",
            "\n",
            "D             Age             39  44.1532      18     96\n",
            "              Score            4   4.466       -1     10\n"
          ]
        }
      ]
    },
    {
      "cell_type": "markdown",
      "metadata": {
        "id": "ZFgyc2B4FdZ6"
      },
      "source": [
        "## Q2\n",
        "\n",
        "Plot histograms of the age attribute in hw_compas and in synthetic datasets generated under settings A and B."
      ]
    },
    {
      "cell_type": "code",
      "execution_count": 75,
      "metadata": {
        "id": "eDnex3Ohv5qp",
        "colab": {
          "base_uri": "https://localhost:8080/",
          "height": 431
        },
        "outputId": "5cc16ce4-752c-46d1-a29f-4850a95fafb5"
      },
      "outputs": [
        {
          "output_type": "execute_result",
          "data": {
            "text/plain": [
              "Text(0.5, 1.0, 'Independent Attribute Mode')"
            ]
          },
          "metadata": {},
          "execution_count": 75
        },
        {
          "output_type": "display_data",
          "data": {
            "text/plain": [
              "<Figure size 1600x400 with 3 Axes>"
            ],
            "image/png": "[encoded data removed]"
          },
          "metadata": {
            "needs_background": "light"
          }
        }
      ],
      "source": [
        "figs,axes = plt.subplots(1,3,figsize=(16,4),dpi=100)\n",
        "\n",
        "axes[0].hist(df_real[\"age\"])\n",
        "axes[0].set_xlabel('Age')\n",
        "axes[0].set_title('Real Data')\n",
        "\n",
        "axes[1].hist(df_real_A[\"age\"])\n",
        "axes[1].set_xlabel('Age')\n",
        "axes[1].set_title('Random Mode')\n",
        "\n",
        "axes[2].hist(df_real_B[\"age\"])\n",
        "axes[2].set_xlabel('Age')\n",
        "axes[2].set_title('Independent Attribute Mode')"
      ]
    },
    {
      "cell_type": "markdown",
      "metadata": {
        "id": "rS_R-bDGweX6"
      },
      "source": [
        "Create bar plots for the sex attribute in hw_compas and in synthetic datasets generated under settings A and B."
      ]
    },
    {
      "cell_type": "code",
      "execution_count": 76,
      "metadata": {
        "id": "DzdWPG4rwj69",
        "colab": {
          "base_uri": "https://localhost:8080/",
          "height": 407
        },
        "outputId": "424bebd7-daa9-47c6-e3cd-7024d9be9499"
      },
      "outputs": [
        {
          "output_type": "execute_result",
          "data": {
            "text/plain": [
              "Text(0.5, 1.0, 'Independent Attribute Mode')"
            ]
          },
          "metadata": {},
          "execution_count": 76
        },
        {
          "output_type": "display_data",
          "data": {
            "text/plain": [
              "<Figure size 1600x400 with 3 Axes>"
            ],
            "image/png": "[encoded data removed]"
          },
          "metadata": {
            "needs_background": "light"
          }
        }
      ],
      "source": [
        "figs,axes = plt.subplots(1,3,figsize=(16,4),dpi=100)\n",
        "\n",
        "axes[0].bar(df_real[\"sex\"].unique(), df_real[\"sex\"].value_counts())\n",
        "axes[0].set_title('Real Data')\n",
        "\n",
        "axes[1].bar(df_real_A[\"sex\"].unique(), df_real_A[\"sex\"].value_counts())\n",
        "axes[1].set_title('Random Mode')\n",
        "\n",
        "axes[2].bar(df_real_B[\"sex\"].unique(), df_real_B[\"sex\"].value_counts())\n",
        "axes[2].set_title('Independent Attribute Mode')"
      ]
    },
    {
      "cell_type": "markdown",
      "metadata": {
        "id": "E1-tiJN2wNPk"
      },
      "source": [
        "\n",
        "The functions below can be used to compute two statistical measures: __Two-sample Kolmogorov–Smirnov test__ and __KL-divergence__."
      ]
    },
    {
      "cell_type": "markdown",
      "metadata": {
        "id": "g-Or3PInFdan"
      },
      "source": [
        "### Two-sample Kolmogorov–Smirnov test for continuous attributes\n",
        "\n",
        "Use the `ks_test` function to run the Kolomogorov-Smirnov test on the age attribute. You should first test `df_real` against `df_real_A` and then test `df_real` against `df_real_B`."
      ]
    },
    {
      "cell_type": "code",
      "execution_count": 77,
      "metadata": {
        "id": "yTzh1CM6Fdap"
      },
      "outputs": [],
      "source": [
        "def ks_test(df_in: pd.DataFrame, df_out: pd.DataFrame, attr: str):\n",
        "    \"\"\"\n",
        "    df_in: the sensitive dataset\n",
        "    df_out: the synthetic dataset\n",
        "    attr: the attribute that will be calculated for Two-sample Kolmogorov–Smirnov test\n",
        "    \"\"\"\n",
        "    return ks_2samp(df_in[attr], df_out[attr])[0]"
      ]
    },
    {
      "cell_type": "code",
      "execution_count": 78,
      "metadata": {
        "id": "ZeqtORgGFdZ7",
        "colab": {
          "base_uri": "https://localhost:8080/"
        },
        "outputId": "b75f1484-4f37-47c0-d8cd-7647ae63ef23"
      },
      "outputs": [
        {
          "output_type": "stream",
          "name": "stdout",
          "text": [
            "0.3735091775112699\n",
            "0.026252445351705345\n"
          ]
        }
      ],
      "source": [
        "# Your code here\n",
        "ksTest1 = ks_test(df_real, df_real_A, \"age\")\n",
        "print(ksTest1)\n",
        "\n",
        "ksTest2 = ks_test(df_real, df_real_B, \"age\")\n",
        "print(ksTest2)"
      ]
    },
    {
      "cell_type": "markdown",
      "metadata": {
        "id": "X1eUjSSxFda3"
      },
      "source": [
        "### KL-divergence for categorical attributes\n",
        "\n",
        "Use the `kl_test` function to calculate the KL-divergence on the sex attribute. You should first run `df_real` against `df_real_A` and then run `df_real` against `df_real_B`."
      ]
    },
    {
      "cell_type": "code",
      "execution_count": 79,
      "metadata": {
        "id": "cidvm1mAFda3"
      },
      "outputs": [],
      "source": [
        "def get_distribution_of_categorical_attribute(attribute: pd.Series, indicies=None):\n",
        "    distribution = attribute.dropna().value_counts()\n",
        "    if indicies is not None:\n",
        "        for idx in set(indicies) - set(distribution.index):\n",
        "            distribution.loc[idx] = 0\n",
        "    distribution.sort_index(inplace=True)\n",
        "    return distribution/sum(distribution)\n",
        "\n",
        "def kl_test(df_in: pd.DataFrame, df_out: pd.DataFrame, attr: str):\n",
        "    \"\"\"\n",
        "    df_in: the sensitive dataset\n",
        "    df_out: the synthetic dataset\n",
        "    attr: the attribute that will be calculated for KL-divergence.\n",
        "    \"\"\"\n",
        "    distribution_in = get_distribution_of_categorical_attribute(df_in[attr])\n",
        "    distribution_out = get_distribution_of_categorical_attribute(df_out[attr], distribution_in.index)\n",
        "    return entropy(distribution_out, distribution_in)"
      ]
    },
    {
      "cell_type": "code",
      "execution_count": 80,
      "metadata": {
        "id": "xnABu9ADRcI0",
        "colab": {
          "base_uri": "https://localhost:8080/"
        },
        "outputId": "460e1507-3314-40d3-ba03-a41345f5f724"
      },
      "outputs": [
        {
          "output_type": "stream",
          "name": "stdout",
          "text": [
            "0.22319792405369002\n",
            "0.0002494300869420041\n"
          ]
        }
      ],
      "source": [
        "# Your code here\n",
        "klTest1 = kl_test(df_real, df_real_A, \"sex\")\n",
        "print(klTest1)\n",
        "\n",
        "klTest2 = kl_test(df_real, df_real_B, \"sex\")\n",
        "print(klTest2)"
      ]
    },
    {
      "cell_type": "markdown",
      "metadata": {
        "id": "XKzIAfI9FdbD"
      },
      "source": [
        "## Q3\n",
        "\n",
        "Calculate the pairwise mutual information matrix for `df_fake`, `df_fake_C`, and `df_fake_D`."
      ]
    },
    {
      "cell_type": "code",
      "execution_count": 81,
      "metadata": {
        "id": "NNd9mfMOVXrA",
        "colab": {
          "base_uri": "https://localhost:8080/"
        },
        "outputId": "ac223d95-2b0c-4a25-ce3e-3367eb62e1ec"
      },
      "outputs": [
        {
          "output_type": "stream",
          "name": "stdout",
          "text": [
            "Fake Data Set Pairwise Mutual Information Matrix\n",
            "           child_1   child_2  parent_1  parent_2\n",
            "child_1   1.000000  0.211242  0.214345  0.195899\n",
            "child_2   0.211242  1.000000  0.208301  0.200690\n",
            "parent_1  0.214345  0.208301  1.000000  0.002421\n",
            "parent_2  0.195899  0.200690  0.002421  1.000000\n",
            "\n",
            "Correlated Attribute Mode Pairwise Mutual Information Matrix (k=1)\n",
            "           child_1   child_2  parent_1  parent_2\n",
            "child_1   1.000000  0.229400  0.070395  0.026739\n",
            "child_2   0.229400  1.000000  0.249762  0.114695\n",
            "parent_1  0.070395  0.249762  1.000000  0.028520\n",
            "parent_2  0.026739  0.114695  0.028520  1.000000\n",
            "\n",
            "Correlated Attribute Mode Pairwise Mutual Information Matrix (k=2)\n",
            "           child_1   child_2  parent_1  parent_2\n",
            "child_1   1.000000  0.074153  0.034209  0.221418\n",
            "child_2   0.074153  1.000000  0.203135  0.110479\n",
            "parent_1  0.034209  0.203135  1.000000  0.073704\n",
            "parent_2  0.221418  0.110479  0.073704  1.000000\n"
          ]
        }
      ],
      "source": [
        "# Use pairwise_attributes_mutual_information function\n",
        "# For function parameters, refer to https://github.com/DataResponsibly/DataSynthesizer/blob/master/DataSynthesizer/lib/utils.py#L31\n",
        "pairwise_fake = pairwise_attributes_mutual_information(df_fake)\n",
        "pairwise_fake_C = pairwise_attributes_mutual_information(df_fake_C)\n",
        "pairwise_fake_D = pairwise_attributes_mutual_information(df_fake_D)\n",
        "print(\"Fake Data Set Pairwise Mutual Information Matrix\")\n",
        "print(pairwise_fake)\n",
        "print(\"\\nCorrelated Attribute Mode Pairwise Mutual Information Matrix (k=1)\")\n",
        "print(pairwise_fake_C)\n",
        "print(\"\\nCorrelated Attribute Mode Pairwise Mutual Information Matrix (k=2)\")\n",
        "print(pairwise_fake_D)"
      ]
    },
    {
      "cell_type": "markdown",
      "metadata": {
        "id": "Fsz-HYl8W6Jb"
      },
      "source": [
        "Plot each pairwise mutual information matrix below using `sns.heatmap`. You should set `vmax=1` and `vmin=0` in your call to `sns.heatmap`."
      ]
    },
    {
      "cell_type": "code",
      "execution_count": 82,
      "metadata": {
        "id": "beIDrJn3VYbS",
        "colab": {
          "base_uri": "https://localhost:8080/",
          "height": 291
        },
        "outputId": "63cb9c4b-3219-4585-fcfe-737adc7a34cb"
      },
      "outputs": [
        {
          "output_type": "execute_result",
          "data": {
            "text/plain": [
              "<matplotlib.axes._subplots.AxesSubplot at 0x7fab3f0530d0>"
            ]
          },
          "metadata": {},
          "execution_count": 82
        },
        {
          "output_type": "display_data",
          "data": {
            "text/plain": [
              "<Figure size 432x288 with 2 Axes>"
            ],
            "image/png": "[encoded data removed]"
          },
          "metadata": {
            "needs_background": "light"
          }
        }
      ],
      "source": [
        "# Use can sns.heatmap for pairwise mutual information\n",
        "# For examples, refer to https://seaborn.pydata.org/generated/seaborn.heatmap.html\n",
        "sns.heatmap(pairwise_fake,vmin=0,vmax=1)"
      ]
    },
    {
      "cell_type": "code",
      "source": [
        "sns.heatmap(pairwise_fake_C,vmin=0,vmax=1)"
      ],
      "metadata": {
        "colab": {
          "base_uri": "https://localhost:8080/",
          "height": 291
        },
        "id": "trEfdjDpy2mg",
        "outputId": "9eca82a5-00f1-41b4-fe74-de966318113d"
      },
      "execution_count": 83,
      "outputs": [
        {
          "output_type": "execute_result",
          "data": {
            "text/plain": [
              "<matplotlib.axes._subplots.AxesSubplot at 0x7fab3f450990>"
            ]
          },
          "metadata": {},
          "execution_count": 83
        },
        {
          "output_type": "display_data",
          "data": {
            "text/plain": [
              "<Figure size 432x288 with 2 Axes>"
            ],
            "image/png": "[encoded data removed]"
          },
          "metadata": {
            "needs_background": "light"
          }
        }
      ]
    },
    {
      "cell_type": "code",
      "source": [
        "sns.heatmap(pairwise_fake_D,vmin=0,vmax=1)"
      ],
      "metadata": {
        "colab": {
          "base_uri": "https://localhost:8080/",
          "height": 291
        },
        "id": "r5mq1WBly9bA",
        "outputId": "89e7ea88-463e-4a21-c3fb-e6535ea7cab6"
      },
      "execution_count": 84,
      "outputs": [
        {
          "output_type": "execute_result",
          "data": {
            "text/plain": [
              "<matplotlib.axes._subplots.AxesSubplot at 0x7fab42631690>"
            ]
          },
          "metadata": {},
          "execution_count": 84
        },
        {
          "output_type": "display_data",
          "data": {
            "text/plain": [
              "<Figure size 432x288 with 2 Axes>"
            ],
            "image/png": "[encoded data removed]"
          },
          "metadata": {
            "needs_background": "light"
          }
        }
      ]
    },
    {
      "cell_type": "markdown",
      "metadata": {
        "id": "FpoWEnYTFdbb"
      },
      "source": [
        "# Part (b)\n",
        "\n",
        "With epsilon = 0.1, generate __10__ synthetic datasets for each of mode A, B, and C by specifying different seeds. (You should generate 30 datasets in total: 10 for setting A, 10 for setting B, 10 for setting C). Calculate the mean and median in each dataset. We recommend using a for loop here, e.g. `for rep in range(10):`"
      ]
    },
    {
      "cell_type": "code",
      "execution_count": 85,
      "metadata": {
        "id": "hWMK9CkmZkPP",
        "colab": {
          "base_uri": "https://localhost:8080/"
        },
        "outputId": "89a3a66b-41e4-40c6-a9ac-37d9303c6388"
      },
      "outputs": [
        {
          "output_type": "stream",
          "name": "stdout",
          "text": [
            "\n",
            "rep: 1\n",
            "Random Mode Mean: 50.1731\n",
            "Random Mode Median: 51.0\n",
            "Independent Attribute Mode Mean: 35.7354\n",
            "Independent Attribute Mode Median: 33.0\n",
            "================ Constructing Bayesian Network (BN) ================\n",
            "Adding ROOT score\n",
            "Adding attribute age\n",
            "Adding attribute race\n",
            "Adding attribute sex\n",
            "========================== BN constructed ==========================\n",
            "Correlated Attribute Mode Mean: 41.5788\n",
            "Correlated Attribute Mode Median: 36.0\n",
            "\n",
            "rep: 2\n",
            "Random Mode Mean: 49.8201\n",
            "Random Mode Median: 49.0\n",
            "Independent Attribute Mode Mean: 36.9584\n",
            "Independent Attribute Mode Median: 33.0\n",
            "================ Constructing Bayesian Network (BN) ================\n",
            "Adding ROOT age\n",
            "Adding attribute score\n",
            "Adding attribute race\n",
            "Adding attribute sex\n",
            "========================== BN constructed ==========================\n",
            "Correlated Attribute Mode Mean: 44.039\n",
            "Correlated Attribute Mode Median: 38.0\n",
            "\n",
            "rep: 3\n",
            "Random Mode Mean: 50.638\n",
            "Random Mode Median: 51.0\n",
            "Independent Attribute Mode Mean: 36.0901\n",
            "Independent Attribute Mode Median: 33.0\n",
            "================ Constructing Bayesian Network (BN) ================\n",
            "Adding ROOT age\n",
            "Adding attribute sex\n",
            "Adding attribute score\n",
            "Adding attribute race\n",
            "========================== BN constructed ==========================\n",
            "Correlated Attribute Mode Mean: 40.037\n",
            "Correlated Attribute Mode Median: 35.0\n",
            "\n",
            "rep: 4\n",
            "Random Mode Mean: 50.1614\n",
            "Random Mode Median: 50.0\n",
            "Independent Attribute Mode Mean: 36.3214\n",
            "Independent Attribute Mode Median: 33.0\n",
            "================ Constructing Bayesian Network (BN) ================\n",
            "Adding ROOT race\n",
            "Adding attribute score\n",
            "Adding attribute age\n",
            "Adding attribute sex\n",
            "========================== BN constructed ==========================\n",
            "Correlated Attribute Mode Mean: 41.676\n",
            "Correlated Attribute Mode Median: 36.0\n",
            "\n",
            "rep: 5\n",
            "Random Mode Mean: 50.1171\n",
            "Random Mode Median: 50.0\n",
            "Independent Attribute Mode Mean: 36.4302\n",
            "Independent Attribute Mode Median: 33.0\n",
            "================ Constructing Bayesian Network (BN) ================\n",
            "Adding ROOT race\n",
            "Adding attribute age\n",
            "Adding attribute sex\n",
            "Adding attribute score\n",
            "========================== BN constructed ==========================\n",
            "Correlated Attribute Mode Mean: 40.071\n",
            "Correlated Attribute Mode Median: 35.0\n",
            "\n",
            "rep: 6\n",
            "Random Mode Mean: 49.8993\n",
            "Random Mode Median: 50.0\n",
            "Independent Attribute Mode Mean: 34.8719\n",
            "Independent Attribute Mode Median: 31.0\n",
            "================ Constructing Bayesian Network (BN) ================\n",
            "Adding ROOT age\n",
            "Adding attribute score\n",
            "Adding attribute race\n",
            "Adding attribute sex\n",
            "========================== BN constructed ==========================\n",
            "Correlated Attribute Mode Mean: 42.9967\n",
            "Correlated Attribute Mode Median: 36.0\n",
            "\n",
            "rep: 7\n",
            "Random Mode Mean: 49.5898\n",
            "Random Mode Median: 50.0\n",
            "Independent Attribute Mode Mean: 37.0742\n",
            "Independent Attribute Mode Median: 32.0\n",
            "================ Constructing Bayesian Network (BN) ================\n",
            "Adding ROOT sex\n",
            "Adding attribute age\n",
            "Adding attribute score\n",
            "Adding attribute race\n",
            "========================== BN constructed ==========================\n",
            "Correlated Attribute Mode Mean: 36.1286\n",
            "Correlated Attribute Mode Median: 32.0\n",
            "\n",
            "rep: 8\n",
            "Random Mode Mean: 50.3284\n",
            "Random Mode Median: 51.0\n",
            "Independent Attribute Mode Mean: 36.5627\n",
            "Independent Attribute Mode Median: 32.0\n",
            "================ Constructing Bayesian Network (BN) ================\n",
            "Adding ROOT score\n",
            "Adding attribute sex\n",
            "Adding attribute age\n",
            "Adding attribute race\n",
            "========================== BN constructed ==========================\n",
            "Correlated Attribute Mode Mean: 43.7623\n",
            "Correlated Attribute Mode Median: 39.0\n",
            "\n",
            "rep: 9\n",
            "Random Mode Mean: 49.7227\n",
            "Random Mode Median: 49.0\n",
            "Independent Attribute Mode Mean: 36.1204\n",
            "Independent Attribute Mode Median: 32.0\n",
            "================ Constructing Bayesian Network (BN) ================\n",
            "Adding ROOT age\n",
            "Adding attribute race\n",
            "Adding attribute sex\n",
            "Adding attribute score\n",
            "========================== BN constructed ==========================\n",
            "Correlated Attribute Mode Mean: 40.7417\n",
            "Correlated Attribute Mode Median: 35.0\n",
            "\n",
            "rep: 10\n",
            "Random Mode Mean: 49.9459\n",
            "Random Mode Median: 50.0\n",
            "Independent Attribute Mode Mean: 35.5626\n",
            "Independent Attribute Mode Median: 32.0\n",
            "================ Constructing Bayesian Network (BN) ================\n",
            "Adding ROOT age\n",
            "Adding attribute score\n",
            "Adding attribute race\n",
            "Adding attribute sex\n",
            "========================== BN constructed ==========================\n",
            "Correlated Attribute Mode Mean: 43.5333\n",
            "Correlated Attribute Mode Median: 36.0\n"
          ]
        }
      ],
      "source": [
        "set_random_seed(seed) # this will specify different seeds\n",
        "data = []\n",
        "for rep in range(10):\n",
        "  temp_A = []\n",
        "  temp_B = []\n",
        "  temp_C = []\n",
        "  print(\"\\nrep:\", rep+1)\n",
        "  synthetic_A = generate_data_A(real_data_file,output_data_size,seed=seed)\n",
        "  temp_A.append(\"A\")\n",
        "  temp_A.append(synthetic_A[\"age\"].mean())\n",
        "  temp_A.append(synthetic_A[\"age\"].median())\n",
        "  print(\"Random Mode Mean:\", synthetic_A[\"age\"].mean())\n",
        "  print(\"Random Mode Median:\", synthetic_A[\"age\"].median())\n",
        "  synthetic_B = generate_data_B(real_data_file,output_data_size,epsilon=0.1,seed=seed)\n",
        "  temp_B.append(\"B\")\n",
        "  temp_B.append(synthetic_B[\"age\"].mean())\n",
        "  temp_B.append(synthetic_B[\"age\"].median())\n",
        "  print(\"Independent Attribute Mode Mean:\", synthetic_B[\"age\"].mean())\n",
        "  print(\"Independent Attribute Mode Median:\", synthetic_B[\"age\"].median())\n",
        "  synthetic_C = generate_data_C(real_data_file,output_data_size,epsilon=0.1,seed=seed)\n",
        "  temp_C.append(\"C\")\n",
        "  temp_C.append(synthetic_C[\"age\"].mean())\n",
        "  temp_C.append(synthetic_C[\"age\"].median())\n",
        "  print(\"Correlated Attribute Mode Mean:\", synthetic_C[\"age\"].mean())\n",
        "  print(\"Correlated Attribute Mode Median:\", synthetic_C[\"age\"].median())\n",
        "  data.append(temp_A)\n",
        "  data.append(temp_B)\n",
        "  data.append(temp_C)\n"
      ]
    },
    {
      "cell_type": "code",
      "source": [
        "df = pd.DataFrame(data)\n",
        "df.columns = [\"Mode\",\"Mean\",\"Median\"]"
      ],
      "metadata": {
        "id": "es466RUDBWjw"
      },
      "execution_count": 86,
      "outputs": []
    },
    {
      "cell_type": "markdown",
      "metadata": {
        "id": "EYGz8C_2Zl2q"
      },
      "source": [
        "Plot the mean and the median values as box-and-whiskers plots. You should have two plots: one for the mean and one for the median. Put the mode (A, B, C) on the x-axis. The median/mean should be on the y-axis."
      ]
    },
    {
      "cell_type": "code",
      "execution_count": 87,
      "metadata": {
        "id": "xTEwLoi0Fdbb",
        "colab": {
          "base_uri": "https://localhost:8080/",
          "height": 553
        },
        "outputId": "86d08546-7325-4560-f8ff-8e50cf8d064f"
      },
      "outputs": [
        {
          "output_type": "display_data",
          "data": {
            "text/plain": [
              "<Figure size 432x288 with 1 Axes>"
            ],
            "image/png": "[encoded data removed]"
          },
          "metadata": {
            "needs_background": "light"
          }
        },
        {
          "output_type": "display_data",
          "data": {
            "text/plain": [
              "<Figure size 432x288 with 1 Axes>"
            ],
            "image/png": "[encoded data removed]"
          },
          "metadata": {
            "needs_background": "light"
          }
        }
      ],
      "source": [
        "# You can use sns.boxplot for the plots\n",
        "# For examples, refer to https://seaborn.pydata.org/generated/seaborn.boxplot.html\n",
        "sns.boxplot(x=\"Mode\",y=\"Mean\",data=df)\n",
        "plt.show()\n",
        "\n",
        "sns.boxplot(x=\"Mode\",y=\"Median\",data=df)\n",
        "plt.show()"
      ]
    },
    {
      "cell_type": "markdown",
      "metadata": {
        "id": "UINl2ivCFdbk"
      },
      "source": [
        "# Part (c)\n",
        "\n",
        "Study how the KL-divergence of the race attribute changes for settings B, C, and D as you vary your privacy budget __epsilon__ = [0.02, 0.04, ... , 0.1]. For each setting B, C, D, you should generate 10 synthetic data sets for each epsilon value (a total of 3 * 10 * 5 = 150 datasets). \n",
        "\n",
        "Hint: We recommend using a nested for loop and have provided some starter code in the cell below. You may use a different approach as you see fit."
      ]
    },
    {
      "cell_type": "code",
      "execution_count": 88,
      "metadata": {
        "id": "m1bao_uxFdbl",
        "colab": {
          "base_uri": "https://localhost:8080/"
        },
        "outputId": "c3282537-95be-4dd7-aa46-72cade4f345d"
      },
      "outputs": [
        {
          "output_type": "stream",
          "name": "stdout",
          "text": [
            "~~~ i=0, epsilon=0.02 ~~~\n",
            "================ Constructing Bayesian Network (BN) ================\n",
            "Adding ROOT sex\n",
            "Adding attribute age\n",
            "Adding attribute race\n",
            "Adding attribute score\n",
            "========================== BN constructed ==========================\n",
            "================ Constructing Bayesian Network (BN) ================\n",
            "Adding ROOT race\n",
            "Adding attribute age\n",
            "Adding attribute sex\n",
            "Adding attribute score\n",
            "========================== BN constructed ==========================\n",
            "================ Constructing Bayesian Network (BN) ================\n",
            "Adding ROOT sex\n",
            "Adding attribute age\n",
            "Adding attribute race\n",
            "Adding attribute score\n",
            "========================== BN constructed ==========================\n",
            "================ Constructing Bayesian Network (BN) ================\n",
            "Adding ROOT race\n",
            "Adding attribute sex\n",
            "Adding attribute score\n",
            "Adding attribute age\n",
            "========================== BN constructed ==========================\n",
            "================ Constructing Bayesian Network (BN) ================\n",
            "Adding ROOT race\n",
            "Adding attribute age\n",
            "Adding attribute score\n",
            "Adding attribute sex\n",
            "========================== BN constructed ==========================\n",
            "================ Constructing Bayesian Network (BN) ================\n",
            "Adding ROOT sex\n",
            "Adding attribute race\n",
            "Adding attribute score\n",
            "Adding attribute age\n",
            "========================== BN constructed ==========================\n",
            "================ Constructing Bayesian Network (BN) ================\n",
            "Adding ROOT sex\n",
            "Adding attribute age\n",
            "Adding attribute race\n",
            "Adding attribute score\n",
            "========================== BN constructed ==========================\n",
            "================ Constructing Bayesian Network (BN) ================\n",
            "Adding ROOT race\n",
            "Adding attribute sex\n",
            "Adding attribute score\n",
            "Adding attribute age\n",
            "========================== BN constructed ==========================\n",
            "================ Constructing Bayesian Network (BN) ================\n",
            "Adding ROOT sex\n",
            "Adding attribute race\n",
            "Adding attribute age\n",
            "Adding attribute score\n",
            "========================== BN constructed ==========================\n",
            "================ Constructing Bayesian Network (BN) ================\n",
            "Adding ROOT race\n",
            "Adding attribute sex\n",
            "Adding attribute age\n",
            "Adding attribute score\n",
            "========================== BN constructed ==========================\n",
            "================ Constructing Bayesian Network (BN) ================\n",
            "Adding ROOT sex\n",
            "Adding attribute race\n",
            "Adding attribute score\n",
            "Adding attribute age\n",
            "========================== BN constructed ==========================\n",
            "================ Constructing Bayesian Network (BN) ================\n",
            "Adding ROOT sex\n",
            "Adding attribute race\n",
            "Adding attribute score\n",
            "Adding attribute age\n",
            "========================== BN constructed ==========================\n",
            "================ Constructing Bayesian Network (BN) ================\n",
            "Adding ROOT age\n",
            "Adding attribute race\n",
            "Adding attribute score\n",
            "Adding attribute sex\n",
            "========================== BN constructed ==========================\n",
            "================ Constructing Bayesian Network (BN) ================\n",
            "Adding ROOT age\n",
            "Adding attribute sex\n",
            "Adding attribute race\n",
            "Adding attribute score\n",
            "========================== BN constructed ==========================\n",
            "================ Constructing Bayesian Network (BN) ================\n",
            "Adding ROOT age\n",
            "Adding attribute score\n",
            "Adding attribute race\n",
            "Adding attribute sex\n",
            "========================== BN constructed ==========================\n",
            "================ Constructing Bayesian Network (BN) ================\n",
            "Adding ROOT score\n",
            "Adding attribute race\n",
            "Adding attribute age\n",
            "Adding attribute sex\n",
            "========================== BN constructed ==========================\n",
            "================ Constructing Bayesian Network (BN) ================\n",
            "Adding ROOT race\n",
            "Adding attribute score\n",
            "Adding attribute age\n",
            "Adding attribute sex\n",
            "========================== BN constructed ==========================\n",
            "================ Constructing Bayesian Network (BN) ================\n",
            "Adding ROOT sex\n",
            "Adding attribute age\n",
            "Adding attribute score\n",
            "Adding attribute race\n",
            "========================== BN constructed ==========================\n",
            "================ Constructing Bayesian Network (BN) ================\n",
            "Adding ROOT sex\n",
            "Adding attribute race\n",
            "Adding attribute score\n",
            "Adding attribute age\n",
            "========================== BN constructed ==========================\n",
            "================ Constructing Bayesian Network (BN) ================\n",
            "Adding ROOT race\n",
            "Adding attribute age\n",
            "Adding attribute score\n",
            "Adding attribute sex\n",
            "========================== BN constructed ==========================\n",
            "~~~ i=1, epsilon=0.04 ~~~\n",
            "================ Constructing Bayesian Network (BN) ================\n",
            "Adding ROOT sex\n",
            "Adding attribute score\n",
            "Adding attribute race\n",
            "Adding attribute age\n",
            "========================== BN constructed ==========================\n",
            "================ Constructing Bayesian Network (BN) ================\n",
            "Adding ROOT score\n",
            "Adding attribute age\n",
            "Adding attribute sex\n",
            "Adding attribute race\n",
            "========================== BN constructed ==========================\n",
            "================ Constructing Bayesian Network (BN) ================\n",
            "Adding ROOT age\n",
            "Adding attribute score\n",
            "Adding attribute race\n",
            "Adding attribute sex\n",
            "========================== BN constructed ==========================\n",
            "================ Constructing Bayesian Network (BN) ================\n",
            "Adding ROOT age\n",
            "Adding attribute race\n",
            "Adding attribute sex\n",
            "Adding attribute score\n",
            "========================== BN constructed ==========================\n",
            "================ Constructing Bayesian Network (BN) ================\n",
            "Adding ROOT race\n",
            "Adding attribute sex\n",
            "Adding attribute age\n",
            "Adding attribute score\n",
            "========================== BN constructed ==========================\n",
            "================ Constructing Bayesian Network (BN) ================\n",
            "Adding ROOT race\n",
            "Adding attribute age\n",
            "Adding attribute sex\n",
            "Adding attribute score\n",
            "========================== BN constructed ==========================\n",
            "================ Constructing Bayesian Network (BN) ================\n",
            "Adding ROOT score\n",
            "Adding attribute race\n",
            "Adding attribute sex\n",
            "Adding attribute age\n",
            "========================== BN constructed ==========================\n",
            "================ Constructing Bayesian Network (BN) ================\n",
            "Adding ROOT race\n",
            "Adding attribute score\n",
            "Adding attribute age\n",
            "Adding attribute sex\n",
            "========================== BN constructed ==========================\n",
            "================ Constructing Bayesian Network (BN) ================\n",
            "Adding ROOT race\n",
            "Adding attribute score\n",
            "Adding attribute age\n",
            "Adding attribute sex\n",
            "========================== BN constructed ==========================\n",
            "================ Constructing Bayesian Network (BN) ================\n",
            "Adding ROOT age\n",
            "Adding attribute race\n",
            "Adding attribute score\n",
            "Adding attribute sex\n",
            "========================== BN constructed ==========================\n",
            "================ Constructing Bayesian Network (BN) ================\n",
            "Adding ROOT race\n",
            "Adding attribute sex\n",
            "Adding attribute score\n",
            "Adding attribute age\n",
            "========================== BN constructed ==========================\n",
            "================ Constructing Bayesian Network (BN) ================\n",
            "Adding ROOT race\n",
            "Adding attribute sex\n",
            "Adding attribute score\n",
            "Adding attribute age\n",
            "========================== BN constructed ==========================\n",
            "================ Constructing Bayesian Network (BN) ================\n",
            "Adding ROOT score\n",
            "Adding attribute race\n",
            "Adding attribute age\n",
            "Adding attribute sex\n",
            "========================== BN constructed ==========================\n",
            "================ Constructing Bayesian Network (BN) ================\n",
            "Adding ROOT sex\n",
            "Adding attribute age\n",
            "Adding attribute race\n",
            "Adding attribute score\n",
            "========================== BN constructed ==========================\n",
            "================ Constructing Bayesian Network (BN) ================\n",
            "Adding ROOT race\n",
            "Adding attribute age\n",
            "Adding attribute score\n",
            "Adding attribute sex\n",
            "========================== BN constructed ==========================\n",
            "================ Constructing Bayesian Network (BN) ================\n",
            "Adding ROOT race\n",
            "Adding attribute score\n",
            "Adding attribute sex\n",
            "Adding attribute age\n",
            "========================== BN constructed ==========================\n",
            "================ Constructing Bayesian Network (BN) ================\n",
            "Adding ROOT race\n",
            "Adding attribute score\n",
            "Adding attribute sex\n",
            "Adding attribute age\n",
            "========================== BN constructed ==========================\n",
            "================ Constructing Bayesian Network (BN) ================\n",
            "Adding ROOT race\n",
            "Adding attribute age\n",
            "Adding attribute sex\n",
            "Adding attribute score\n",
            "========================== BN constructed ==========================\n",
            "================ Constructing Bayesian Network (BN) ================\n",
            "Adding ROOT age\n",
            "Adding attribute score\n",
            "Adding attribute race\n",
            "Adding attribute sex\n",
            "========================== BN constructed ==========================\n",
            "================ Constructing Bayesian Network (BN) ================\n",
            "Adding ROOT age\n",
            "Adding attribute score\n",
            "Adding attribute sex\n",
            "Adding attribute race\n",
            "========================== BN constructed ==========================\n",
            "~~~ i=2, epsilon=0.06 ~~~\n",
            "================ Constructing Bayesian Network (BN) ================\n",
            "Adding ROOT race\n",
            "Adding attribute score\n",
            "Adding attribute age\n",
            "Adding attribute sex\n",
            "========================== BN constructed ==========================\n",
            "================ Constructing Bayesian Network (BN) ================\n",
            "Adding ROOT score\n",
            "Adding attribute race\n",
            "Adding attribute sex\n",
            "Adding attribute age\n",
            "========================== BN constructed ==========================\n",
            "================ Constructing Bayesian Network (BN) ================\n",
            "Adding ROOT age\n",
            "Adding attribute race\n",
            "Adding attribute sex\n",
            "Adding attribute score\n",
            "========================== BN constructed ==========================\n",
            "================ Constructing Bayesian Network (BN) ================\n",
            "Adding ROOT race\n",
            "Adding attribute sex\n",
            "Adding attribute age\n",
            "Adding attribute score\n",
            "========================== BN constructed ==========================\n",
            "================ Constructing Bayesian Network (BN) ================\n",
            "Adding ROOT race\n",
            "Adding attribute score\n",
            "Adding attribute age\n",
            "Adding attribute sex\n",
            "========================== BN constructed ==========================\n",
            "================ Constructing Bayesian Network (BN) ================\n",
            "Adding ROOT sex\n",
            "Adding attribute race\n",
            "Adding attribute score\n",
            "Adding attribute age\n",
            "========================== BN constructed ==========================\n",
            "================ Constructing Bayesian Network (BN) ================\n",
            "Adding ROOT sex\n",
            "Adding attribute race\n",
            "Adding attribute score\n",
            "Adding attribute age\n",
            "========================== BN constructed ==========================\n",
            "================ Constructing Bayesian Network (BN) ================\n",
            "Adding ROOT sex\n",
            "Adding attribute race\n",
            "Adding attribute age\n",
            "Adding attribute score\n",
            "========================== BN constructed ==========================\n",
            "================ Constructing Bayesian Network (BN) ================\n",
            "Adding ROOT sex\n",
            "Adding attribute race\n",
            "Adding attribute age\n",
            "Adding attribute score\n",
            "========================== BN constructed ==========================\n",
            "================ Constructing Bayesian Network (BN) ================\n",
            "Adding ROOT race\n",
            "Adding attribute score\n",
            "Adding attribute sex\n",
            "Adding attribute age\n",
            "========================== BN constructed ==========================\n",
            "================ Constructing Bayesian Network (BN) ================\n",
            "Adding ROOT sex\n",
            "Adding attribute age\n",
            "Adding attribute race\n",
            "Adding attribute score\n",
            "========================== BN constructed ==========================\n",
            "================ Constructing Bayesian Network (BN) ================\n",
            "Adding ROOT sex\n",
            "Adding attribute age\n",
            "Adding attribute score\n",
            "Adding attribute race\n",
            "========================== BN constructed ==========================\n",
            "================ Constructing Bayesian Network (BN) ================\n",
            "Adding ROOT age\n",
            "Adding attribute score\n",
            "Adding attribute race\n",
            "Adding attribute sex\n",
            "========================== BN constructed ==========================\n",
            "================ Constructing Bayesian Network (BN) ================\n",
            "Adding ROOT age\n",
            "Adding attribute score\n",
            "Adding attribute race\n",
            "Adding attribute sex\n",
            "========================== BN constructed ==========================\n",
            "================ Constructing Bayesian Network (BN) ================\n",
            "Adding ROOT sex\n",
            "Adding attribute age\n",
            "Adding attribute score\n",
            "Adding attribute race\n",
            "========================== BN constructed ==========================\n",
            "================ Constructing Bayesian Network (BN) ================\n",
            "Adding ROOT score\n",
            "Adding attribute sex\n",
            "Adding attribute age\n",
            "Adding attribute race\n",
            "========================== BN constructed ==========================\n",
            "================ Constructing Bayesian Network (BN) ================\n",
            "Adding ROOT age\n",
            "Adding attribute race\n",
            "Adding attribute score\n",
            "Adding attribute sex\n",
            "========================== BN constructed ==========================\n",
            "================ Constructing Bayesian Network (BN) ================\n",
            "Adding ROOT race\n",
            "Adding attribute age\n",
            "Adding attribute score\n",
            "Adding attribute sex\n",
            "========================== BN constructed ==========================\n",
            "================ Constructing Bayesian Network (BN) ================\n",
            "Adding ROOT race\n",
            "Adding attribute sex\n",
            "Adding attribute age\n",
            "Adding attribute score\n",
            "========================== BN constructed ==========================\n",
            "================ Constructing Bayesian Network (BN) ================\n",
            "Adding ROOT sex\n",
            "Adding attribute race\n",
            "Adding attribute score\n",
            "Adding attribute age\n",
            "========================== BN constructed ==========================\n",
            "~~~ i=3, epsilon=0.08 ~~~\n",
            "================ Constructing Bayesian Network (BN) ================\n",
            "Adding ROOT score\n",
            "Adding attribute race\n",
            "Adding attribute sex\n",
            "Adding attribute age\n",
            "========================== BN constructed ==========================\n",
            "================ Constructing Bayesian Network (BN) ================\n",
            "Adding ROOT sex\n",
            "Adding attribute age\n",
            "Adding attribute score\n",
            "Adding attribute race\n",
            "========================== BN constructed ==========================\n",
            "================ Constructing Bayesian Network (BN) ================\n",
            "Adding ROOT age\n",
            "Adding attribute score\n",
            "Adding attribute sex\n",
            "Adding attribute race\n",
            "========================== BN constructed ==========================\n",
            "================ Constructing Bayesian Network (BN) ================\n",
            "Adding ROOT sex\n",
            "Adding attribute age\n",
            "Adding attribute score\n",
            "Adding attribute race\n",
            "========================== BN constructed ==========================\n",
            "================ Constructing Bayesian Network (BN) ================\n",
            "Adding ROOT age\n",
            "Adding attribute sex\n",
            "Adding attribute score\n",
            "Adding attribute race\n",
            "========================== BN constructed ==========================\n",
            "================ Constructing Bayesian Network (BN) ================\n",
            "Adding ROOT age\n",
            "Adding attribute score\n",
            "Adding attribute race\n",
            "Adding attribute sex\n",
            "========================== BN constructed ==========================\n",
            "================ Constructing Bayesian Network (BN) ================\n",
            "Adding ROOT score\n",
            "Adding attribute race\n",
            "Adding attribute age\n",
            "Adding attribute sex\n",
            "========================== BN constructed ==========================\n",
            "================ Constructing Bayesian Network (BN) ================\n",
            "Adding ROOT score\n",
            "Adding attribute race\n",
            "Adding attribute age\n",
            "Adding attribute sex\n",
            "========================== BN constructed ==========================\n",
            "================ Constructing Bayesian Network (BN) ================\n",
            "Adding ROOT age\n",
            "Adding attribute race\n",
            "Adding attribute sex\n",
            "Adding attribute score\n",
            "========================== BN constructed ==========================\n",
            "================ Constructing Bayesian Network (BN) ================\n",
            "Adding ROOT race\n",
            "Adding attribute age\n",
            "Adding attribute score\n",
            "Adding attribute sex\n",
            "========================== BN constructed ==========================\n",
            "================ Constructing Bayesian Network (BN) ================\n",
            "Adding ROOT race\n",
            "Adding attribute age\n",
            "Adding attribute sex\n",
            "Adding attribute score\n",
            "========================== BN constructed ==========================\n",
            "================ Constructing Bayesian Network (BN) ================\n",
            "Adding ROOT sex\n",
            "Adding attribute score\n",
            "Adding attribute age\n",
            "Adding attribute race\n",
            "========================== BN constructed ==========================\n",
            "================ Constructing Bayesian Network (BN) ================\n",
            "Adding ROOT score\n",
            "Adding attribute age\n",
            "Adding attribute race\n",
            "Adding attribute sex\n",
            "========================== BN constructed ==========================\n",
            "================ Constructing Bayesian Network (BN) ================\n",
            "Adding ROOT race\n",
            "Adding attribute score\n",
            "Adding attribute sex\n",
            "Adding attribute age\n",
            "========================== BN constructed ==========================\n",
            "================ Constructing Bayesian Network (BN) ================\n",
            "Adding ROOT age\n",
            "Adding attribute score\n",
            "Adding attribute race\n",
            "Adding attribute sex\n",
            "========================== BN constructed ==========================\n",
            "================ Constructing Bayesian Network (BN) ================\n",
            "Adding ROOT score\n",
            "Adding attribute age\n",
            "Adding attribute sex\n",
            "Adding attribute race\n",
            "========================== BN constructed ==========================\n",
            "================ Constructing Bayesian Network (BN) ================\n",
            "Adding ROOT race\n",
            "Adding attribute age\n",
            "Adding attribute score\n",
            "Adding attribute sex\n",
            "========================== BN constructed ==========================\n",
            "================ Constructing Bayesian Network (BN) ================\n",
            "Adding ROOT age\n",
            "Adding attribute score\n",
            "Adding attribute sex\n",
            "Adding attribute race\n",
            "========================== BN constructed ==========================\n",
            "================ Constructing Bayesian Network (BN) ================\n",
            "Adding ROOT score\n",
            "Adding attribute age\n",
            "Adding attribute race\n",
            "Adding attribute sex\n",
            "========================== BN constructed ==========================\n",
            "================ Constructing Bayesian Network (BN) ================\n",
            "Adding ROOT age\n",
            "Adding attribute score\n",
            "Adding attribute sex\n",
            "Adding attribute race\n",
            "========================== BN constructed ==========================\n",
            "~~~ i=4, epsilon=0.1 ~~~\n",
            "================ Constructing Bayesian Network (BN) ================\n",
            "Adding ROOT age\n",
            "Adding attribute race\n",
            "Adding attribute sex\n",
            "Adding attribute score\n",
            "========================== BN constructed ==========================\n",
            "================ Constructing Bayesian Network (BN) ================\n",
            "Adding ROOT race\n",
            "Adding attribute age\n",
            "Adding attribute score\n",
            "Adding attribute sex\n",
            "========================== BN constructed ==========================\n",
            "================ Constructing Bayesian Network (BN) ================\n",
            "Adding ROOT age\n",
            "Adding attribute score\n",
            "Adding attribute race\n",
            "Adding attribute sex\n",
            "========================== BN constructed ==========================\n",
            "================ Constructing Bayesian Network (BN) ================\n",
            "Adding ROOT age\n",
            "Adding attribute race\n",
            "Adding attribute score\n",
            "Adding attribute sex\n",
            "========================== BN constructed ==========================\n",
            "================ Constructing Bayesian Network (BN) ================\n",
            "Adding ROOT sex\n",
            "Adding attribute score\n",
            "Adding attribute age\n",
            "Adding attribute race\n",
            "========================== BN constructed ==========================\n",
            "================ Constructing Bayesian Network (BN) ================\n",
            "Adding ROOT age\n",
            "Adding attribute score\n",
            "Adding attribute sex\n",
            "Adding attribute race\n",
            "========================== BN constructed ==========================\n",
            "================ Constructing Bayesian Network (BN) ================\n",
            "Adding ROOT score\n",
            "Adding attribute age\n",
            "Adding attribute sex\n",
            "Adding attribute race\n",
            "========================== BN constructed ==========================\n",
            "================ Constructing Bayesian Network (BN) ================\n",
            "Adding ROOT race\n",
            "Adding attribute age\n",
            "Adding attribute score\n",
            "Adding attribute sex\n",
            "========================== BN constructed ==========================\n",
            "================ Constructing Bayesian Network (BN) ================\n",
            "Adding ROOT race\n",
            "Adding attribute age\n",
            "Adding attribute score\n",
            "Adding attribute sex\n",
            "========================== BN constructed ==========================\n",
            "================ Constructing Bayesian Network (BN) ================\n",
            "Adding ROOT sex\n",
            "Adding attribute race\n",
            "Adding attribute score\n",
            "Adding attribute age\n",
            "========================== BN constructed ==========================\n",
            "================ Constructing Bayesian Network (BN) ================\n",
            "Adding ROOT score\n",
            "Adding attribute race\n",
            "Adding attribute sex\n",
            "Adding attribute age\n",
            "========================== BN constructed ==========================\n",
            "================ Constructing Bayesian Network (BN) ================\n",
            "Adding ROOT race\n",
            "Adding attribute score\n",
            "Adding attribute age\n",
            "Adding attribute sex\n",
            "========================== BN constructed ==========================\n",
            "================ Constructing Bayesian Network (BN) ================\n",
            "Adding ROOT sex\n",
            "Adding attribute age\n",
            "Adding attribute score\n",
            "Adding attribute race\n",
            "========================== BN constructed ==========================\n",
            "================ Constructing Bayesian Network (BN) ================\n",
            "Adding ROOT age\n",
            "Adding attribute sex\n",
            "Adding attribute score\n",
            "Adding attribute race\n",
            "========================== BN constructed ==========================\n",
            "================ Constructing Bayesian Network (BN) ================\n",
            "Adding ROOT score\n",
            "Adding attribute sex\n",
            "Adding attribute race\n",
            "Adding attribute age\n",
            "========================== BN constructed ==========================\n",
            "================ Constructing Bayesian Network (BN) ================\n",
            "Adding ROOT score\n",
            "Adding attribute race\n",
            "Adding attribute age\n",
            "Adding attribute sex\n",
            "========================== BN constructed ==========================\n",
            "================ Constructing Bayesian Network (BN) ================\n",
            "Adding ROOT score\n",
            "Adding attribute race\n",
            "Adding attribute sex\n",
            "Adding attribute age\n",
            "========================== BN constructed ==========================\n",
            "================ Constructing Bayesian Network (BN) ================\n",
            "Adding ROOT age\n",
            "Adding attribute sex\n",
            "Adding attribute score\n",
            "Adding attribute race\n",
            "========================== BN constructed ==========================\n",
            "================ Constructing Bayesian Network (BN) ================\n",
            "Adding ROOT race\n",
            "Adding attribute age\n",
            "Adding attribute score\n",
            "Adding attribute sex\n",
            "========================== BN constructed ==========================\n",
            "================ Constructing Bayesian Network (BN) ================\n",
            "Adding ROOT race\n",
            "Adding attribute age\n",
            "Adding attribute sex\n",
            "Adding attribute score\n",
            "========================== BN constructed ==========================\n"
          ]
        }
      ],
      "source": [
        "# generate the datasets and calculate KL-divergence in this cell\n",
        "set_random_seed(seed)\n",
        "epsilons = [0.02, 0.04, 0.06, 0.08, 0.1]\n",
        "repeat = 10\n",
        "arr_B = []\n",
        "arr_C = [] \n",
        "arr_D = []\n",
        "for i, epsilon in enumerate(epsilons):\n",
        "  print(f'~~~ i={i}, epsilon={epsilon} ~~~')\n",
        "  for rep in range(repeat):\n",
        "    temp_B = []\n",
        "    temp_C = []\n",
        "    temp_D = []\n",
        "    synthetic_B = generate_data_B(real_data_file,output_data_size, epsilon=epsilon,seed=seed)\n",
        "    temp_B.append(epsilon)\n",
        "    temp_B.append(kl_test(df_real, synthetic_B, \"race\"))\n",
        "    synthetic_C = generate_data_C(real_data_file,output_data_size, epsilon=epsilon,seed=seed)\n",
        "    temp_C.append(epsilon)\n",
        "    temp_C.append(kl_test(df_real, synthetic_C, \"race\"))\n",
        "    synthetic_D = generate_data_D(real_data_file,output_data_size, epsilon=epsilon,seed=seed)\n",
        "    temp_D.append(epsilon)\n",
        "    temp_D.append(kl_test(df_real, synthetic_D, \"race\"))\n",
        "    arr_B.append(temp_B)\n",
        "    arr_C.append(temp_C)\n",
        "    arr_D.append(temp_D)"
      ]
    },
    {
      "cell_type": "markdown",
      "metadata": {
        "id": "kMeBhq-ktwD_"
      },
      "source": [
        "Create the box-and-whisker plots in the cell below."
      ]
    },
    {
      "cell_type": "code",
      "source": [
        "kl_b = pd.DataFrame(arr_B)\n",
        "kl_b.columns = [\"epsilons\", \"kl_score\"]\n",
        "\n",
        "kl_c = pd.DataFrame(arr_C)\n",
        "kl_c.columns = [\"epsilons\", \"kl_score\"]\n",
        "\n",
        "kl_d = pd.DataFrame(arr_D)\n",
        "kl_d.columns = [\"epsilons\", \"kl_score\"]\n",
        "\n",
        "(sns.boxplot(x=\"epsilons\",y=\"kl_score\",data=kl_b))\n",
        "plt.title(\"KL Scores for Independent Attribute Mode\")\n",
        "plt.show()\n",
        "\n",
        "(sns.boxplot(x=\"epsilons\",y=\"kl_score\",data=kl_c))\n",
        "plt.title(\"KL Scores for Correlated Attribute Mode (k=1)\")\n",
        "plt.show()\n",
        "\n",
        "(sns.boxplot(x=\"epsilons\",y=\"kl_score\",data=kl_d))\n",
        "plt.title(\"KL Scores for Correlated Attribute Mode (k=2)\")\n",
        "plt.show()"
      ],
      "metadata": {
        "colab": {
          "base_uri": "https://localhost:8080/",
          "height": 869
        },
        "id": "DytW0ukAxD1b",
        "outputId": "0f336ad1-222b-4954-c123-3ffb3ce31269"
      },
      "execution_count": 89,
      "outputs": [
        {
          "output_type": "display_data",
          "data": {
            "text/plain": [
              "<Figure size 432x288 with 1 Axes>"
            ],
            "image/png": "[encoded data removed]"
          },
          "metadata": {
            "needs_background": "light"
          }
        },
        {
          "output_type": "display_data",
          "data": {
            "text/plain": [
              "<Figure size 432x288 with 1 Axes>"
            ],
            "image/png": "[encoded data removed]"
          },
          "metadata": {
            "needs_background": "light"
          }
        },
        {
          "output_type": "display_data",
          "data": {
            "text/plain": [
              "<Figure size 432x288 with 1 Axes>"
            ],
            "image/png": "[encoded data removed]"
          },
          "metadata": {
            "needs_background": "light"
          }
        }
      ]
    }
  ],
  "metadata": {
    "colab": {
      "collapsed_sections": [],
      "name": "HW2",
      "provenance": []
    },
    "kernelspec": {
      "display_name": "Python 3",
      "language": "python",
      "name": "python3"
    },
    "language_info": {
      "codemirror_mode": {
        "name": "ipython",
        "version": 3
      },
      "file_extension": ".py",
      "mimetype": "text/x-python",
      "name": "python",
      "nbconvert_exporter": "python",
      "pygments_lexer": "ipython3",
      "version": "3.7.1"
    }
  },
  "nbformat": 4,
  "nbformat_minor": 0
}
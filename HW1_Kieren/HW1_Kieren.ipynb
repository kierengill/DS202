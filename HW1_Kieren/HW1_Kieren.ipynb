{
  "nbformat": 4,
  "nbformat_minor": 0,
  "metadata": {
    "colab": {
      "name": "HW1",
      "provenance": [],
      "collapsed_sections": [
        "8nSrlba1Hm3u",
        "FW83Vu3KvTQB",
        "HBFTP1NJJQHy"
      ]
    },
    "kernelspec": {
      "display_name": "Python 3",
      "name": "python3"
    }
  },
  "cells": [
    {
      "cell_type": "markdown",
      "metadata": {
        "id": "43DBqagWutAE"
      },
      "source": [
        "**RDS (DS-UA 202) Spring 2022: Homework 1 Template**\n",
        "\n",
        "\n",
        "This notebook is a template for problem 2. You should save a copy of this notebook and write your code in that copy. The code to setup the analysis is provided for you here. You should not edit or add to the setup code.\n",
        "\n",
        "Some suggested steps are included as comments in the below code cells. You do not need to follow these suggestions (other solutions or approaches are acceptable)."
      ]
    },
    {
      "cell_type": "markdown",
      "source": [
        "# Setup"
      ],
      "metadata": {
        "id": "uCxmXPdjC78N"
      }
    },
    {
      "cell_type": "markdown",
      "source": [
        "## Packages"
      ],
      "metadata": {
        "id": "8nSrlba1Hm3u"
      }
    },
    {
      "cell_type": "code",
      "source": [
        "!git clone https://github.com/lurosenb/superquail\n",
        "!pip install aif360==0.3.0 \n",
        "!pip install BlackBoxAuditing\n",
        "!pip install tensorflow==1.13.1\n",
        "!pip install folktables"
      ],
      "metadata": {
        "id": "gtYGFyqSm2nk",
        "colab": {
          "base_uri": "https://localhost:8080/"
        },
        "outputId": "ac50a662-0fca-4908-8eb1-90a7da88211f"
      },
      "execution_count": 1,
      "outputs": [
        {
          "output_type": "stream",
          "name": "stdout",
          "text": [
            "Cloning into 'superquail'...\n",
            "remote: Enumerating objects: 24, done.\u001b[K\n",
            "remote: Counting objects: 100% (24/24), done.\u001b[K\n",
            "remote: Compressing objects: 100% (20/20), done.\u001b[K\n",
            "remote: Total 24 (delta 1), reused 20 (delta 1), pack-reused 0\u001b[K\n",
            "Unpacking objects: 100% (24/24), done.\n",
            "Collecting aif360==0.3.0\n",
            "  Downloading aif360-0.3.0-py3-none-any.whl (165 kB)\n",
            "\u001b[K     |████████████████████████████████| 165 kB 7.6 MB/s \n",
            "\u001b[?25hRequirement already satisfied: scipy>=1.2.0 in /usr/local/lib/python3.7/dist-packages (from aif360==0.3.0) (1.4.1)\n",
            "Requirement already satisfied: numpy>=1.16 in /usr/local/lib/python3.7/dist-packages (from aif360==0.3.0) (1.21.5)\n",
            "Requirement already satisfied: scikit-learn>=0.21 in /usr/local/lib/python3.7/dist-packages (from aif360==0.3.0) (1.0.2)\n",
            "Requirement already satisfied: matplotlib in /usr/local/lib/python3.7/dist-packages (from aif360==0.3.0) (3.2.2)\n",
            "Requirement already satisfied: pandas>=0.24.0 in /usr/local/lib/python3.7/dist-packages (from aif360==0.3.0) (1.3.5)\n",
            "Requirement already satisfied: python-dateutil>=2.7.3 in /usr/local/lib/python3.7/dist-packages (from pandas>=0.24.0->aif360==0.3.0) (2.8.2)\n",
            "Requirement already satisfied: pytz>=2017.3 in /usr/local/lib/python3.7/dist-packages (from pandas>=0.24.0->aif360==0.3.0) (2018.9)\n",
            "Requirement already satisfied: six>=1.5 in /usr/local/lib/python3.7/dist-packages (from python-dateutil>=2.7.3->pandas>=0.24.0->aif360==0.3.0) (1.15.0)\n",
            "Requirement already satisfied: joblib>=0.11 in /usr/local/lib/python3.7/dist-packages (from scikit-learn>=0.21->aif360==0.3.0) (1.1.0)\n",
            "Requirement already satisfied: threadpoolctl>=2.0.0 in /usr/local/lib/python3.7/dist-packages (from scikit-learn>=0.21->aif360==0.3.0) (3.1.0)\n",
            "Requirement already satisfied: cycler>=0.10 in /usr/local/lib/python3.7/dist-packages (from matplotlib->aif360==0.3.0) (0.11.0)\n",
            "Requirement already satisfied: pyparsing!=2.0.4,!=2.1.2,!=2.1.6,>=2.0.1 in /usr/local/lib/python3.7/dist-packages (from matplotlib->aif360==0.3.0) (3.0.7)\n",
            "Requirement already satisfied: kiwisolver>=1.0.1 in /usr/local/lib/python3.7/dist-packages (from matplotlib->aif360==0.3.0) (1.3.2)\n",
            "Installing collected packages: aif360\n",
            "Successfully installed aif360-0.3.0\n",
            "Collecting BlackBoxAuditing\n",
            "  Downloading BlackBoxAuditing-0.1.54.tar.gz (2.6 MB)\n",
            "\u001b[K     |████████████████████████████████| 2.6 MB 8.4 MB/s \n",
            "\u001b[?25hRequirement already satisfied: networkx in /usr/local/lib/python3.7/dist-packages (from BlackBoxAuditing) (2.6.3)\n",
            "Requirement already satisfied: matplotlib in /usr/local/lib/python3.7/dist-packages (from BlackBoxAuditing) (3.2.2)\n",
            "Requirement already satisfied: pandas in /usr/local/lib/python3.7/dist-packages (from BlackBoxAuditing) (1.3.5)\n",
            "Requirement already satisfied: numpy in /usr/local/lib/python3.7/dist-packages (from BlackBoxAuditing) (1.21.5)\n",
            "Requirement already satisfied: pyparsing!=2.0.4,!=2.1.2,!=2.1.6,>=2.0.1 in /usr/local/lib/python3.7/dist-packages (from matplotlib->BlackBoxAuditing) (3.0.7)\n",
            "Requirement already satisfied: kiwisolver>=1.0.1 in /usr/local/lib/python3.7/dist-packages (from matplotlib->BlackBoxAuditing) (1.3.2)\n",
            "Requirement already satisfied: python-dateutil>=2.1 in /usr/local/lib/python3.7/dist-packages (from matplotlib->BlackBoxAuditing) (2.8.2)\n",
            "Requirement already satisfied: cycler>=0.10 in /usr/local/lib/python3.7/dist-packages (from matplotlib->BlackBoxAuditing) (0.11.0)\n",
            "Requirement already satisfied: six>=1.5 in /usr/local/lib/python3.7/dist-packages (from python-dateutil>=2.1->matplotlib->BlackBoxAuditing) (1.15.0)\n",
            "Requirement already satisfied: pytz>=2017.3 in /usr/local/lib/python3.7/dist-packages (from pandas->BlackBoxAuditing) (2018.9)\n",
            "Building wheels for collected packages: BlackBoxAuditing\n",
            "  Building wheel for BlackBoxAuditing (setup.py) ... \u001b[?25l\u001b[?25hdone\n",
            "  Created wheel for BlackBoxAuditing: filename=BlackBoxAuditing-0.1.54-py2.py3-none-any.whl size=1394770 sha256=cddd093e45cc374fe5677c87b1be9d99284f76ae65f94b9c4835bf093690bddd\n",
            "  Stored in directory: /root/.cache/pip/wheels/05/9f/ee/541a74be4cf5dad17430e64d3276370ea7b6a834a76cb4215a\n",
            "Successfully built BlackBoxAuditing\n",
            "Installing collected packages: BlackBoxAuditing\n",
            "Successfully installed BlackBoxAuditing-0.1.54\n",
            "Collecting tensorflow==1.13.1\n",
            "  Downloading tensorflow-1.13.1-cp37-cp37m-manylinux1_x86_64.whl (92.6 MB)\n",
            "\u001b[K     |████████████████████████████████| 92.6 MB 1.2 MB/s \n",
            "\u001b[?25hRequirement already satisfied: numpy>=1.13.3 in /usr/local/lib/python3.7/dist-packages (from tensorflow==1.13.1) (1.21.5)\n",
            "Requirement already satisfied: wheel>=0.26 in /usr/local/lib/python3.7/dist-packages (from tensorflow==1.13.1) (0.37.1)\n",
            "Requirement already satisfied: termcolor>=1.1.0 in /usr/local/lib/python3.7/dist-packages (from tensorflow==1.13.1) (1.1.0)\n",
            "Requirement already satisfied: astor>=0.6.0 in /usr/local/lib/python3.7/dist-packages (from tensorflow==1.13.1) (0.8.1)\n",
            "Requirement already satisfied: six>=1.10.0 in /usr/local/lib/python3.7/dist-packages (from tensorflow==1.13.1) (1.15.0)\n",
            "Requirement already satisfied: keras-preprocessing>=1.0.5 in /usr/local/lib/python3.7/dist-packages (from tensorflow==1.13.1) (1.1.2)\n",
            "Collecting tensorboard<1.14.0,>=1.13.0\n",
            "  Downloading tensorboard-1.13.1-py3-none-any.whl (3.2 MB)\n",
            "\u001b[K     |████████████████████████████████| 3.2 MB 38.2 MB/s \n",
            "\u001b[?25hRequirement already satisfied: absl-py>=0.1.6 in /usr/local/lib/python3.7/dist-packages (from tensorflow==1.13.1) (1.0.0)\n",
            "Collecting keras-applications>=1.0.6\n",
            "  Downloading Keras_Applications-1.0.8-py3-none-any.whl (50 kB)\n",
            "\u001b[K     |████████████████████████████████| 50 kB 6.6 MB/s \n",
            "\u001b[?25hRequirement already satisfied: gast>=0.2.0 in /usr/local/lib/python3.7/dist-packages (from tensorflow==1.13.1) (0.5.3)\n",
            "Requirement already satisfied: protobuf>=3.6.1 in /usr/local/lib/python3.7/dist-packages (from tensorflow==1.13.1) (3.17.3)\n",
            "Requirement already satisfied: grpcio>=1.8.6 in /usr/local/lib/python3.7/dist-packages (from tensorflow==1.13.1) (1.44.0)\n",
            "Collecting tensorflow-estimator<1.14.0rc0,>=1.13.0\n",
            "  Downloading tensorflow_estimator-1.13.0-py2.py3-none-any.whl (367 kB)\n",
            "\u001b[K     |████████████████████████████████| 367 kB 56.1 MB/s \n",
            "\u001b[?25hRequirement already satisfied: h5py in /usr/local/lib/python3.7/dist-packages (from keras-applications>=1.0.6->tensorflow==1.13.1) (3.1.0)\n",
            "Requirement already satisfied: markdown>=2.6.8 in /usr/local/lib/python3.7/dist-packages (from tensorboard<1.14.0,>=1.13.0->tensorflow==1.13.1) (3.3.6)\n",
            "Requirement already satisfied: werkzeug>=0.11.15 in /usr/local/lib/python3.7/dist-packages (from tensorboard<1.14.0,>=1.13.0->tensorflow==1.13.1) (1.0.1)\n",
            "Requirement already satisfied: importlib-metadata>=4.4 in /usr/local/lib/python3.7/dist-packages (from markdown>=2.6.8->tensorboard<1.14.0,>=1.13.0->tensorflow==1.13.1) (4.11.2)\n",
            "Requirement already satisfied: zipp>=0.5 in /usr/local/lib/python3.7/dist-packages (from importlib-metadata>=4.4->markdown>=2.6.8->tensorboard<1.14.0,>=1.13.0->tensorflow==1.13.1) (3.7.0)\n",
            "Requirement already satisfied: typing-extensions>=3.6.4 in /usr/local/lib/python3.7/dist-packages (from importlib-metadata>=4.4->markdown>=2.6.8->tensorboard<1.14.0,>=1.13.0->tensorflow==1.13.1) (3.10.0.2)\n",
            "Collecting mock>=2.0.0\n",
            "  Downloading mock-4.0.3-py3-none-any.whl (28 kB)\n",
            "Requirement already satisfied: cached-property in /usr/local/lib/python3.7/dist-packages (from h5py->keras-applications>=1.0.6->tensorflow==1.13.1) (1.5.2)\n",
            "Installing collected packages: mock, tensorflow-estimator, tensorboard, keras-applications, tensorflow\n",
            "  Attempting uninstall: tensorflow-estimator\n",
            "    Found existing installation: tensorflow-estimator 2.8.0\n",
            "    Uninstalling tensorflow-estimator-2.8.0:\n",
            "      Successfully uninstalled tensorflow-estimator-2.8.0\n",
            "  Attempting uninstall: tensorboard\n",
            "    Found existing installation: tensorboard 2.8.0\n",
            "    Uninstalling tensorboard-2.8.0:\n",
            "      Successfully uninstalled tensorboard-2.8.0\n",
            "  Attempting uninstall: tensorflow\n",
            "    Found existing installation: tensorflow 2.8.0\n",
            "    Uninstalling tensorflow-2.8.0:\n",
            "      Successfully uninstalled tensorflow-2.8.0\n",
            "\u001b[31mERROR: pip's dependency resolver does not currently take into account all the packages that are installed. This behaviour is the source of the following dependency conflicts.\n",
            "kapre 0.3.7 requires tensorflow>=2.0.0, but you have tensorflow 1.13.1 which is incompatible.\u001b[0m\n",
            "Successfully installed keras-applications-1.0.8 mock-4.0.3 tensorboard-1.13.1 tensorflow-1.13.1 tensorflow-estimator-1.13.0\n",
            "Collecting folktables\n",
            "  Downloading folktables-0.0.11.tar.gz (10 kB)\n",
            "Requirement already satisfied: numpy in /usr/local/lib/python3.7/dist-packages (from folktables) (1.21.5)\n",
            "Requirement already satisfied: pandas in /usr/local/lib/python3.7/dist-packages (from folktables) (1.3.5)\n",
            "Requirement already satisfied: requests in /usr/local/lib/python3.7/dist-packages (from folktables) (2.23.0)\n",
            "Requirement already satisfied: sklearn in /usr/local/lib/python3.7/dist-packages (from folktables) (0.0)\n",
            "Requirement already satisfied: pytz>=2017.3 in /usr/local/lib/python3.7/dist-packages (from pandas->folktables) (2018.9)\n",
            "Requirement already satisfied: python-dateutil>=2.7.3 in /usr/local/lib/python3.7/dist-packages (from pandas->folktables) (2.8.2)\n",
            "Requirement already satisfied: six>=1.5 in /usr/local/lib/python3.7/dist-packages (from python-dateutil>=2.7.3->pandas->folktables) (1.15.0)\n",
            "Requirement already satisfied: chardet<4,>=3.0.2 in /usr/local/lib/python3.7/dist-packages (from requests->folktables) (3.0.4)\n",
            "Requirement already satisfied: certifi>=2017.4.17 in /usr/local/lib/python3.7/dist-packages (from requests->folktables) (2021.10.8)\n",
            "Requirement already satisfied: urllib3!=1.25.0,!=1.25.1,<1.26,>=1.21.1 in /usr/local/lib/python3.7/dist-packages (from requests->folktables) (1.24.3)\n",
            "Requirement already satisfied: idna<3,>=2.5 in /usr/local/lib/python3.7/dist-packages (from requests->folktables) (2.10)\n",
            "Requirement already satisfied: scikit-learn in /usr/local/lib/python3.7/dist-packages (from sklearn->folktables) (1.0.2)\n",
            "Requirement already satisfied: scipy>=1.1.0 in /usr/local/lib/python3.7/dist-packages (from scikit-learn->sklearn->folktables) (1.4.1)\n",
            "Requirement already satisfied: joblib>=0.11 in /usr/local/lib/python3.7/dist-packages (from scikit-learn->sklearn->folktables) (1.1.0)\n",
            "Requirement already satisfied: threadpoolctl>=2.0.0 in /usr/local/lib/python3.7/dist-packages (from scikit-learn->sklearn->folktables) (3.1.0)\n",
            "Building wheels for collected packages: folktables\n",
            "  Building wheel for folktables (setup.py) ... \u001b[?25l\u001b[?25hdone\n",
            "  Created wheel for folktables: filename=folktables-0.0.11-py3-none-any.whl size=6779 sha256=a293c4d9df5606928f7e0c9cfe00c0d76bf2970142e01bd94ceef278158fb0cb\n",
            "  Stored in directory: /root/.cache/pip/wheels/bd/63/b8/24d3f5d2c70002c68c1fe8e78e1de20fcbcb7a2ef3f56147b7\n",
            "Successfully built folktables\n",
            "Installing collected packages: folktables\n",
            "Successfully installed folktables-0.0.11\n"
          ]
        }
      ]
    },
    {
      "cell_type": "code",
      "metadata": {
        "id": "-BAY1cNGuxfk",
        "colab": {
          "base_uri": "https://localhost:8080/"
        },
        "outputId": "f9a5eee2-6c4e-45f7-c64e-f265fb1628a7"
      },
      "source": [
        "import random\n",
        "random.seed(6)\n",
        "\n",
        "import sys\n",
        "import warnings\n",
        "\n",
        "import numpy as np\n",
        "import pandas as pd\n",
        "import tensorflow as tf\n",
        "import json\n",
        "import time \n",
        "from tqdm import tqdm\n",
        "\n",
        "import matplotlib.pyplot as plt \n",
        "import seaborn as sns\n",
        "\n",
        "from folktables import ACSDataSource, ACSEmployment, ACSIncome, ACSPublicCoverage, ACSTravelTime\n",
        "from superquail.data.acs_helper import ACSData\n",
        "\n",
        "from sklearn.linear_model import LogisticRegression\n",
        "from sklearn.metrics import accuracy_score, roc_auc_score\n",
        "from sklearn.ensemble import RandomForestClassifier\n",
        "from sklearn.model_selection import RandomizedSearchCV\n",
        "from sklearn.preprocessing import MinMaxScaler\n",
        "\n",
        "from aif360.datasets import BinaryLabelDataset, StandardDataset\n",
        "from aif360.algorithms.preprocessing import DisparateImpactRemover\n",
        "from aif360.algorithms.inprocessing import PrejudiceRemover\n",
        "from aif360.algorithms.postprocessing import CalibratedEqOddsPostprocessing, RejectOptionClassification\n",
        "from aif360.metrics import BinaryLabelDatasetMetric, ClassificationMetric\n",
        "from aif360.metrics import BinaryLabelDatasetMetric\n",
        "\n",
        "import BlackBoxAuditing\n",
        "%matplotlib inline"
      ],
      "execution_count": 2,
      "outputs": [
        {
          "output_type": "stream",
          "name": "stderr",
          "text": [
            "/usr/local/lib/python3.7/dist-packages/tensorflow/python/framework/dtypes.py:526: FutureWarning: Passing (type, 1) or '1type' as a synonym of type is deprecated; in a future version of numpy, it will be understood as (type, (1,)) / '(1,)type'.\n",
            "  _np_qint8 = np.dtype([(\"qint8\", np.int8, 1)])\n",
            "/usr/local/lib/python3.7/dist-packages/tensorflow/python/framework/dtypes.py:527: FutureWarning: Passing (type, 1) or '1type' as a synonym of type is deprecated; in a future version of numpy, it will be understood as (type, (1,)) / '(1,)type'.\n",
            "  _np_quint8 = np.dtype([(\"quint8\", np.uint8, 1)])\n",
            "/usr/local/lib/python3.7/dist-packages/tensorflow/python/framework/dtypes.py:528: FutureWarning: Passing (type, 1) or '1type' as a synonym of type is deprecated; in a future version of numpy, it will be understood as (type, (1,)) / '(1,)type'.\n",
            "  _np_qint16 = np.dtype([(\"qint16\", np.int16, 1)])\n",
            "/usr/local/lib/python3.7/dist-packages/tensorflow/python/framework/dtypes.py:529: FutureWarning: Passing (type, 1) or '1type' as a synonym of type is deprecated; in a future version of numpy, it will be understood as (type, (1,)) / '(1,)type'.\n",
            "  _np_quint16 = np.dtype([(\"quint16\", np.uint16, 1)])\n",
            "/usr/local/lib/python3.7/dist-packages/tensorflow/python/framework/dtypes.py:530: FutureWarning: Passing (type, 1) or '1type' as a synonym of type is deprecated; in a future version of numpy, it will be understood as (type, (1,)) / '(1,)type'.\n",
            "  _np_qint32 = np.dtype([(\"qint32\", np.int32, 1)])\n",
            "/usr/local/lib/python3.7/dist-packages/tensorflow/python/framework/dtypes.py:535: FutureWarning: Passing (type, 1) or '1type' as a synonym of type is deprecated; in a future version of numpy, it will be understood as (type, (1,)) / '(1,)type'.\n",
            "  np_resource = np.dtype([(\"resource\", np.ubyte, 1)])\n",
            "WARNING:root:No module named 'numba.decorators': LFR will be unavailable. To install, run:\n",
            "pip install 'aif360[LFR]'\n"
          ]
        }
      ]
    },
    {
      "cell_type": "markdown",
      "metadata": {
        "id": "FW83Vu3KvTQB"
      },
      "source": [
        "## Load data"
      ]
    },
    {
      "cell_type": "markdown",
      "source": [
        "We have included code to read in the folktables dataset. The Folktables dataset is taken from US Census Data and is built to solve a few simple prediction tasks. The sample we pull is data from 2018 in California. The column names are described in the table below. Note that certain categorical variables have been mapped to integer values, which we will keep as is for the following analyses.\n",
        "\n",
        "For more information on the this dataset, please see the following paper:\n",
        "https://eaamo2021.eaamo.org/accepted/acceptednonarchival/EAMO21_paper_16.pdf"
      ],
      "metadata": {
        "id": "UH30OASO5pf3"
      }
    },
    {
      "cell_type": "markdown",
      "source": [
        "| Column Name | Feature | Description/Notes |\n",
        "| --- | ----------- | --- |\n",
        "| PINCP | Total person’s income | (Target) 1 if >= $50k, 0 if less |\n",
        "| SEX | Sex | (Sensitive Attribute) Male=1, Female=2 |\n",
        "| RAC1P | Race | Dropped from this analysis to focus on one sensitive attribute |\n",
        "| AGEP | Age | Ranges from 0-99 |\n",
        "| COW | Class of Worker | Ranges 1-9, see paper for description |\n",
        "| SCHL | Education Level | Ranges 1-24, see paper for description |\n",
        "| MAR | Marital Status | Ranges 1-5, see paper for description |\n",
        "| OCCP | Occupation | Codes taken from Public Use Microdata Sample (PUMS) from the US Census, see paper |\n",
        "| POBP | Place of Birth | Codes taken from Public Use Microdata Sample (PUMS) from the US Census, see paper |\n",
        "| RELP | Relationship | Relationship of individual to person who responded to the Census taker. Ranges 0-17, see paper for description |\n",
        "| WKHP | Hours worked per week | Ranges from 0-99, averaged over previous year |"
      ],
      "metadata": {
        "id": "ErJSui-veHGd"
      }
    },
    {
      "cell_type": "code",
      "source": [
        "np.random.seed(13) # do not change the seed\n",
        "\n",
        "# read in the folktables dataset \n",
        "full_df, features_df, target_df, groups_df = ACSData().return_acs_data_scenario(scenario=\"ACSIncome\", subsample=30000)\n",
        "full_df = full_df.drop(columns='RAC1P') # drop race -- another protected attribute from our dataset\n",
        "\n",
        "print(full_df.shape)\n",
        "full_df.head()"
      ],
      "metadata": {
        "id": "JKV2cQ_Q3IqF",
        "colab": {
          "base_uri": "https://localhost:8080/",
          "height": 0
        },
        "outputId": "ec7cfecb-83c4-4d04-ace7-4edb338af6e9"
      },
      "execution_count": 3,
      "outputs": [
        {
          "output_type": "stream",
          "name": "stdout",
          "text": [
            "Downloading data for 2018 1-Year person survey for CA...\n",
            "(30000, 10)\n"
          ]
        },
        {
          "output_type": "execute_result",
          "data": {
            "text/html": [
              "\n",
              "  <div id=\"df-cc1a3ffc-5311-41a9-b747-e648ca1e6225\">\n",
              "    <div class=\"colab-df-container\">\n",
              "      <div>\n",
              "<style scoped>\n",
              "    .dataframe tbody tr th:only-of-type {\n",
              "        vertical-align: middle;\n",
              "    }\n",
              "\n",
              "    .dataframe tbody tr th {\n",
              "        vertical-align: top;\n",
              "    }\n",
              "\n",
              "    .dataframe thead th {\n",
              "        text-align: right;\n",
              "    }\n",
              "</style>\n",
              "<table border=\"1\" class=\"dataframe\">\n",
              "  <thead>\n",
              "    <tr style=\"text-align: right;\">\n",
              "      <th></th>\n",
              "      <th>AGEP</th>\n",
              "      <th>COW</th>\n",
              "      <th>SCHL</th>\n",
              "      <th>MAR</th>\n",
              "      <th>OCCP</th>\n",
              "      <th>POBP</th>\n",
              "      <th>RELP</th>\n",
              "      <th>WKHP</th>\n",
              "      <th>SEX</th>\n",
              "      <th>PINCP</th>\n",
              "    </tr>\n",
              "  </thead>\n",
              "  <tbody>\n",
              "    <tr>\n",
              "      <th>0</th>\n",
              "      <td>44.0</td>\n",
              "      <td>1.0</td>\n",
              "      <td>1.0</td>\n",
              "      <td>1.0</td>\n",
              "      <td>4220.0</td>\n",
              "      <td>6.0</td>\n",
              "      <td>10.0</td>\n",
              "      <td>40.0</td>\n",
              "      <td>1.0</td>\n",
              "      <td>0.0</td>\n",
              "    </tr>\n",
              "    <tr>\n",
              "      <th>1</th>\n",
              "      <td>66.0</td>\n",
              "      <td>2.0</td>\n",
              "      <td>20.0</td>\n",
              "      <td>2.0</td>\n",
              "      <td>4720.0</td>\n",
              "      <td>42.0</td>\n",
              "      <td>0.0</td>\n",
              "      <td>32.0</td>\n",
              "      <td>2.0</td>\n",
              "      <td>0.0</td>\n",
              "    </tr>\n",
              "    <tr>\n",
              "      <th>2</th>\n",
              "      <td>72.0</td>\n",
              "      <td>6.0</td>\n",
              "      <td>18.0</td>\n",
              "      <td>1.0</td>\n",
              "      <td>10.0</td>\n",
              "      <td>6.0</td>\n",
              "      <td>1.0</td>\n",
              "      <td>8.0</td>\n",
              "      <td>2.0</td>\n",
              "      <td>1.0</td>\n",
              "    </tr>\n",
              "    <tr>\n",
              "      <th>3</th>\n",
              "      <td>53.0</td>\n",
              "      <td>1.0</td>\n",
              "      <td>21.0</td>\n",
              "      <td>1.0</td>\n",
              "      <td>1460.0</td>\n",
              "      <td>457.0</td>\n",
              "      <td>0.0</td>\n",
              "      <td>40.0</td>\n",
              "      <td>1.0</td>\n",
              "      <td>1.0</td>\n",
              "    </tr>\n",
              "    <tr>\n",
              "      <th>4</th>\n",
              "      <td>55.0</td>\n",
              "      <td>1.0</td>\n",
              "      <td>16.0</td>\n",
              "      <td>1.0</td>\n",
              "      <td>220.0</td>\n",
              "      <td>6.0</td>\n",
              "      <td>1.0</td>\n",
              "      <td>40.0</td>\n",
              "      <td>1.0</td>\n",
              "      <td>0.0</td>\n",
              "    </tr>\n",
              "  </tbody>\n",
              "</table>\n",
              "</div>\n",
              "      <button class=\"colab-df-convert\" onclick=\"convertToInteractive('df-cc1a3ffc-5311-41a9-b747-e648ca1e6225')\"\n",
              "              title=\"Convert this dataframe to an interactive table.\"\n",
              "              style=\"display:none;\">\n",
              "        \n",
              "  <svg xmlns=\"http://www.w3.org/2000/svg\" height=\"24px\"viewBox=\"0 0 24 24\"\n",
              "       width=\"24px\">\n",
              "    <path d=\"M0 0h24v24H0V0z\" fill=\"none\"/>\n",
              "    <path d=\"M18.56 5.44l.94 2.06.94-2.06 2.06-.94-2.06-.94-.94-2.06-.94 2.06-2.06.94zm-11 1L8.5 8.5l.94-2.06 2.06-.94-2.06-.94L8.5 2.5l-.94 2.06-2.06.94zm10 10l.94 2.06.94-2.06 2.06-.94-2.06-.94-.94-2.06-.94 2.06-2.06.94z\"/><path d=\"M17.41 7.96l-1.37-1.37c-.4-.4-.92-.59-1.43-.59-.52 0-1.04.2-1.43.59L10.3 9.45l-7.72 7.72c-.78.78-.78 2.05 0 2.83L4 21.41c.39.39.9.59 1.41.59.51 0 1.02-.2 1.41-.59l7.78-7.78 2.81-2.81c.8-.78.8-2.07 0-2.86zM5.41 20L4 18.59l7.72-7.72 1.47 1.35L5.41 20z\"/>\n",
              "  </svg>\n",
              "      </button>\n",
              "      \n",
              "  <style>\n",
              "    .colab-df-container {\n",
              "      display:flex;\n",
              "      flex-wrap:wrap;\n",
              "      gap: 12px;\n",
              "    }\n",
              "\n",
              "    .colab-df-convert {\n",
              "      background-color: #E8F0FE;\n",
              "      border: none;\n",
              "      border-radius: 50%;\n",
              "      cursor: pointer;\n",
              "      display: none;\n",
              "      fill: #1967D2;\n",
              "      height: 32px;\n",
              "      padding: 0 0 0 0;\n",
              "      width: 32px;\n",
              "    }\n",
              "\n",
              "    .colab-df-convert:hover {\n",
              "      background-color: #E2EBFA;\n",
              "      box-shadow: 0px 1px 2px rgba(60, 64, 67, 0.3), 0px 1px 3px 1px rgba(60, 64, 67, 0.15);\n",
              "      fill: #174EA6;\n",
              "    }\n",
              "\n",
              "    [theme=dark] .colab-df-convert {\n",
              "      background-color: #3B4455;\n",
              "      fill: #D2E3FC;\n",
              "    }\n",
              "\n",
              "    [theme=dark] .colab-df-convert:hover {\n",
              "      background-color: #434B5C;\n",
              "      box-shadow: 0px 1px 3px 1px rgba(0, 0, 0, 0.15);\n",
              "      filter: drop-shadow(0px 1px 2px rgba(0, 0, 0, 0.3));\n",
              "      fill: #FFFFFF;\n",
              "    }\n",
              "  </style>\n",
              "\n",
              "      <script>\n",
              "        const buttonEl =\n",
              "          document.querySelector('#df-cc1a3ffc-5311-41a9-b747-e648ca1e6225 button.colab-df-convert');\n",
              "        buttonEl.style.display =\n",
              "          google.colab.kernel.accessAllowed ? 'block' : 'none';\n",
              "\n",
              "        async function convertToInteractive(key) {\n",
              "          const element = document.querySelector('#df-cc1a3ffc-5311-41a9-b747-e648ca1e6225');\n",
              "          const dataTable =\n",
              "            await google.colab.kernel.invokeFunction('convertToInteractive',\n",
              "                                                     [key], {});\n",
              "          if (!dataTable) return;\n",
              "\n",
              "          const docLinkHtml = 'Like what you see? Visit the ' +\n",
              "            '<a target=\"_blank\" href=https://colab.research.google.com/notebooks/data_table.ipynb>data table notebook</a>'\n",
              "            + ' to learn more about interactive tables.';\n",
              "          element.innerHTML = '';\n",
              "          dataTable['output_type'] = 'display_data';\n",
              "          await google.colab.output.renderOutput(dataTable, element);\n",
              "          const docLink = document.createElement('div');\n",
              "          docLink.innerHTML = docLinkHtml;\n",
              "          element.appendChild(docLink);\n",
              "        }\n",
              "      </script>\n",
              "    </div>\n",
              "  </div>\n",
              "  "
            ],
            "text/plain": [
              "   AGEP  COW  SCHL  MAR    OCCP   POBP  RELP  WKHP  SEX  PINCP\n",
              "0  44.0  1.0   1.0  1.0  4220.0    6.0  10.0  40.0  1.0    0.0\n",
              "1  66.0  2.0  20.0  2.0  4720.0   42.0   0.0  32.0  2.0    0.0\n",
              "2  72.0  6.0  18.0  1.0    10.0    6.0   1.0   8.0  2.0    1.0\n",
              "3  53.0  1.0  21.0  1.0  1460.0  457.0   0.0  40.0  1.0    1.0\n",
              "4  55.0  1.0  16.0  1.0   220.0    6.0   1.0  40.0  1.0    0.0"
            ]
          },
          "metadata": {},
          "execution_count": 3
        }
      ]
    },
    {
      "cell_type": "markdown",
      "source": [
        "## Set protected attribute and target"
      ],
      "metadata": {
        "id": "HBFTP1NJJQHy"
      }
    },
    {
      "cell_type": "code",
      "source": [
        "protected_attr = 'SEX' # set sex as the protected attribute\n",
        "target = 'PINCP' # personal income as the target, note that [1 = >50k]"
      ],
      "metadata": {
        "id": "z9rLvp4tJHy2"
      },
      "execution_count": 4,
      "outputs": []
    },
    {
      "cell_type": "code",
      "source": [
        "# convert this dataframe into an aif360 dataset\n",
        "original_data = BinaryLabelDataset(\n",
        "    favorable_label=1,\n",
        "    unfavorable_label=0,\n",
        "    df=full_df,\n",
        "    label_names=[target],\n",
        "    protected_attribute_names=[protected_attr])\n",
        "privileged_groups = [{protected_attr: 1}] \n",
        "unprivileged_groups = [{protected_attr: 2}]"
      ],
      "metadata": {
        "id": "cEZljEsG4G1j"
      },
      "execution_count": 5,
      "outputs": []
    },
    {
      "cell_type": "markdown",
      "source": [
        "## Split data"
      ],
      "metadata": {
        "id": "54wA6QWtHrzJ"
      }
    },
    {
      "cell_type": "code",
      "source": [
        "seed = 50\n",
        "train_data, test_data = original_data.split([0.8], shuffle=True, seed=seed)"
      ],
      "metadata": {
        "id": "9NjSSl8iEmne"
      },
      "execution_count": 6,
      "outputs": []
    },
    {
      "cell_type": "markdown",
      "source": [
        "## Scale features in the data"
      ],
      "metadata": {
        "id": "4tVEqq34H1ZH"
      }
    },
    {
      "cell_type": "code",
      "source": [
        "scaler = MinMaxScaler()\n",
        "\n",
        "train_data.features = scaler.fit_transform(train_data.features)\n",
        "test_data.features = scaler.transform(test_data.features)\n",
        "\n",
        "# convert to dataframes\n",
        "train_df, _ = train_data.convert_to_dataframe()\n",
        "test_df, _ = test_data.convert_to_dataframe()\n",
        "print(\"Training set: \", train_df.shape)\n",
        "print(\"Test set: \", test_df.shape)\n",
        "\n",
        "# extract x (features) and y (target)\n",
        "train_x = train_df.drop([target, protected_attr], axis=1)\n",
        "train_y = train_df[target]\n",
        "test_x = test_df.drop([target, protected_attr], axis=1)\n",
        "test_y = test_df[target]"
      ],
      "metadata": {
        "id": "Aa2GzY3HE-l_",
        "colab": {
          "base_uri": "https://localhost:8080/"
        },
        "outputId": "095598a4-7499-4129-9c18-f217441846a3"
      },
      "execution_count": 18,
      "outputs": [
        {
          "output_type": "stream",
          "name": "stdout",
          "text": [
            "Training set:  (24000, 10)\n",
            "Test set:  (6000, 10)\n"
          ]
        }
      ]
    },
    {
      "cell_type": "markdown",
      "metadata": {
        "id": "FaQZc9mkDBQc"
      },
      "source": [
        "# 2 (a)"
      ]
    },
    {
      "cell_type": "markdown",
      "metadata": {
        "id": "J_9U8nMU3pg0"
      },
      "source": [
        "## Train a random forest model (baseline)"
      ]
    },
    {
      "cell_type": "code",
      "metadata": {
        "id": "Bo149tbl3n_N"
      },
      "source": [
        "# use these hyperparameters in your call to RandomForestClassifier\n",
        "n_estimators = 20\n",
        "max_depth = 10\n",
        "\n",
        "# set up the random forest model, using the hyperparameters\n",
        "clf=RandomForestClassifier(n_estimators=20, max_depth=10)\n",
        "\n",
        "# fit the model using the training data (train_x, train_y)\n",
        "initial_clf = clf.fit(train_x,train_y)"
      ],
      "execution_count": 19,
      "outputs": []
    },
    {
      "cell_type": "markdown",
      "metadata": {
        "id": "Ci-ClRL14Efm"
      },
      "source": [
        "## Calculate metrics"
      ]
    },
    {
      "cell_type": "code",
      "source": [
        "# the below function has been provided for you. You can use this function to\n",
        "# convert your data to a StandardDataset format for use in AIF360\n",
        "def transform_to_aif(df, target=target, protected_attr=protected_attr):\n",
        "  '''convert a pandas.DataFrame to a StandardDataset used in AIF360'''\n",
        "\n",
        "  sd = StandardDataset(\n",
        "      df,\n",
        "      label_name = target,\n",
        "      favorable_classes = [1],\n",
        "      protected_attribute_names = [protected_attr],\n",
        "      privileged_classes = [[1]]\n",
        "  )\n",
        "\n",
        "  return sd"
      ],
      "metadata": {
        "id": "KbbYXuCw9D7a"
      },
      "execution_count": 20,
      "outputs": []
    },
    {
      "cell_type": "code",
      "source": [
        "# calculate predictions from baseline RF model\n",
        "test_preds_df = test_df.copy()\n",
        "test_preds_df[target] = initial_clf.predict(test_x)\n",
        "# convert predictions data to AIF StandardDataset\n",
        "test_preds_df_AIF = transform_to_aif(test_preds_df)\n",
        "# also create AIF StandardDataset versions of training and test data\n",
        "train_df_AIF = transform_to_aif(train_df)\n",
        "test_df_AIF = transform_to_aif(test_df)"
      ],
      "metadata": {
        "id": "NZASQVuR6R0t"
      },
      "execution_count": 21,
      "outputs": []
    },
    {
      "cell_type": "code",
      "source": [
        "# calculate metrics\n",
        "pred_metrics = BinaryLabelDatasetMetric(test_preds_df_AIF,\n",
        "                                        unprivileged_groups=unprivileged_groups, \n",
        "                                        privileged_groups=privileged_groups)\n",
        "\n",
        "orig_vs_preds_metrics = ClassificationMetric(test_df_AIF, test_preds_df_AIF,\n",
        "                                             unprivileged_groups=unprivileged_groups,\n",
        "                                             privileged_groups=privileged_groups)\n",
        "\n",
        "\n",
        "print(\"Overall accuracy = %f\" % orig_vs_preds_metrics.accuracy())\n",
        "print(\"Accuracy for the privileged group = %f\" % orig_vs_preds_metrics.accuracy(privileged=True))\n",
        "print(\"Accuracy for the unprivileged group = %f\" % orig_vs_preds_metrics.accuracy(privileged=False))\n",
        "print(\"Disparate Impact = %f\" % orig_vs_preds_metrics.disparate_impact())\n",
        "print(\"False positive rate difference = %f\" % orig_vs_preds_metrics.false_positive_rate_difference())"
      ],
      "metadata": {
        "id": "1pUBPJoXBS7O",
        "colab": {
          "base_uri": "https://localhost:8080/"
        },
        "outputId": "2fef085a-d440-472e-dd41-cbf64d6a06de"
      },
      "execution_count": 22,
      "outputs": [
        {
          "output_type": "stream",
          "name": "stdout",
          "text": [
            "Overall accuracy = 0.802500\n",
            "Accuracy for the privileged group = 0.803107\n",
            "Accuracy for the unprivileged group = 0.801827\n",
            "Disparate Impact = 0.828183\n",
            "False positive rate difference = 0.004315\n"
          ]
        }
      ]
    },
    {
      "cell_type": "markdown",
      "metadata": {
        "id": "uKhDj-XJRUJL"
      },
      "source": [
        "# 2 (b)"
      ]
    },
    {
      "cell_type": "markdown",
      "source": [
        "## Transform the original data using Disparate Impact Remover at five repair levels and calculate metrics"
      ],
      "metadata": {
        "id": "FC7yhPhEH_Q7"
      }
    },
    {
      "cell_type": "code",
      "metadata": {
        "id": "8NToBvrQiWIz"
      },
      "source": [
        "# the below function has been provided for you. You can use this function to\n",
        "# plot the repair_level (on the x-axis) against a given metric,\n",
        "# e.g. accuracy, on the y-axis\n",
        "def plot_metric_repair(repair_levels, metric_values, metric_name):\n",
        "  '''Creates a line plot showing how the metric changed for different values of repair level'''\n",
        "\n",
        "  # Plot the metrics\n",
        "  plt.plot(repair_levels, metric_values, color='#0384fc', linewidth=3, label=metric_name)\n",
        "\n",
        "  # Create labels, etc. \n",
        "  plt.xlabel('Repair level')\n",
        "  plt.ylabel(metric_name)\n",
        "  plt.legend()\n",
        "  plt.show()"
      ],
      "execution_count": 23,
      "outputs": []
    },
    {
      "cell_type": "code",
      "source": [
        "# use these repair levels\n",
        "repair_levels = [0, 0.25, 0.5, 0.75, 1]\n",
        "\n",
        "# transform the test and training data using DI-remover at the above repair\n",
        "# levels and calculate metrics (you may wish to use a for loop)\n",
        "\n",
        "overallAccuracy = []\n",
        "unprivilegedAccuracy = []\n",
        "privilegedAccuracy = []\n",
        "disparateImpact = []\n",
        "fprd = []\n",
        "\n",
        "for level in repair_levels:\n",
        "  print(\"For Repair Level \" + str(level) + \":\\n\")\n",
        "  diRemover = DisparateImpactRemover(repair_level = level, \n",
        "                                      sensitive_attribute = protected_attr)\n",
        "  test_di = diRemover.fit_transform(dataset=test_df_AIF)\n",
        "  train_di = diRemover.fit_transform(dataset=train_df_AIF)\n",
        "\n",
        "  test_df, _ = test_di.convert_to_dataframe()\n",
        "  train_df, _ = train_di.convert_to_dataframe()\n",
        "  x_train_di = train_df.drop([target, protected_attr],axis=1)\n",
        "  y_train_di = train_df[target]\n",
        "  x_test_di = test_df.drop([target, protected_attr],axis=1)\n",
        "  y_test_di = test_df[target]\n",
        "\n",
        "  clf.fit(x_train_di, y_train_di)\n",
        "  pred_df = test_df.copy()\n",
        "  pred_df[target] = clf.predict(x_test_di)\n",
        "  predAif = transform_to_aif(pred_df, target=target, protected_attr = protected_attr)\n",
        "  pred_metrics = BinaryLabelDatasetMetric(predAif,\n",
        "                                          unprivileged_groups=unprivileged_groups,\n",
        "                                          privileged_groups=privileged_groups)\n",
        "\n",
        "  old_vs_pred_metrics = ClassificationMetric(test_di,predAif, \n",
        "                                      unprivileged_groups=unprivileged_groups,\n",
        "                                      privileged_groups=privileged_groups)\n",
        "  \n",
        "  print(\"Accuracy (Overall) = %f\" % old_vs_pred_metrics.accuracy())\n",
        "  print(\"Accuracy (Privileged Group) = %f\" % old_vs_pred_metrics.accuracy(privileged=True))\n",
        "  print(\"Accuracy (Unprivileged Group) = %f\" % old_vs_pred_metrics.accuracy(privileged=False))\n",
        "  print(\"Disparate Impact = %f\" % old_vs_pred_metrics.disparate_impact())\n",
        "  print(\"False Positive Rate Difference = %f\" % old_vs_pred_metrics.false_positive_rate_difference())\n",
        "  print()\n",
        "  print(\"----------------------------------------------------\")\n",
        "  print()\n",
        "  overallAccuracy.append(old_vs_pred_metrics.accuracy())\n",
        "  unprivilegedAccuracy.append(old_vs_pred_metrics.accuracy(privileged=False))\n",
        "  privilegedAccuracy.append(old_vs_pred_metrics.accuracy(privileged=True))\n",
        "  disparateImpact.append(old_vs_pred_metrics.disparate_impact())\n",
        "  fprd.append(old_vs_pred_metrics.false_positive_rate_difference())\n",
        "\n"
      ],
      "metadata": {
        "id": "ffAzfF7tH-Y8",
        "colab": {
          "base_uri": "https://localhost:8080/"
        },
        "outputId": "f82b8775-5e5f-4465-df34-3e82bdee2801"
      },
      "execution_count": 35,
      "outputs": [
        {
          "output_type": "stream",
          "name": "stdout",
          "text": [
            "For Repair Level 0:\n",
            "\n",
            "Accuracy (Overall) = 0.802333\n",
            "Accuracy (Privileged Group) = 0.801205\n",
            "Accuracy (Unprivileged Group) = 0.803584\n",
            "Disparate Impact = 0.859372\n",
            "False Positive Rate Difference = 0.012527\n",
            "\n",
            "----------------------------------------------------\n",
            "\n",
            "For Repair Level 0.25:\n",
            "\n",
            "Accuracy (Overall) = 0.792833\n",
            "Accuracy (Privileged Group) = 0.777108\n",
            "Accuracy (Unprivileged Group) = 0.810260\n",
            "Disparate Impact = 1.011359\n",
            "False Positive Rate Difference = 0.047480\n",
            "\n",
            "----------------------------------------------------\n",
            "\n",
            "For Repair Level 0.5:\n",
            "\n",
            "Accuracy (Overall) = 0.789500\n",
            "Accuracy (Privileged Group) = 0.779011\n",
            "Accuracy (Unprivileged Group) = 0.801124\n",
            "Disparate Impact = 0.971942\n",
            "False Positive Rate Difference = 0.044817\n",
            "\n",
            "----------------------------------------------------\n",
            "\n",
            "For Repair Level 0.75:\n",
            "\n",
            "Accuracy (Overall) = 0.786000\n",
            "Accuracy (Privileged Group) = 0.766646\n",
            "Accuracy (Unprivileged Group) = 0.807449\n",
            "Disparate Impact = 1.105138\n",
            "False Positive Rate Difference = 0.069161\n",
            "\n",
            "----------------------------------------------------\n",
            "\n",
            "For Repair Level 1:\n",
            "\n",
            "Accuracy (Overall) = 0.777833\n",
            "Accuracy (Privileged Group) = 0.755231\n",
            "Accuracy (Unprivileged Group) = 0.802881\n",
            "Disparate Impact = 1.163856\n",
            "False Positive Rate Difference = 0.078600\n",
            "\n",
            "----------------------------------------------------\n",
            "\n"
          ]
        }
      ]
    },
    {
      "cell_type": "code",
      "source": [
        "# plot each metric against the repair level\n",
        "# (you can use the plot_metric_repair above)\n",
        "plot_metric_repair(repair_levels=repair_levels, metric_values=overallAccuracy, metric_name= \"Accuracy (Overall)\")\n",
        "print()\n",
        "plot_metric_repair(repair_levels=repair_levels, metric_values=privilegedAccuracy, metric_name= \"Accuracy (Privileged)\")\n",
        "print()\n",
        "plot_metric_repair(repair_levels=repair_levels, metric_values=unprivilegedAccuracy, metric_name= \"Accuracy (Unprivileged)\")\n",
        "print()\n",
        "plot_metric_repair(repair_levels=repair_levels, metric_values=disparateImpact, metric_name= \"Disparate Impact\")\n",
        "print()\n",
        "plot_metric_repair(repair_levels=repair_levels, metric_values=fprd, metric_name= \"False Positive Rate Difference\")"
      ],
      "metadata": {
        "id": "WYmYGrwWRoeP",
        "colab": {
          "base_uri": "https://localhost:8080/",
          "height": 1000
        },
        "outputId": "6452b7aa-683a-4c2e-ff88-f9b8eede2809"
      },
      "execution_count": 37,
      "outputs": [
        {
          "output_type": "display_data",
          "data": {
            "image/png": "[encoded data removed]",
            "text/plain": [
              "<Figure size 432x288 with 1 Axes>"
            ]
          },
          "metadata": {
            "needs_background": "light"
          }
        },
        {
          "output_type": "stream",
          "name": "stdout",
          "text": [
            "\n"
          ]
        },
        {
          "output_type": "display_data",
          "data": {
            "image/png": "[encoded data removed]",
            "text/plain": [
              "<Figure size 432x288 with 1 Axes>"
            ]
          },
          "metadata": {
            "needs_background": "light"
          }
        },
        {
          "output_type": "stream",
          "name": "stdout",
          "text": [
            "\n"
          ]
        },
        {
          "output_type": "display_data",
          "data": {
            "image/png": "[encoded data removed]",
            "text/plain": [
              "<Figure size 432x288 with 1 Axes>"
            ]
          },
          "metadata": {
            "needs_background": "light"
          }
        },
        {
          "output_type": "stream",
          "name": "stdout",
          "text": [
            "\n"
          ]
        },
        {
          "output_type": "display_data",
          "data": {
            "image/png": "[encoded data removed]",
            "text/plain": [
              "<Figure size 432x288 with 1 Axes>"
            ]
          },
          "metadata": {
            "needs_background": "light"
          }
        },
        {
          "output_type": "stream",
          "name": "stdout",
          "text": [
            "\n"
          ]
        },
        {
          "output_type": "display_data",
          "data": {
            "image/png": "[encoded data removed]",
            "text/plain": [
              "<Figure size 432x288 with 1 Axes>"
            ]
          },
          "metadata": {
            "needs_background": "light"
          }
        }
      ]
    },
    {
      "cell_type": "markdown",
      "source": [
        "# 2 (c) \n"
      ],
      "metadata": {
        "id": "gu1xtZ6ExCdU"
      }
    },
    {
      "cell_type": "markdown",
      "source": [
        "## Train a Prejudice Remover model at three eta values and calculate metrics\n"
      ],
      "metadata": {
        "id": "APeTeITlhm4B"
      }
    },
    {
      "cell_type": "code",
      "source": [
        "etas = [0.01, 0.1, 1] # eta is the weight we apply to the fairness regularization parameter\n",
        "\n",
        "# train a Prejudice Remover model at these eta values and calculate metrics\n",
        "# (you may wish to use a for loop)\n",
        "overallAccuracy = []\n",
        "unprivilegedAccuracy = []\n",
        "privilegedAccuracy = []\n",
        "disparateImpact = []\n",
        "fprd = []\n",
        "\n",
        "for eta in etas:\n",
        "  prem = PrejudiceRemover(eta=eta, sensitive_attr=protected_attr)\n",
        "  prem.fit(dataset=train_df_AIF)\n",
        "  predAif = prem.predict(test_df_AIF)\n",
        "  predict_metrics = BinaryLabelDatasetMetric(predAif,\n",
        "                                              unprivileged_groups = unprivileged_groups,\n",
        "                                              privileged_groups = privileged_groups\n",
        "  )\n",
        "  old_vs_pred_metrics = ClassificationMetric(test_df_AIF,predAif,\n",
        "                                             unprivileged_groups=unprivileged_groups,\n",
        "                                             privileged_groups=privileged_groups)\n",
        "  \n",
        "  overallAccuracy.append(old_vs_pred_metrics.accuracy())\n",
        "  privilegedAccuracy.append(old_vs_pred_metrics.accuracy(privileged=True))\n",
        "  unprivilegedAccuracy.append(old_vs_pred_metrics.accuracy(privileged=False))\n",
        "  disparateImpact.append(old_vs_pred_metrics.disparate_impact())\n",
        "  fprd.append(old_vs_pred_metrics.false_positive_rate_difference())\n"
      ],
      "metadata": {
        "id": "NiejOOrrfEiG"
      },
      "execution_count": 43,
      "outputs": []
    },
    {
      "cell_type": "code",
      "source": [
        "# plot one or more of the metrics varies at the different values of eta\n",
        "def plot_metric(etas, metric_values, metric_name):\n",
        "  '''Creates a line plot showing how the metric changed for different values of repair level'''\n",
        "\n",
        "  # Plot the metrics\n",
        "  plt.plot(etas, metric_values, color='#0384fc', linewidth=3, label=metric_name)\n",
        "\n",
        "  # Create labels, etc. \n",
        "  plt.xlabel('eta Weight')\n",
        "  plt.ylabel(metric_name)\n",
        "  plt.legend()\n",
        "  plt.show()\n",
        "\n",
        "plot_metric(etas=etas, metric_values=fprd, metric_name= \"False Positive Rate Difference\")\n",
        "print()\n",
        "plot_metric(etas=etas, metric_values=disparateImpact, metric_name= \"Disparate Impact\")\n",
        "print()\n",
        "plot_metric(etas=etas, metric_values=overallAccuracy, metric_name= \"Overall Accuracy\")\n"
      ],
      "metadata": {
        "id": "FZ16AQ9frCRt",
        "colab": {
          "base_uri": "https://localhost:8080/",
          "height": 838
        },
        "outputId": "3546ad81-640c-4925-cdcd-aac56684225f"
      },
      "execution_count": 44,
      "outputs": [
        {
          "output_type": "display_data",
          "data": {
            "image/png": "[encoded data removed]",
            "text/plain": [
              "<Figure size 432x288 with 1 Axes>"
            ]
          },
          "metadata": {
            "needs_background": "light"
          }
        },
        {
          "output_type": "stream",
          "name": "stdout",
          "text": [
            "\n"
          ]
        },
        {
          "output_type": "display_data",
          "data": {
            "image/png": "[encoded data removed]",
            "text/plain": [
              "<Figure size 432x288 with 1 Axes>"
            ]
          },
          "metadata": {
            "needs_background": "light"
          }
        },
        {
          "output_type": "stream",
          "name": "stdout",
          "text": [
            "\n"
          ]
        },
        {
          "output_type": "display_data",
          "data": {
            "image/png": "[encoded data removed]",
            "text/plain": [
              "<Figure size 432x288 with 1 Axes>"
            ]
          },
          "metadata": {
            "needs_background": "light"
          }
        }
      ]
    }
  ]
}
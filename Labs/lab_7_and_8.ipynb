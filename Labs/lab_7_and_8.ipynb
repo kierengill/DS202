{
  "nbformat": 4,
  "nbformat_minor": 0,
  "metadata": {
    "kernelspec": {
      "name": "python3",
      "display_name": "Python 3"
    },
    "colab": {
      "name": "lab7_and_8",
      "provenance": [],
      "collapsed_sections": []
    }
  },
  "cells": [
    {
      "cell_type": "markdown",
      "metadata": {
        "id": "clfRTaEBUoCb"
      },
      "source": [
        "# RDS Lab 7 and 8: DataSynthesizer\n",
        "\n",
        "Today we will be talking about a privacy-preserving way to create synthetic data that (optionally) retains some useful characteristics of the original dataset. You can read about the DataSynthesizer in [Ping, Stoyanovich, and Howe (2017)](https://faculty.washington.edu/billhowe/publications/pdfs/ping17datasynthesizer.pdf). From the abstract:\n",
        "\n",
        "> To facilitate collaboration over sensitive data, we present DataSynthesizer, a tool that takes a sensitive dataset as input and generates a structurally and statistically similar synthetic dataset with strong privacy guarantees. The data owners need not release their data, while potential collaborators can begin developing models and methods with some confidence that their results will work similarly on the real dataset.\n",
        "\n",
        "We will cover three modes for generating synthetic data:\n",
        "  1. random mode\n",
        "  2. independent attribute mode\n",
        "  3. correlated attribute mode\n",
        "\n",
        "These modes are described in Ping, Stoyanovich, and Howe (2017, p.2):\n",
        "\n",
        "> DataSynthesizer can operate in one of three modes: In correlated attribute mode, we learn a differentially private Bayesian network capturing the correlation structure between attributes, then draw samples from this model to construct the result dataset. In cases where the correlated attribute mode is too computationally expensive or when there is insufficient data to derive a reasonable model, one can use independent attribute mode. In this mode, a histogram is derived for each attribute, noise is added to the histogram to achieve differential privacy, and then samples are drawn for each attribute. Finally, for cases of extremely sensitive data, one can use random mode that simply generates type-consistent random values for each attribute.\n",
        "\n",
        "\n"
      ]
    },
    {
      "cell_type": "code",
      "metadata": {
        "id": "mPFNHTWOUoCh",
        "colab": {
          "base_uri": "https://localhost:8080/"
        },
        "outputId": "2d258608-44f5-43ea-8c11-aad6f139ea8d"
      },
      "source": [
        "# Install DataSynthesizer\n",
        "!pip install DataSynthesizer"
      ],
      "execution_count": 1,
      "outputs": [
        {
          "output_type": "stream",
          "name": "stdout",
          "text": [
            "Collecting DataSynthesizer\n",
            "  Downloading DataSynthesizer-0.1.10-py2.py3-none-any.whl (24 kB)\n",
            "Requirement already satisfied: seaborn>=0.10.1 in /usr/local/lib/python3.7/dist-packages (from DataSynthesizer) (0.11.2)\n",
            "Requirement already satisfied: numpy>=1.18.5 in /usr/local/lib/python3.7/dist-packages (from DataSynthesizer) (1.21.5)\n",
            "Requirement already satisfied: matplotlib>=3.2.2 in /usr/local/lib/python3.7/dist-packages (from DataSynthesizer) (3.2.2)\n",
            "Requirement already satisfied: scikit-learn>=0.23.1 in /usr/local/lib/python3.7/dist-packages (from DataSynthesizer) (1.0.2)\n",
            "Requirement already satisfied: pandas>=1.0.5 in /usr/local/lib/python3.7/dist-packages (from DataSynthesizer) (1.3.5)\n",
            "Requirement already satisfied: python-dateutil>=2.8.1 in /usr/local/lib/python3.7/dist-packages (from DataSynthesizer) (2.8.2)\n",
            "Requirement already satisfied: kiwisolver>=1.0.1 in /usr/local/lib/python3.7/dist-packages (from matplotlib>=3.2.2->DataSynthesizer) (1.4.0)\n",
            "Requirement already satisfied: pyparsing!=2.0.4,!=2.1.2,!=2.1.6,>=2.0.1 in /usr/local/lib/python3.7/dist-packages (from matplotlib>=3.2.2->DataSynthesizer) (3.0.7)\n",
            "Requirement already satisfied: cycler>=0.10 in /usr/local/lib/python3.7/dist-packages (from matplotlib>=3.2.2->DataSynthesizer) (0.11.0)\n",
            "Requirement already satisfied: typing-extensions in /usr/local/lib/python3.7/dist-packages (from kiwisolver>=1.0.1->matplotlib>=3.2.2->DataSynthesizer) (3.10.0.2)\n",
            "Requirement already satisfied: pytz>=2017.3 in /usr/local/lib/python3.7/dist-packages (from pandas>=1.0.5->DataSynthesizer) (2018.9)\n",
            "Requirement already satisfied: six>=1.5 in /usr/local/lib/python3.7/dist-packages (from python-dateutil>=2.8.1->DataSynthesizer) (1.15.0)\n",
            "Requirement already satisfied: threadpoolctl>=2.0.0 in /usr/local/lib/python3.7/dist-packages (from scikit-learn>=0.23.1->DataSynthesizer) (3.1.0)\n",
            "Requirement already satisfied: scipy>=1.1.0 in /usr/local/lib/python3.7/dist-packages (from scikit-learn>=0.23.1->DataSynthesizer) (1.4.1)\n",
            "Requirement already satisfied: joblib>=0.11 in /usr/local/lib/python3.7/dist-packages (from scikit-learn>=0.23.1->DataSynthesizer) (1.1.0)\n",
            "Installing collected packages: DataSynthesizer\n",
            "Successfully installed DataSynthesizer-0.1.10\n"
          ]
        }
      ]
    },
    {
      "cell_type": "code",
      "metadata": {
        "id": "l0QcZb4pUoCi"
      },
      "source": [
        "# Import packages\n",
        "import json\n",
        "import pandas as pd\n",
        "import matplotlib.pyplot as plt\n",
        "%matplotlib inline\n",
        "from IPython.display import Image\n",
        "\n",
        "from DataSynthesizer.DataDescriber import DataDescriber\n",
        "from DataSynthesizer.DataGenerator import DataGenerator\n",
        "from DataSynthesizer.ModelInspector import ModelInspector\n",
        "from DataSynthesizer.lib.utils import read_json_file, display_bayesian_network"
      ],
      "execution_count": 2,
      "outputs": []
    },
    {
      "cell_type": "code",
      "metadata": {
        "id": "lwi1-t0EUoCj"
      },
      "source": [
        "# Intialize a describer and a generator\n",
        "describer = DataDescriber()\n",
        "generator = DataGenerator()"
      ],
      "execution_count": 3,
      "outputs": []
    },
    {
      "cell_type": "markdown",
      "metadata": {
        "id": "3slyik8nUoCj"
      },
      "source": [
        "## Preparation\n"
      ]
    },
    {
      "cell_type": "code",
      "metadata": {
        "id": "uUk_ukGuBQVW"
      },
      "source": [
        "# Packages for reading csv file into Colaboratory:\n",
        "!pip install -U -q PyDrive==1.3.1\n",
        "\n",
        "from pydrive.auth import GoogleAuth\n",
        "from pydrive.drive import GoogleDrive\n",
        "from google.colab import auth\n",
        "from oauth2client.client import GoogleCredentials\n",
        "\n",
        "# Authenticate and create the PyDrive client. \n",
        "# Please follow the steps as instructed when you run the following commands. \n",
        "\n",
        "auth.authenticate_user()\n",
        "gauth = GoogleAuth()\n",
        "gauth.credentials = GoogleCredentials.get_application_default()\n",
        "drive = GoogleDrive(gauth)"
      ],
      "execution_count": 4,
      "outputs": []
    },
    {
      "cell_type": "code",
      "metadata": {
        "id": "HAm_FkQjBV_a"
      },
      "source": [
        "fileid_compas = '1TDNwGAEwzqODunv-MkQvKNU2b_JgjzB2'    \n",
        "sensitive_data_file = 'adult_reduced.csv'\n",
        "\n",
        "downloaded = drive.CreateFile({'id':fileid_compas}) \n",
        "downloaded.GetContentFile(sensitive_data_file)\n",
        "# df_real = pd.read_csv(real_data_file)"
      ],
      "execution_count": 5,
      "outputs": []
    },
    {
      "cell_type": "code",
      "metadata": {
        "id": "ddP04yrzUoCk"
      },
      "source": [
        "# Set up some paths\n",
        "description_files = {'random mode':                   'description(random).json', \n",
        "                     'independent attribute mode':    'description(independent).json', \n",
        "                     'correlated attribute mode':     'description(correlated).json'}\n",
        "synthetic_data_files = {'random mode':                'synthetic data(random).csv', \n",
        "                        'independent attribute mode': 'synthetic data(independent).csv', \n",
        "                        'correlated attribute mode':  'synthetic data(correlated).csv'}\n",
        "\n",
        "output_data_size = 1000"
      ],
      "execution_count": 6,
      "outputs": []
    },
    {
      "cell_type": "code",
      "metadata": {
        "id": "MYpK70FUUoCk",
        "colab": {
          "base_uri": "https://localhost:8080/",
          "height": 206
        },
        "outputId": "2a8577b6-ef69-4322-abfe-0563b7ad1a02"
      },
      "source": [
        "# Read in the data\n",
        "real_data = pd.read_csv(sensitive_data_file)\n",
        "real_data.head()"
      ],
      "execution_count": 7,
      "outputs": [
        {
          "output_type": "execute_result",
          "data": {
            "text/plain": [
              "   age  education     sex   relationship      marital-status income\n",
              "0   39  Bachelors    Male  Not-in-family       Never-married  <=50K\n",
              "1   50  Bachelors    Male        Husband  Married-civ-spouse  <=50K\n",
              "2   38    HS-grad    Male  Not-in-family            Divorced  <=50K\n",
              "3   53       11th    Male        Husband  Married-civ-spouse  <=50K\n",
              "4   28  Bachelors  Female           Wife  Married-civ-spouse  <=50K"
            ],
            "text/html": [
              "\n",
              "  <div id=\"df-d4e0d2b9-2e64-4618-aea6-1dae6f0a92af\">\n",
              "    <div class=\"colab-df-container\">\n",
              "      <div>\n",
              "<style scoped>\n",
              "    .dataframe tbody tr th:only-of-type {\n",
              "        vertical-align: middle;\n",
              "    }\n",
              "\n",
              "    .dataframe tbody tr th {\n",
              "        vertical-align: top;\n",
              "    }\n",
              "\n",
              "    .dataframe thead th {\n",
              "        text-align: right;\n",
              "    }\n",
              "</style>\n",
              "<table border=\"1\" class=\"dataframe\">\n",
              "  <thead>\n",
              "    <tr style=\"text-align: right;\">\n",
              "      <th></th>\n",
              "      <th>age</th>\n",
              "      <th>education</th>\n",
              "      <th>sex</th>\n",
              "      <th>relationship</th>\n",
              "      <th>marital-status</th>\n",
              "      <th>income</th>\n",
              "    </tr>\n",
              "  </thead>\n",
              "  <tbody>\n",
              "    <tr>\n",
              "      <th>0</th>\n",
              "      <td>39</td>\n",
              "      <td>Bachelors</td>\n",
              "      <td>Male</td>\n",
              "      <td>Not-in-family</td>\n",
              "      <td>Never-married</td>\n",
              "      <td>&lt;=50K</td>\n",
              "    </tr>\n",
              "    <tr>\n",
              "      <th>1</th>\n",
              "      <td>50</td>\n",
              "      <td>Bachelors</td>\n",
              "      <td>Male</td>\n",
              "      <td>Husband</td>\n",
              "      <td>Married-civ-spouse</td>\n",
              "      <td>&lt;=50K</td>\n",
              "    </tr>\n",
              "    <tr>\n",
              "      <th>2</th>\n",
              "      <td>38</td>\n",
              "      <td>HS-grad</td>\n",
              "      <td>Male</td>\n",
              "      <td>Not-in-family</td>\n",
              "      <td>Divorced</td>\n",
              "      <td>&lt;=50K</td>\n",
              "    </tr>\n",
              "    <tr>\n",
              "      <th>3</th>\n",
              "      <td>53</td>\n",
              "      <td>11th</td>\n",
              "      <td>Male</td>\n",
              "      <td>Husband</td>\n",
              "      <td>Married-civ-spouse</td>\n",
              "      <td>&lt;=50K</td>\n",
              "    </tr>\n",
              "    <tr>\n",
              "      <th>4</th>\n",
              "      <td>28</td>\n",
              "      <td>Bachelors</td>\n",
              "      <td>Female</td>\n",
              "      <td>Wife</td>\n",
              "      <td>Married-civ-spouse</td>\n",
              "      <td>&lt;=50K</td>\n",
              "    </tr>\n",
              "  </tbody>\n",
              "</table>\n",
              "</div>\n",
              "      <button class=\"colab-df-convert\" onclick=\"convertToInteractive('df-d4e0d2b9-2e64-4618-aea6-1dae6f0a92af')\"\n",
              "              title=\"Convert this dataframe to an interactive table.\"\n",
              "              style=\"display:none;\">\n",
              "        \n",
              "  <svg xmlns=\"http://www.w3.org/2000/svg\" height=\"24px\"viewBox=\"0 0 24 24\"\n",
              "       width=\"24px\">\n",
              "    <path d=\"M0 0h24v24H0V0z\" fill=\"none\"/>\n",
              "    <path d=\"M18.56 5.44l.94 2.06.94-2.06 2.06-.94-2.06-.94-.94-2.06-.94 2.06-2.06.94zm-11 1L8.5 8.5l.94-2.06 2.06-.94-2.06-.94L8.5 2.5l-.94 2.06-2.06.94zm10 10l.94 2.06.94-2.06 2.06-.94-2.06-.94-.94-2.06-.94 2.06-2.06.94z\"/><path d=\"M17.41 7.96l-1.37-1.37c-.4-.4-.92-.59-1.43-.59-.52 0-1.04.2-1.43.59L10.3 9.45l-7.72 7.72c-.78.78-.78 2.05 0 2.83L4 21.41c.39.39.9.59 1.41.59.51 0 1.02-.2 1.41-.59l7.78-7.78 2.81-2.81c.8-.78.8-2.07 0-2.86zM5.41 20L4 18.59l7.72-7.72 1.47 1.35L5.41 20z\"/>\n",
              "  </svg>\n",
              "      </button>\n",
              "      \n",
              "  <style>\n",
              "    .colab-df-container {\n",
              "      display:flex;\n",
              "      flex-wrap:wrap;\n",
              "      gap: 12px;\n",
              "    }\n",
              "\n",
              "    .colab-df-convert {\n",
              "      background-color: #E8F0FE;\n",
              "      border: none;\n",
              "      border-radius: 50%;\n",
              "      cursor: pointer;\n",
              "      display: none;\n",
              "      fill: #1967D2;\n",
              "      height: 32px;\n",
              "      padding: 0 0 0 0;\n",
              "      width: 32px;\n",
              "    }\n",
              "\n",
              "    .colab-df-convert:hover {\n",
              "      background-color: #E2EBFA;\n",
              "      box-shadow: 0px 1px 2px rgba(60, 64, 67, 0.3), 0px 1px 3px 1px rgba(60, 64, 67, 0.15);\n",
              "      fill: #174EA6;\n",
              "    }\n",
              "\n",
              "    [theme=dark] .colab-df-convert {\n",
              "      background-color: #3B4455;\n",
              "      fill: #D2E3FC;\n",
              "    }\n",
              "\n",
              "    [theme=dark] .colab-df-convert:hover {\n",
              "      background-color: #434B5C;\n",
              "      box-shadow: 0px 1px 3px 1px rgba(0, 0, 0, 0.15);\n",
              "      filter: drop-shadow(0px 1px 2px rgba(0, 0, 0, 0.3));\n",
              "      fill: #FFFFFF;\n",
              "    }\n",
              "  </style>\n",
              "\n",
              "      <script>\n",
              "        const buttonEl =\n",
              "          document.querySelector('#df-d4e0d2b9-2e64-4618-aea6-1dae6f0a92af button.colab-df-convert');\n",
              "        buttonEl.style.display =\n",
              "          google.colab.kernel.accessAllowed ? 'block' : 'none';\n",
              "\n",
              "        async function convertToInteractive(key) {\n",
              "          const element = document.querySelector('#df-d4e0d2b9-2e64-4618-aea6-1dae6f0a92af');\n",
              "          const dataTable =\n",
              "            await google.colab.kernel.invokeFunction('convertToInteractive',\n",
              "                                                     [key], {});\n",
              "          if (!dataTable) return;\n",
              "\n",
              "          const docLinkHtml = 'Like what you see? Visit the ' +\n",
              "            '<a target=\"_blank\" href=https://colab.research.google.com/notebooks/data_table.ipynb>data table notebook</a>'\n",
              "            + ' to learn more about interactive tables.';\n",
              "          element.innerHTML = '';\n",
              "          dataTable['output_type'] = 'display_data';\n",
              "          await google.colab.output.renderOutput(dataTable, element);\n",
              "          const docLink = document.createElement('div');\n",
              "          docLink.innerHTML = docLinkHtml;\n",
              "          element.appendChild(docLink);\n",
              "        }\n",
              "      </script>\n",
              "    </div>\n",
              "  </div>\n",
              "  "
            ]
          },
          "metadata": {},
          "execution_count": 7
        }
      ]
    },
    {
      "cell_type": "markdown",
      "metadata": {
        "id": "s66z6S0Bhp1z"
      },
      "source": [
        "Take a moment to familiarize yourself with the above data."
      ]
    },
    {
      "cell_type": "markdown",
      "metadata": {
        "id": "qQqbrN5LUoCk"
      },
      "source": [
        "## Random mode\n",
        "\n",
        "In random mode, we replace the feature(s) that we want to protect with random values drawn from a uniform distribution:"
      ]
    },
    {
      "cell_type": "code",
      "metadata": {
        "id": "IUtKY-t3UoCl"
      },
      "source": [
        "describer.describe_dataset_in_random_mode(sensitive_data_file)"
      ],
      "execution_count": 8,
      "outputs": []
    },
    {
      "cell_type": "code",
      "metadata": {
        "id": "B__i_IeuUoCl"
      },
      "source": [
        "describer.save_dataset_description_to_file(description_files['random mode'])"
      ],
      "execution_count": 9,
      "outputs": []
    },
    {
      "cell_type": "markdown",
      "metadata": {
        "id": "BzsnFv6uUoCl"
      },
      "source": [
        "#### Important parameters in random mode\n",
        "\n",
        "Let's generate synthetic data in random mode. Pay attention to these parameters:\n",
        "\n",
        "- __seed__: initialize the random number generator for both `random` and `np.random`\n",
        "- __mininum__, __maximum__: determines the min and max of the random distribution from which we will draw the new values"
      ]
    },
    {
      "cell_type": "code",
      "metadata": {
        "id": "bOUP3RS5UoCl"
      },
      "source": [
        "generator.generate_dataset_in_random_mode(n=output_data_size, \n",
        "                                          description_file=description_files['random mode'], \n",
        "                                          seed=0, \n",
        "                                          minimum=0, \n",
        "                                          maximum=100)"
      ],
      "execution_count": 10,
      "outputs": []
    },
    {
      "cell_type": "markdown",
      "metadata": {
        "id": "-3hPX3VEMhDn"
      },
      "source": [
        "Now let's save the synthetic data, read it as a pandas dataframe, and look at the data:"
      ]
    },
    {
      "cell_type": "code",
      "metadata": {
        "id": "YVbIBDFOUoCm"
      },
      "source": [
        "generator.save_synthetic_data(synthetic_data_files['random mode'])"
      ],
      "execution_count": 11,
      "outputs": []
    },
    {
      "cell_type": "code",
      "metadata": {
        "id": "CEWufzwbUoCm"
      },
      "source": [
        "synthetic_random = pd.read_csv(synthetic_data_files['random mode'])"
      ],
      "execution_count": 12,
      "outputs": []
    },
    {
      "cell_type": "code",
      "metadata": {
        "id": "AzJIHgITUoCm",
        "colab": {
          "base_uri": "https://localhost:8080/",
          "height": 206
        },
        "outputId": "09978269-e998-4b95-fb3d-6c7b50e4277a"
      },
      "source": [
        "real_data.head()"
      ],
      "execution_count": 13,
      "outputs": [
        {
          "output_type": "execute_result",
          "data": {
            "text/plain": [
              "   age  education     sex   relationship      marital-status income\n",
              "0   39  Bachelors    Male  Not-in-family       Never-married  <=50K\n",
              "1   50  Bachelors    Male        Husband  Married-civ-spouse  <=50K\n",
              "2   38    HS-grad    Male  Not-in-family            Divorced  <=50K\n",
              "3   53       11th    Male        Husband  Married-civ-spouse  <=50K\n",
              "4   28  Bachelors  Female           Wife  Married-civ-spouse  <=50K"
            ],
            "text/html": [
              "\n",
              "  <div id=\"df-50fbf618-e817-44de-9f56-8dcfb8fcb928\">\n",
              "    <div class=\"colab-df-container\">\n",
              "      <div>\n",
              "<style scoped>\n",
              "    .dataframe tbody tr th:only-of-type {\n",
              "        vertical-align: middle;\n",
              "    }\n",
              "\n",
              "    .dataframe tbody tr th {\n",
              "        vertical-align: top;\n",
              "    }\n",
              "\n",
              "    .dataframe thead th {\n",
              "        text-align: right;\n",
              "    }\n",
              "</style>\n",
              "<table border=\"1\" class=\"dataframe\">\n",
              "  <thead>\n",
              "    <tr style=\"text-align: right;\">\n",
              "      <th></th>\n",
              "      <th>age</th>\n",
              "      <th>education</th>\n",
              "      <th>sex</th>\n",
              "      <th>relationship</th>\n",
              "      <th>marital-status</th>\n",
              "      <th>income</th>\n",
              "    </tr>\n",
              "  </thead>\n",
              "  <tbody>\n",
              "    <tr>\n",
              "      <th>0</th>\n",
              "      <td>39</td>\n",
              "      <td>Bachelors</td>\n",
              "      <td>Male</td>\n",
              "      <td>Not-in-family</td>\n",
              "      <td>Never-married</td>\n",
              "      <td>&lt;=50K</td>\n",
              "    </tr>\n",
              "    <tr>\n",
              "      <th>1</th>\n",
              "      <td>50</td>\n",
              "      <td>Bachelors</td>\n",
              "      <td>Male</td>\n",
              "      <td>Husband</td>\n",
              "      <td>Married-civ-spouse</td>\n",
              "      <td>&lt;=50K</td>\n",
              "    </tr>\n",
              "    <tr>\n",
              "      <th>2</th>\n",
              "      <td>38</td>\n",
              "      <td>HS-grad</td>\n",
              "      <td>Male</td>\n",
              "      <td>Not-in-family</td>\n",
              "      <td>Divorced</td>\n",
              "      <td>&lt;=50K</td>\n",
              "    </tr>\n",
              "    <tr>\n",
              "      <th>3</th>\n",
              "      <td>53</td>\n",
              "      <td>11th</td>\n",
              "      <td>Male</td>\n",
              "      <td>Husband</td>\n",
              "      <td>Married-civ-spouse</td>\n",
              "      <td>&lt;=50K</td>\n",
              "    </tr>\n",
              "    <tr>\n",
              "      <th>4</th>\n",
              "      <td>28</td>\n",
              "      <td>Bachelors</td>\n",
              "      <td>Female</td>\n",
              "      <td>Wife</td>\n",
              "      <td>Married-civ-spouse</td>\n",
              "      <td>&lt;=50K</td>\n",
              "    </tr>\n",
              "  </tbody>\n",
              "</table>\n",
              "</div>\n",
              "      <button class=\"colab-df-convert\" onclick=\"convertToInteractive('df-50fbf618-e817-44de-9f56-8dcfb8fcb928')\"\n",
              "              title=\"Convert this dataframe to an interactive table.\"\n",
              "              style=\"display:none;\">\n",
              "        \n",
              "  <svg xmlns=\"http://www.w3.org/2000/svg\" height=\"24px\"viewBox=\"0 0 24 24\"\n",
              "       width=\"24px\">\n",
              "    <path d=\"M0 0h24v24H0V0z\" fill=\"none\"/>\n",
              "    <path d=\"M18.56 5.44l.94 2.06.94-2.06 2.06-.94-2.06-.94-.94-2.06-.94 2.06-2.06.94zm-11 1L8.5 8.5l.94-2.06 2.06-.94-2.06-.94L8.5 2.5l-.94 2.06-2.06.94zm10 10l.94 2.06.94-2.06 2.06-.94-2.06-.94-.94-2.06-.94 2.06-2.06.94z\"/><path d=\"M17.41 7.96l-1.37-1.37c-.4-.4-.92-.59-1.43-.59-.52 0-1.04.2-1.43.59L10.3 9.45l-7.72 7.72c-.78.78-.78 2.05 0 2.83L4 21.41c.39.39.9.59 1.41.59.51 0 1.02-.2 1.41-.59l7.78-7.78 2.81-2.81c.8-.78.8-2.07 0-2.86zM5.41 20L4 18.59l7.72-7.72 1.47 1.35L5.41 20z\"/>\n",
              "  </svg>\n",
              "      </button>\n",
              "      \n",
              "  <style>\n",
              "    .colab-df-container {\n",
              "      display:flex;\n",
              "      flex-wrap:wrap;\n",
              "      gap: 12px;\n",
              "    }\n",
              "\n",
              "    .colab-df-convert {\n",
              "      background-color: #E8F0FE;\n",
              "      border: none;\n",
              "      border-radius: 50%;\n",
              "      cursor: pointer;\n",
              "      display: none;\n",
              "      fill: #1967D2;\n",
              "      height: 32px;\n",
              "      padding: 0 0 0 0;\n",
              "      width: 32px;\n",
              "    }\n",
              "\n",
              "    .colab-df-convert:hover {\n",
              "      background-color: #E2EBFA;\n",
              "      box-shadow: 0px 1px 2px rgba(60, 64, 67, 0.3), 0px 1px 3px 1px rgba(60, 64, 67, 0.15);\n",
              "      fill: #174EA6;\n",
              "    }\n",
              "\n",
              "    [theme=dark] .colab-df-convert {\n",
              "      background-color: #3B4455;\n",
              "      fill: #D2E3FC;\n",
              "    }\n",
              "\n",
              "    [theme=dark] .colab-df-convert:hover {\n",
              "      background-color: #434B5C;\n",
              "      box-shadow: 0px 1px 3px 1px rgba(0, 0, 0, 0.15);\n",
              "      filter: drop-shadow(0px 1px 2px rgba(0, 0, 0, 0.3));\n",
              "      fill: #FFFFFF;\n",
              "    }\n",
              "  </style>\n",
              "\n",
              "      <script>\n",
              "        const buttonEl =\n",
              "          document.querySelector('#df-50fbf618-e817-44de-9f56-8dcfb8fcb928 button.colab-df-convert');\n",
              "        buttonEl.style.display =\n",
              "          google.colab.kernel.accessAllowed ? 'block' : 'none';\n",
              "\n",
              "        async function convertToInteractive(key) {\n",
              "          const element = document.querySelector('#df-50fbf618-e817-44de-9f56-8dcfb8fcb928');\n",
              "          const dataTable =\n",
              "            await google.colab.kernel.invokeFunction('convertToInteractive',\n",
              "                                                     [key], {});\n",
              "          if (!dataTable) return;\n",
              "\n",
              "          const docLinkHtml = 'Like what you see? Visit the ' +\n",
              "            '<a target=\"_blank\" href=https://colab.research.google.com/notebooks/data_table.ipynb>data table notebook</a>'\n",
              "            + ' to learn more about interactive tables.';\n",
              "          element.innerHTML = '';\n",
              "          dataTable['output_type'] = 'display_data';\n",
              "          await google.colab.output.renderOutput(dataTable, element);\n",
              "          const docLink = document.createElement('div');\n",
              "          docLink.innerHTML = docLinkHtml;\n",
              "          element.appendChild(docLink);\n",
              "        }\n",
              "      </script>\n",
              "    </div>\n",
              "  </div>\n",
              "  "
            ]
          },
          "metadata": {},
          "execution_count": 13
        }
      ]
    },
    {
      "cell_type": "code",
      "metadata": {
        "id": "BtXKVWt-UoCm",
        "colab": {
          "base_uri": "https://localhost:8080/",
          "height": 206
        },
        "outputId": "085d291c-f4e5-4cfd-b1b4-0ccf1f6873a4"
      },
      "source": [
        "synthetic_random.head()"
      ],
      "execution_count": 14,
      "outputs": [
        {
          "output_type": "execute_result",
          "data": {
            "text/plain": [
              "   age     education     sex    relationship      marital-status income\n",
              "0   44     Preschool    Male         Husband  Married-civ-spouse  <=50K\n",
              "1   47  Some-college  Female         Husband           Separated   >50K\n",
              "2   64    Assoc-acdm  Female   Not-in-family           Separated  <=50K\n",
              "3   67       Masters    Male  Other-relative  Married-civ-spouse  <=50K\n",
              "4   67          12th    Male       Own-child       Never-married   >50K"
            ],
            "text/html": [
              "\n",
              "  <div id=\"df-ef3dfcd5-00aa-4eeb-afbf-f1359d55a57a\">\n",
              "    <div class=\"colab-df-container\">\n",
              "      <div>\n",
              "<style scoped>\n",
              "    .dataframe tbody tr th:only-of-type {\n",
              "        vertical-align: middle;\n",
              "    }\n",
              "\n",
              "    .dataframe tbody tr th {\n",
              "        vertical-align: top;\n",
              "    }\n",
              "\n",
              "    .dataframe thead th {\n",
              "        text-align: right;\n",
              "    }\n",
              "</style>\n",
              "<table border=\"1\" class=\"dataframe\">\n",
              "  <thead>\n",
              "    <tr style=\"text-align: right;\">\n",
              "      <th></th>\n",
              "      <th>age</th>\n",
              "      <th>education</th>\n",
              "      <th>sex</th>\n",
              "      <th>relationship</th>\n",
              "      <th>marital-status</th>\n",
              "      <th>income</th>\n",
              "    </tr>\n",
              "  </thead>\n",
              "  <tbody>\n",
              "    <tr>\n",
              "      <th>0</th>\n",
              "      <td>44</td>\n",
              "      <td>Preschool</td>\n",
              "      <td>Male</td>\n",
              "      <td>Husband</td>\n",
              "      <td>Married-civ-spouse</td>\n",
              "      <td>&lt;=50K</td>\n",
              "    </tr>\n",
              "    <tr>\n",
              "      <th>1</th>\n",
              "      <td>47</td>\n",
              "      <td>Some-college</td>\n",
              "      <td>Female</td>\n",
              "      <td>Husband</td>\n",
              "      <td>Separated</td>\n",
              "      <td>&gt;50K</td>\n",
              "    </tr>\n",
              "    <tr>\n",
              "      <th>2</th>\n",
              "      <td>64</td>\n",
              "      <td>Assoc-acdm</td>\n",
              "      <td>Female</td>\n",
              "      <td>Not-in-family</td>\n",
              "      <td>Separated</td>\n",
              "      <td>&lt;=50K</td>\n",
              "    </tr>\n",
              "    <tr>\n",
              "      <th>3</th>\n",
              "      <td>67</td>\n",
              "      <td>Masters</td>\n",
              "      <td>Male</td>\n",
              "      <td>Other-relative</td>\n",
              "      <td>Married-civ-spouse</td>\n",
              "      <td>&lt;=50K</td>\n",
              "    </tr>\n",
              "    <tr>\n",
              "      <th>4</th>\n",
              "      <td>67</td>\n",
              "      <td>12th</td>\n",
              "      <td>Male</td>\n",
              "      <td>Own-child</td>\n",
              "      <td>Never-married</td>\n",
              "      <td>&gt;50K</td>\n",
              "    </tr>\n",
              "  </tbody>\n",
              "</table>\n",
              "</div>\n",
              "      <button class=\"colab-df-convert\" onclick=\"convertToInteractive('df-ef3dfcd5-00aa-4eeb-afbf-f1359d55a57a')\"\n",
              "              title=\"Convert this dataframe to an interactive table.\"\n",
              "              style=\"display:none;\">\n",
              "        \n",
              "  <svg xmlns=\"http://www.w3.org/2000/svg\" height=\"24px\"viewBox=\"0 0 24 24\"\n",
              "       width=\"24px\">\n",
              "    <path d=\"M0 0h24v24H0V0z\" fill=\"none\"/>\n",
              "    <path d=\"M18.56 5.44l.94 2.06.94-2.06 2.06-.94-2.06-.94-.94-2.06-.94 2.06-2.06.94zm-11 1L8.5 8.5l.94-2.06 2.06-.94-2.06-.94L8.5 2.5l-.94 2.06-2.06.94zm10 10l.94 2.06.94-2.06 2.06-.94-2.06-.94-.94-2.06-.94 2.06-2.06.94z\"/><path d=\"M17.41 7.96l-1.37-1.37c-.4-.4-.92-.59-1.43-.59-.52 0-1.04.2-1.43.59L10.3 9.45l-7.72 7.72c-.78.78-.78 2.05 0 2.83L4 21.41c.39.39.9.59 1.41.59.51 0 1.02-.2 1.41-.59l7.78-7.78 2.81-2.81c.8-.78.8-2.07 0-2.86zM5.41 20L4 18.59l7.72-7.72 1.47 1.35L5.41 20z\"/>\n",
              "  </svg>\n",
              "      </button>\n",
              "      \n",
              "  <style>\n",
              "    .colab-df-container {\n",
              "      display:flex;\n",
              "      flex-wrap:wrap;\n",
              "      gap: 12px;\n",
              "    }\n",
              "\n",
              "    .colab-df-convert {\n",
              "      background-color: #E8F0FE;\n",
              "      border: none;\n",
              "      border-radius: 50%;\n",
              "      cursor: pointer;\n",
              "      display: none;\n",
              "      fill: #1967D2;\n",
              "      height: 32px;\n",
              "      padding: 0 0 0 0;\n",
              "      width: 32px;\n",
              "    }\n",
              "\n",
              "    .colab-df-convert:hover {\n",
              "      background-color: #E2EBFA;\n",
              "      box-shadow: 0px 1px 2px rgba(60, 64, 67, 0.3), 0px 1px 3px 1px rgba(60, 64, 67, 0.15);\n",
              "      fill: #174EA6;\n",
              "    }\n",
              "\n",
              "    [theme=dark] .colab-df-convert {\n",
              "      background-color: #3B4455;\n",
              "      fill: #D2E3FC;\n",
              "    }\n",
              "\n",
              "    [theme=dark] .colab-df-convert:hover {\n",
              "      background-color: #434B5C;\n",
              "      box-shadow: 0px 1px 3px 1px rgba(0, 0, 0, 0.15);\n",
              "      filter: drop-shadow(0px 1px 2px rgba(0, 0, 0, 0.3));\n",
              "      fill: #FFFFFF;\n",
              "    }\n",
              "  </style>\n",
              "\n",
              "      <script>\n",
              "        const buttonEl =\n",
              "          document.querySelector('#df-ef3dfcd5-00aa-4eeb-afbf-f1359d55a57a button.colab-df-convert');\n",
              "        buttonEl.style.display =\n",
              "          google.colab.kernel.accessAllowed ? 'block' : 'none';\n",
              "\n",
              "        async function convertToInteractive(key) {\n",
              "          const element = document.querySelector('#df-ef3dfcd5-00aa-4eeb-afbf-f1359d55a57a');\n",
              "          const dataTable =\n",
              "            await google.colab.kernel.invokeFunction('convertToInteractive',\n",
              "                                                     [key], {});\n",
              "          if (!dataTable) return;\n",
              "\n",
              "          const docLinkHtml = 'Like what you see? Visit the ' +\n",
              "            '<a target=\"_blank\" href=https://colab.research.google.com/notebooks/data_table.ipynb>data table notebook</a>'\n",
              "            + ' to learn more about interactive tables.';\n",
              "          element.innerHTML = '';\n",
              "          dataTable['output_type'] = 'display_data';\n",
              "          await google.colab.output.renderOutput(dataTable, element);\n",
              "          const docLink = document.createElement('div');\n",
              "          docLink.innerHTML = docLinkHtml;\n",
              "          element.appendChild(docLink);\n",
              "        }\n",
              "      </script>\n",
              "    </div>\n",
              "  </div>\n",
              "  "
            ]
          },
          "metadata": {},
          "execution_count": 14
        }
      ]
    },
    {
      "cell_type": "markdown",
      "metadata": {
        "id": "uUD2ZWzok6vh"
      },
      "source": [
        "__Compare the two dataframes above (the real data and synthetic data we just generated):__\n",
        "1. Look at the rows; how do the values of the real data and synthetic data compare? \n",
        "The values are completely different, but they all have the same type of attributes associated with them.\n",
        "2. Do we need to consider something else apart from whether a particular value differs?\n",
        "We need to consider if the overall properties of the distribution of the participants are preserved when the synthetic dataset is generated."
      ]
    },
    {
      "cell_type": "code",
      "metadata": {
        "id": "VpeqBitBUoCn",
        "colab": {
          "base_uri": "https://localhost:8080/",
          "height": 355
        },
        "outputId": "0ce14e80-d84d-4fc8-e913-6ab4ff5b3568"
      },
      "source": [
        "# plot the distribution of age in real_data and in synthetic_random\n",
        "# write your code here\n",
        "figs, axes = plt.subplots(1,2, figsize=(8,3), dpi=100)\n",
        "axes[0].hist(real_data['age'])\n",
        "axes[1].hist(synthetic_random['age'])\n",
        "axes[0].set_xlabel('age')\n",
        "axes[1].set_xlabel('age')\n",
        "axes[0].set_title('real data')\n",
        "axes[1].set_title('random mode')"
      ],
      "execution_count": 15,
      "outputs": [
        {
          "output_type": "execute_result",
          "data": {
            "text/plain": [
              "Text(0.5, 1.0, 'random mode')"
            ]
          },
          "metadata": {},
          "execution_count": 15
        },
        {
          "output_type": "display_data",
          "data": {
            "text/plain": [
              "<Figure size 800x300 with 2 Axes>"
            ],
            "image/png": "[encoded data removed]"
          },
          "metadata": {}
        }
      ]
    },
    {
      "cell_type": "code",
      "metadata": {
        "id": "4HL9B-0QUoCn",
        "colab": {
          "base_uri": "https://localhost:8080/",
          "height": 237
        },
        "outputId": "ae78752d-305e-4be0-e95d-4697e9f0b490"
      },
      "source": [
        "# compare the frequency of the different values of relationship status in real_data and synthetic_data (you can use a table and/or plots)\n",
        "# write your code here\n",
        "relationship_real = real_data['relationship'].value_counts()\n",
        "relationship_random = synthetic_random['relationship'].value_counts()\n",
        "relationship_both = pd.merge(relationship_real.to_frame(),\n",
        "                             relationship_random.to_frame(),\n",
        "                             left_index=True,\n",
        "                             right_index=True,\n",
        "                             suffixes=('_real','_random_mode'))\n",
        "relationship_both"
      ],
      "execution_count": 16,
      "outputs": [
        {
          "output_type": "execute_result",
          "data": {
            "text/plain": [
              "                relationship_real  relationship_random_mode\n",
              "Husband                     13193                       156\n",
              "Not-in-family                8305                       159\n",
              "Own-child                    5068                       189\n",
              "Unmarried                    3446                       165\n",
              "Wife                         1568                       166\n",
              "Other-relative                981                       165"
            ],
            "text/html": [
              "\n",
              "  <div id=\"df-39e4b62b-ee6a-4cda-9454-bb1463dfebc9\">\n",
              "    <div class=\"colab-df-container\">\n",
              "      <div>\n",
              "<style scoped>\n",
              "    .dataframe tbody tr th:only-of-type {\n",
              "        vertical-align: middle;\n",
              "    }\n",
              "\n",
              "    .dataframe tbody tr th {\n",
              "        vertical-align: top;\n",
              "    }\n",
              "\n",
              "    .dataframe thead th {\n",
              "        text-align: right;\n",
              "    }\n",
              "</style>\n",
              "<table border=\"1\" class=\"dataframe\">\n",
              "  <thead>\n",
              "    <tr style=\"text-align: right;\">\n",
              "      <th></th>\n",
              "      <th>relationship_real</th>\n",
              "      <th>relationship_random_mode</th>\n",
              "    </tr>\n",
              "  </thead>\n",
              "  <tbody>\n",
              "    <tr>\n",
              "      <th>Husband</th>\n",
              "      <td>13193</td>\n",
              "      <td>156</td>\n",
              "    </tr>\n",
              "    <tr>\n",
              "      <th>Not-in-family</th>\n",
              "      <td>8305</td>\n",
              "      <td>159</td>\n",
              "    </tr>\n",
              "    <tr>\n",
              "      <th>Own-child</th>\n",
              "      <td>5068</td>\n",
              "      <td>189</td>\n",
              "    </tr>\n",
              "    <tr>\n",
              "      <th>Unmarried</th>\n",
              "      <td>3446</td>\n",
              "      <td>165</td>\n",
              "    </tr>\n",
              "    <tr>\n",
              "      <th>Wife</th>\n",
              "      <td>1568</td>\n",
              "      <td>166</td>\n",
              "    </tr>\n",
              "    <tr>\n",
              "      <th>Other-relative</th>\n",
              "      <td>981</td>\n",
              "      <td>165</td>\n",
              "    </tr>\n",
              "  </tbody>\n",
              "</table>\n",
              "</div>\n",
              "      <button class=\"colab-df-convert\" onclick=\"convertToInteractive('df-39e4b62b-ee6a-4cda-9454-bb1463dfebc9')\"\n",
              "              title=\"Convert this dataframe to an interactive table.\"\n",
              "              style=\"display:none;\">\n",
              "        \n",
              "  <svg xmlns=\"http://www.w3.org/2000/svg\" height=\"24px\"viewBox=\"0 0 24 24\"\n",
              "       width=\"24px\">\n",
              "    <path d=\"M0 0h24v24H0V0z\" fill=\"none\"/>\n",
              "    <path d=\"M18.56 5.44l.94 2.06.94-2.06 2.06-.94-2.06-.94-.94-2.06-.94 2.06-2.06.94zm-11 1L8.5 8.5l.94-2.06 2.06-.94-2.06-.94L8.5 2.5l-.94 2.06-2.06.94zm10 10l.94 2.06.94-2.06 2.06-.94-2.06-.94-.94-2.06-.94 2.06-2.06.94z\"/><path d=\"M17.41 7.96l-1.37-1.37c-.4-.4-.92-.59-1.43-.59-.52 0-1.04.2-1.43.59L10.3 9.45l-7.72 7.72c-.78.78-.78 2.05 0 2.83L4 21.41c.39.39.9.59 1.41.59.51 0 1.02-.2 1.41-.59l7.78-7.78 2.81-2.81c.8-.78.8-2.07 0-2.86zM5.41 20L4 18.59l7.72-7.72 1.47 1.35L5.41 20z\"/>\n",
              "  </svg>\n",
              "      </button>\n",
              "      \n",
              "  <style>\n",
              "    .colab-df-container {\n",
              "      display:flex;\n",
              "      flex-wrap:wrap;\n",
              "      gap: 12px;\n",
              "    }\n",
              "\n",
              "    .colab-df-convert {\n",
              "      background-color: #E8F0FE;\n",
              "      border: none;\n",
              "      border-radius: 50%;\n",
              "      cursor: pointer;\n",
              "      display: none;\n",
              "      fill: #1967D2;\n",
              "      height: 32px;\n",
              "      padding: 0 0 0 0;\n",
              "      width: 32px;\n",
              "    }\n",
              "\n",
              "    .colab-df-convert:hover {\n",
              "      background-color: #E2EBFA;\n",
              "      box-shadow: 0px 1px 2px rgba(60, 64, 67, 0.3), 0px 1px 3px 1px rgba(60, 64, 67, 0.15);\n",
              "      fill: #174EA6;\n",
              "    }\n",
              "\n",
              "    [theme=dark] .colab-df-convert {\n",
              "      background-color: #3B4455;\n",
              "      fill: #D2E3FC;\n",
              "    }\n",
              "\n",
              "    [theme=dark] .colab-df-convert:hover {\n",
              "      background-color: #434B5C;\n",
              "      box-shadow: 0px 1px 3px 1px rgba(0, 0, 0, 0.15);\n",
              "      filter: drop-shadow(0px 1px 2px rgba(0, 0, 0, 0.3));\n",
              "      fill: #FFFFFF;\n",
              "    }\n",
              "  </style>\n",
              "\n",
              "      <script>\n",
              "        const buttonEl =\n",
              "          document.querySelector('#df-39e4b62b-ee6a-4cda-9454-bb1463dfebc9 button.colab-df-convert');\n",
              "        buttonEl.style.display =\n",
              "          google.colab.kernel.accessAllowed ? 'block' : 'none';\n",
              "\n",
              "        async function convertToInteractive(key) {\n",
              "          const element = document.querySelector('#df-39e4b62b-ee6a-4cda-9454-bb1463dfebc9');\n",
              "          const dataTable =\n",
              "            await google.colab.kernel.invokeFunction('convertToInteractive',\n",
              "                                                     [key], {});\n",
              "          if (!dataTable) return;\n",
              "\n",
              "          const docLinkHtml = 'Like what you see? Visit the ' +\n",
              "            '<a target=\"_blank\" href=https://colab.research.google.com/notebooks/data_table.ipynb>data table notebook</a>'\n",
              "            + ' to learn more about interactive tables.';\n",
              "          element.innerHTML = '';\n",
              "          dataTable['output_type'] = 'display_data';\n",
              "          await google.colab.output.renderOutput(dataTable, element);\n",
              "          const docLink = document.createElement('div');\n",
              "          docLink.innerHTML = docLinkHtml;\n",
              "          element.appendChild(docLink);\n",
              "        }\n",
              "      </script>\n",
              "    </div>\n",
              "  </div>\n",
              "  "
            ]
          },
          "metadata": {},
          "execution_count": 16
        }
      ]
    },
    {
      "cell_type": "markdown",
      "metadata": {
        "id": "vJALaaynKjZ5"
      },
      "source": [
        "We can pull more information on how the relationship feature is generated in random mode using the describer functions:"
      ]
    },
    {
      "cell_type": "code",
      "metadata": {
        "id": "sfA1M0RUUoCn"
      },
      "source": [
        "with open(description_files['random mode']) as f:\n",
        "    description_json = json.load(f)"
      ],
      "execution_count": 17,
      "outputs": []
    },
    {
      "cell_type": "code",
      "metadata": {
        "id": "mOGaHF2eUoCo",
        "colab": {
          "base_uri": "https://localhost:8080/"
        },
        "outputId": "9fb7830d-c1b2-4334-d3cd-84539c75d2d0"
      },
      "source": [
        "description_json.keys()"
      ],
      "execution_count": 18,
      "outputs": [
        {
          "output_type": "execute_result",
          "data": {
            "text/plain": [
              "dict_keys(['meta', 'attribute_description'])"
            ]
          },
          "metadata": {},
          "execution_count": 18
        }
      ]
    },
    {
      "cell_type": "code",
      "metadata": {
        "id": "wwKz55nmUoCo",
        "colab": {
          "base_uri": "https://localhost:8080/"
        },
        "outputId": "7fca4f2c-9da6-4e0f-c878-942b57161e78"
      },
      "source": [
        "print(json.dumps(description_json['attribute_description']['relationship'], indent=4))"
      ],
      "execution_count": 19,
      "outputs": [
        {
          "output_type": "stream",
          "name": "stdout",
          "text": [
            "{\n",
            "    \"name\": \"relationship\",\n",
            "    \"data_type\": \"String\",\n",
            "    \"is_categorical\": true,\n",
            "    \"is_candidate_key\": false,\n",
            "    \"min\": 4,\n",
            "    \"max\": 14,\n",
            "    \"missing_rate\": 0.0,\n",
            "    \"distribution_bins\": [\n",
            "        \"Not-in-family\",\n",
            "        \"Husband\",\n",
            "        \"Wife\",\n",
            "        \"Own-child\",\n",
            "        \"Unmarried\",\n",
            "        \"Other-relative\"\n",
            "    ],\n",
            "    \"distribution_probabilities\": [\n",
            "        0.16666666666666666,\n",
            "        0.16666666666666666,\n",
            "        0.16666666666666666,\n",
            "        0.16666666666666666,\n",
            "        0.16666666666666666,\n",
            "        0.16666666666666666\n",
            "    ]\n",
            "}\n"
          ]
        }
      ]
    },
    {
      "cell_type": "markdown",
      "metadata": {
        "id": "T4gTInTFUoCo"
      },
      "source": [
        "## Independent attribute mode\n",
        "\n",
        "In independent attribute mode, we replace the feature we want to protect with values that follow the same distribution as the original data. However, we do not consider any other features when determining the new value for the sensitive feature. "
      ]
    },
    {
      "cell_type": "code",
      "metadata": {
        "id": "duUPmKejUoCo"
      },
      "source": [
        "describer.describe_dataset_in_independent_attribute_mode(sensitive_data_file, epsilon=0.1)"
      ],
      "execution_count": 20,
      "outputs": []
    },
    {
      "cell_type": "code",
      "metadata": {
        "id": "3fLZRLBhUoCo"
      },
      "source": [
        "describer.save_dataset_description_to_file(description_files['independent attribute mode'])"
      ],
      "execution_count": 21,
      "outputs": []
    },
    {
      "cell_type": "markdown",
      "metadata": {
        "id": "UiU-FvMQLYFY"
      },
      "source": [
        "Use ``generator.generate_dataset_in_independent_mode`` to generate synthetic data using the independent attribute mode. Hint: Look at the ``generate_dataset_in_random_mode`` code above if you are unsure how to proceed. You should set a seed, but you do not need to set a minimum or maximum:"
      ]
    },
    {
      "cell_type": "code",
      "metadata": {
        "id": "4LrdvAJDUoCp"
      },
      "source": [
        "# generate synthetic data in independent attribute mode\n",
        "# write your code here using: generator.generate_dataset_in_independent_mode\n",
        "generator.generate_dataset_in_independent_mode(n=output_data_size, \n",
        "                                          description_file=description_files['independent attribute mode'], \n",
        "                                          seed=0)"
      ],
      "execution_count": 22,
      "outputs": []
    },
    {
      "cell_type": "markdown",
      "metadata": {
        "id": "MEAcPlvNMIp_"
      },
      "source": [
        "Now let's save the synthetic data we just generated in independent attribute mode, read it as a pandas dataframe, and view it:"
      ]
    },
    {
      "cell_type": "code",
      "metadata": {
        "id": "yEfbtaOnUoCp"
      },
      "source": [
        "generator.save_synthetic_data(synthetic_data_files['independent attribute mode'])"
      ],
      "execution_count": 23,
      "outputs": []
    },
    {
      "cell_type": "code",
      "metadata": {
        "id": "hpgtPmGuUoCp"
      },
      "source": [
        "synthetic_independent = pd.read_csv(synthetic_data_files['independent attribute mode'])"
      ],
      "execution_count": 24,
      "outputs": []
    },
    {
      "cell_type": "code",
      "metadata": {
        "id": "p9CmkrhEUoCp",
        "colab": {
          "base_uri": "https://localhost:8080/",
          "height": 206
        },
        "outputId": "273c61c5-24c2-4248-fc53-b160954d358c"
      },
      "source": [
        "synthetic_independent.head()"
      ],
      "execution_count": 25,
      "outputs": [
        {
          "output_type": "execute_result",
          "data": {
            "text/plain": [
              "    age education     sex   relationship      marital-status income\n",
              "0  42.0   HS-grad    Male  Not-in-family  Married-civ-spouse  <=50K\n",
              "1  45.0      10th    Male  Not-in-family  Married-civ-spouse  <=50K\n",
              "2  40.0   HS-grad    Male      Own-child            Divorced  <=50K\n",
              "3  36.0   HS-grad  Female      Unmarried  Married-civ-spouse  <=50K\n",
              "4  33.0      11th    Male      Own-child            Divorced  <=50K"
            ],
            "text/html": [
              "\n",
              "  <div id=\"df-5edbdfcf-d129-4d51-ad50-0b53f7d82d1d\">\n",
              "    <div class=\"colab-df-container\">\n",
              "      <div>\n",
              "<style scoped>\n",
              "    .dataframe tbody tr th:only-of-type {\n",
              "        vertical-align: middle;\n",
              "    }\n",
              "\n",
              "    .dataframe tbody tr th {\n",
              "        vertical-align: top;\n",
              "    }\n",
              "\n",
              "    .dataframe thead th {\n",
              "        text-align: right;\n",
              "    }\n",
              "</style>\n",
              "<table border=\"1\" class=\"dataframe\">\n",
              "  <thead>\n",
              "    <tr style=\"text-align: right;\">\n",
              "      <th></th>\n",
              "      <th>age</th>\n",
              "      <th>education</th>\n",
              "      <th>sex</th>\n",
              "      <th>relationship</th>\n",
              "      <th>marital-status</th>\n",
              "      <th>income</th>\n",
              "    </tr>\n",
              "  </thead>\n",
              "  <tbody>\n",
              "    <tr>\n",
              "      <th>0</th>\n",
              "      <td>42.0</td>\n",
              "      <td>HS-grad</td>\n",
              "      <td>Male</td>\n",
              "      <td>Not-in-family</td>\n",
              "      <td>Married-civ-spouse</td>\n",
              "      <td>&lt;=50K</td>\n",
              "    </tr>\n",
              "    <tr>\n",
              "      <th>1</th>\n",
              "      <td>45.0</td>\n",
              "      <td>10th</td>\n",
              "      <td>Male</td>\n",
              "      <td>Not-in-family</td>\n",
              "      <td>Married-civ-spouse</td>\n",
              "      <td>&lt;=50K</td>\n",
              "    </tr>\n",
              "    <tr>\n",
              "      <th>2</th>\n",
              "      <td>40.0</td>\n",
              "      <td>HS-grad</td>\n",
              "      <td>Male</td>\n",
              "      <td>Own-child</td>\n",
              "      <td>Divorced</td>\n",
              "      <td>&lt;=50K</td>\n",
              "    </tr>\n",
              "    <tr>\n",
              "      <th>3</th>\n",
              "      <td>36.0</td>\n",
              "      <td>HS-grad</td>\n",
              "      <td>Female</td>\n",
              "      <td>Unmarried</td>\n",
              "      <td>Married-civ-spouse</td>\n",
              "      <td>&lt;=50K</td>\n",
              "    </tr>\n",
              "    <tr>\n",
              "      <th>4</th>\n",
              "      <td>33.0</td>\n",
              "      <td>11th</td>\n",
              "      <td>Male</td>\n",
              "      <td>Own-child</td>\n",
              "      <td>Divorced</td>\n",
              "      <td>&lt;=50K</td>\n",
              "    </tr>\n",
              "  </tbody>\n",
              "</table>\n",
              "</div>\n",
              "      <button class=\"colab-df-convert\" onclick=\"convertToInteractive('df-5edbdfcf-d129-4d51-ad50-0b53f7d82d1d')\"\n",
              "              title=\"Convert this dataframe to an interactive table.\"\n",
              "              style=\"display:none;\">\n",
              "        \n",
              "  <svg xmlns=\"http://www.w3.org/2000/svg\" height=\"24px\"viewBox=\"0 0 24 24\"\n",
              "       width=\"24px\">\n",
              "    <path d=\"M0 0h24v24H0V0z\" fill=\"none\"/>\n",
              "    <path d=\"M18.56 5.44l.94 2.06.94-2.06 2.06-.94-2.06-.94-.94-2.06-.94 2.06-2.06.94zm-11 1L8.5 8.5l.94-2.06 2.06-.94-2.06-.94L8.5 2.5l-.94 2.06-2.06.94zm10 10l.94 2.06.94-2.06 2.06-.94-2.06-.94-.94-2.06-.94 2.06-2.06.94z\"/><path d=\"M17.41 7.96l-1.37-1.37c-.4-.4-.92-.59-1.43-.59-.52 0-1.04.2-1.43.59L10.3 9.45l-7.72 7.72c-.78.78-.78 2.05 0 2.83L4 21.41c.39.39.9.59 1.41.59.51 0 1.02-.2 1.41-.59l7.78-7.78 2.81-2.81c.8-.78.8-2.07 0-2.86zM5.41 20L4 18.59l7.72-7.72 1.47 1.35L5.41 20z\"/>\n",
              "  </svg>\n",
              "      </button>\n",
              "      \n",
              "  <style>\n",
              "    .colab-df-container {\n",
              "      display:flex;\n",
              "      flex-wrap:wrap;\n",
              "      gap: 12px;\n",
              "    }\n",
              "\n",
              "    .colab-df-convert {\n",
              "      background-color: #E8F0FE;\n",
              "      border: none;\n",
              "      border-radius: 50%;\n",
              "      cursor: pointer;\n",
              "      display: none;\n",
              "      fill: #1967D2;\n",
              "      height: 32px;\n",
              "      padding: 0 0 0 0;\n",
              "      width: 32px;\n",
              "    }\n",
              "\n",
              "    .colab-df-convert:hover {\n",
              "      background-color: #E2EBFA;\n",
              "      box-shadow: 0px 1px 2px rgba(60, 64, 67, 0.3), 0px 1px 3px 1px rgba(60, 64, 67, 0.15);\n",
              "      fill: #174EA6;\n",
              "    }\n",
              "\n",
              "    [theme=dark] .colab-df-convert {\n",
              "      background-color: #3B4455;\n",
              "      fill: #D2E3FC;\n",
              "    }\n",
              "\n",
              "    [theme=dark] .colab-df-convert:hover {\n",
              "      background-color: #434B5C;\n",
              "      box-shadow: 0px 1px 3px 1px rgba(0, 0, 0, 0.15);\n",
              "      filter: drop-shadow(0px 1px 2px rgba(0, 0, 0, 0.3));\n",
              "      fill: #FFFFFF;\n",
              "    }\n",
              "  </style>\n",
              "\n",
              "      <script>\n",
              "        const buttonEl =\n",
              "          document.querySelector('#df-5edbdfcf-d129-4d51-ad50-0b53f7d82d1d button.colab-df-convert');\n",
              "        buttonEl.style.display =\n",
              "          google.colab.kernel.accessAllowed ? 'block' : 'none';\n",
              "\n",
              "        async function convertToInteractive(key) {\n",
              "          const element = document.querySelector('#df-5edbdfcf-d129-4d51-ad50-0b53f7d82d1d');\n",
              "          const dataTable =\n",
              "            await google.colab.kernel.invokeFunction('convertToInteractive',\n",
              "                                                     [key], {});\n",
              "          if (!dataTable) return;\n",
              "\n",
              "          const docLinkHtml = 'Like what you see? Visit the ' +\n",
              "            '<a target=\"_blank\" href=https://colab.research.google.com/notebooks/data_table.ipynb>data table notebook</a>'\n",
              "            + ' to learn more about interactive tables.';\n",
              "          element.innerHTML = '';\n",
              "          dataTable['output_type'] = 'display_data';\n",
              "          await google.colab.output.renderOutput(dataTable, element);\n",
              "          const docLink = document.createElement('div');\n",
              "          docLink.innerHTML = docLinkHtml;\n",
              "          element.appendChild(docLink);\n",
              "        }\n",
              "      </script>\n",
              "    </div>\n",
              "  </div>\n",
              "  "
            ]
          },
          "metadata": {},
          "execution_count": 25
        }
      ]
    },
    {
      "cell_type": "code",
      "metadata": {
        "id": "nljwnU8zUoCp",
        "colab": {
          "base_uri": "https://localhost:8080/",
          "height": 355
        },
        "outputId": "213f3486-88cc-4d66-c366-503226c63820"
      },
      "source": [
        "# Plot the distribution of age before and after being protected using independent attribute mode (i.e. in real_data and in synthetic_independent)\n",
        "figs, axes = plt.subplots(1,2, figsize=(8,3), dpi=100)\n",
        "axes[0].hist(real_data['age'])\n",
        "axes[1].hist(synthetic_independent['age'])\n",
        "axes[0].set_xlabel('age')\n",
        "axes[1].set_xlabel('age')\n",
        "axes[0].set_title('real data')\n",
        "axes[1].set_title('independent attribute mode')"
      ],
      "execution_count": 26,
      "outputs": [
        {
          "output_type": "execute_result",
          "data": {
            "text/plain": [
              "Text(0.5, 1.0, 'independent attribute mode')"
            ]
          },
          "metadata": {},
          "execution_count": 26
        },
        {
          "output_type": "display_data",
          "data": {
            "text/plain": [
              "<Figure size 800x300 with 2 Axes>"
            ],
            "image/png": "[encoded data removed]"
          },
          "metadata": {}
        }
      ]
    },
    {
      "cell_type": "code",
      "metadata": {
        "id": "mbMWBcUhUoCq",
        "colab": {
          "base_uri": "https://localhost:8080/",
          "height": 622
        },
        "outputId": "6c50c194-1180-48f7-aaec-26ac9c910b50"
      },
      "source": [
        "# Now plot the distribution of age by income group in the real data and in the synthetic data.\n",
        "# Each plot should contain a histogram of age for all rows where income >50K and a histogram for age where income <=50k.\n",
        "real_data.groupby(['income']).age.plot(kind='hist',title='real data', legend=True)\n",
        "plt.show()\n",
        "synthetic_independent.groupby(['income']).age.plot(kind='hist',title='independent attribute mode', legend=True)"
      ],
      "execution_count": 27,
      "outputs": [
        {
          "output_type": "display_data",
          "data": {
            "text/plain": [
              "<Figure size 432x288 with 1 Axes>"
            ],
            "image/png": "[encoded data removed]"
          },
          "metadata": {}
        },
        {
          "output_type": "execute_result",
          "data": {
            "text/plain": [
              "income\n",
              "<=50K    AxesSubplot(0.125,0.125;0.775x0.755)\n",
              ">50K     AxesSubplot(0.125,0.125;0.775x0.755)\n",
              "Name: age, dtype: object"
            ]
          },
          "metadata": {},
          "execution_count": 27
        },
        {
          "output_type": "display_data",
          "data": {
            "text/plain": [
              "<Figure size 432x288 with 1 Axes>"
            ],
            "image/png": "[encoded data removed]"
          },
          "metadata": {}
        }
      ]
    },
    {
      "cell_type": "markdown",
      "metadata": {
        "id": "gdWHMTALp7Om"
      },
      "source": [
        "How do these distributions compare?"
      ]
    },
    {
      "cell_type": "markdown",
      "metadata": {
        "id": "AaX8W-9cu8zi"
      },
      "source": [
        "**Write your answer in this text cell:** In the independent attribtue data, the distibution of the age of population earning >50k is more evenly spread, whereas for the real data it seems to be more normally distributed. As for the age of the population earning <=50k, it is almost similar."
      ]
    },
    {
      "cell_type": "markdown",
      "metadata": {
        "id": "060cbCmkwafp"
      },
      "source": [
        "Let's look at the distribution of relationship values in the real data and in the synthetic data generated using the independent attribute mode:"
      ]
    },
    {
      "cell_type": "code",
      "metadata": {
        "id": "grUTNDFqUoCq",
        "colab": {
          "base_uri": "https://localhost:8080/",
          "height": 405
        },
        "outputId": "f5048eb4-71b9-497d-b2e8-c87d1d5beb34"
      },
      "source": [
        "relationship_real = real_data['relationship'].value_counts()\n",
        "relationship_independent = synthetic_independent['relationship'].value_counts()\n",
        "relationship_both = pd.merge(relationship_real.to_frame(), \n",
        "                             relationship_independent.to_frame(), \n",
        "                             left_index=True, \n",
        "                             right_index=True, \n",
        "                             suffixes=('_real', '_independent_attribute_mode'))\n",
        "\n",
        "fig, axes = plt.subplots(1, 2, figsize=(6,3), dpi=120)\n",
        "axes[0].bar(relationship_both.index, relationship_both['relationship_real'])\n",
        "axes[1].bar(relationship_both.index, relationship_both['relationship_independent_attribute_mode'])\n",
        "axes[0].set_title('real data')\n",
        "axes[1].set_title('independent attribute mode')\n",
        "fig.autofmt_xdate()"
      ],
      "execution_count": 28,
      "outputs": [
        {
          "output_type": "display_data",
          "data": {
            "text/plain": [
              "<Figure size 720x360 with 2 Axes>"
            ],
            "image/png": "[encoded data removed]"
          },
          "metadata": {}
        }
      ]
    },
    {
      "cell_type": "markdown",
      "metadata": {
        "id": "m-lvgns6UoCr"
      },
      "source": [
        "## Correlated attribute mode\n",
        "\n",
        "The correlated attribute mode replaces the feature we want to protect with values based on the *conditional* distribution of all the features in the database. This is calculated using a Bayesian network."
      ]
    },
    {
      "cell_type": "code",
      "metadata": {
        "id": "MrnhKaCPUoCr",
        "colab": {
          "base_uri": "https://localhost:8080/"
        },
        "outputId": "6e021604-9e55-4543-c778-170ec64f22d3"
      },
      "source": [
        "describer.describe_dataset_in_correlated_attribute_mode(sensitive_data_file, \n",
        "                                                        epsilon=0.1, \n",
        "                                                        k=2)"
      ],
      "execution_count": 29,
      "outputs": [
        {
          "output_type": "stream",
          "name": "stdout",
          "text": [
            "================ Constructing Bayesian Network (BN) ================\n",
            "Adding ROOT relationship\n",
            "Adding attribute marital-status\n",
            "Adding attribute sex\n",
            "Adding attribute education\n",
            "Adding attribute income\n",
            "Adding attribute age\n",
            "========================== BN constructed ==========================\n"
          ]
        }
      ]
    },
    {
      "cell_type": "code",
      "metadata": {
        "id": "d2Af3b2cUoCr",
        "colab": {
          "base_uri": "https://localhost:8080/"
        },
        "outputId": "38bc526b-49f9-4ec4-82c6-bff96559e266"
      },
      "source": [
        "display_bayesian_network(describer.bayesian_network)"
      ],
      "execution_count": 30,
      "outputs": [
        {
          "output_type": "stream",
          "name": "stdout",
          "text": [
            "Constructed Bayesian network:\n",
            "    marital-status has parents ['relationship'].\n",
            "    sex            has parents ['marital-status', 'relationship'].\n",
            "    education      has parents ['sex', 'marital-status'].\n",
            "    income         has parents ['marital-status', 'relationship'].\n",
            "    age            has parents ['income', 'relationship'].\n"
          ]
        }
      ]
    },
    {
      "cell_type": "code",
      "metadata": {
        "id": "LSskme_AUoCr"
      },
      "source": [
        "describer.save_dataset_description_to_file(description_files['correlated attribute mode'])"
      ],
      "execution_count": 31,
      "outputs": []
    },
    {
      "cell_type": "markdown",
      "metadata": {
        "id": "ieEcgH9CvI4q"
      },
      "source": [
        "Use generator.generate_dataset_in_correlated_attribute_mode to generate synthetic data using the correlated attribute mode:"
      ]
    },
    {
      "cell_type": "code",
      "metadata": {
        "id": "HSI0EnZYUoCs"
      },
      "source": [
        "# generate synthetic data in correlated attribute mode\n",
        "# write your code here using: generator.generate_dataset_in_correlated_mode\n",
        "generator.generate_dataset_in_correlated_attribute_mode(n=output_data_size, \n",
        "                                          description_file=description_files['correlated attribute mode'], \n",
        "                                          seed=0)"
      ],
      "execution_count": 32,
      "outputs": []
    },
    {
      "cell_type": "markdown",
      "metadata": {
        "id": "zbSiQAXovZZC"
      },
      "source": [
        "Again, save the data and read it as a pandas dataframe:"
      ]
    },
    {
      "cell_type": "code",
      "metadata": {
        "id": "JYPWAB9RUoCs"
      },
      "source": [
        "generator.save_synthetic_data(synthetic_data_files['correlated attribute mode'])"
      ],
      "execution_count": 33,
      "outputs": []
    },
    {
      "cell_type": "code",
      "metadata": {
        "id": "aDpXxHifUoCs"
      },
      "source": [
        "synthetic_correlated = pd.read_csv(synthetic_data_files['correlated attribute mode'])"
      ],
      "execution_count": 34,
      "outputs": []
    },
    {
      "cell_type": "markdown",
      "metadata": {
        "id": "6J28uT6ovf1-"
      },
      "source": [
        "Plot the distribution of age in the real data and synthetic data that you generated using the correlated attribute mode:"
      ]
    },
    {
      "cell_type": "code",
      "metadata": {
        "id": "ZppLU9YbUoCs",
        "colab": {
          "base_uri": "https://localhost:8080/",
          "height": 355
        },
        "outputId": "05a7c54f-e1a5-4a43-89fc-1ebe5c2d59e3"
      },
      "source": [
        "# plot the distribution of age in the real data and synthetic_correlated\n",
        "figs, axes = plt.subplots(1,2, figsize=(8,3), dpi=100)\n",
        "axes[0].hist(real_data['age'])\n",
        "axes[1].hist(synthetic_correlated['age'])\n",
        "axes[0].set_xlabel('age')\n",
        "axes[1].set_xlabel('age')\n",
        "axes[0].set_title('real data')\n",
        "axes[1].set_title('correlated attribute mode')"
      ],
      "execution_count": 35,
      "outputs": [
        {
          "output_type": "execute_result",
          "data": {
            "text/plain": [
              "Text(0.5, 1.0, 'correlated attribute mode')"
            ]
          },
          "metadata": {},
          "execution_count": 35
        },
        {
          "output_type": "display_data",
          "data": {
            "text/plain": [
              "<Figure size 800x300 with 2 Axes>"
            ],
            "image/png": "[encoded data removed]"
          },
          "metadata": {}
        }
      ]
    },
    {
      "cell_type": "markdown",
      "metadata": {
        "id": "2bFqOMF3iRcQ"
      },
      "source": [
        "#### Plot the relationship between two variables to see if changes after protecting age\n",
        "\n",
        "\n",
        "\n"
      ]
    },
    {
      "cell_type": "code",
      "metadata": {
        "id": "bKvfbGsjwCpt",
        "colab": {
          "base_uri": "https://localhost:8080/",
          "height": 622
        },
        "outputId": "1097be1a-07b5-49fd-88a6-e5f5a7abbe50"
      },
      "source": [
        "# write code here to plot the distribution of one variable by another variable\n",
        "# in the real data and in synthetic_correlated\n",
        "# e.g. plot age by education or age by income\n",
        "real_data.groupby(['income']).age.plot(kind='hist',title='real data', legend=True)\n",
        "plt.show()\n",
        "synthetic_correlated.groupby(['income']).age.plot(kind='hist',title='correlated attribute mode', legend=True)"
      ],
      "execution_count": 36,
      "outputs": [
        {
          "output_type": "display_data",
          "data": {
            "text/plain": [
              "<Figure size 432x288 with 1 Axes>"
            ],
            "image/png": "[encoded data removed]"
          },
          "metadata": {}
        },
        {
          "output_type": "execute_result",
          "data": {
            "text/plain": [
              "income\n",
              "<=50K    AxesSubplot(0.125,0.125;0.775x0.755)\n",
              ">50K     AxesSubplot(0.125,0.125;0.775x0.755)\n",
              "Name: age, dtype: object"
            ]
          },
          "metadata": {},
          "execution_count": 36
        },
        {
          "output_type": "display_data",
          "data": {
            "text/plain": [
              "<Figure size 432x288 with 1 Axes>"
            ],
            "image/png": "[encoded data removed]"
          },
          "metadata": {}
        }
      ]
    },
    {
      "cell_type": "markdown",
      "metadata": {
        "id": "E7gYk4j-v6_f"
      },
      "source": [
        "__Write down your observations here:__ Here, the distribution on correlation mode is less evenly spread out, and although it isnt as normally distributed as the real data, it is closer to preserving the shape of the real distribution when compared to the independent attribute mode."
      ]
    },
    {
      "cell_type": "markdown",
      "metadata": {
        "id": "X8Zcb50jqvnf"
      },
      "source": [
        "__Are there differences in the distributions of the data generated by the correlated attribute mode and the independent attribute mode?__"
      ]
    },
    {
      "cell_type": "code",
      "metadata": {
        "id": "wYcgl9owUoCt",
        "colab": {
          "base_uri": "https://localhost:8080/",
          "height": 405
        },
        "outputId": "04f8920a-ed80-4742-c614-00738898645d"
      },
      "source": [
        "# plot the distribution of \"relationship\" in the synthetic data generated under the correlated attribute mode and the independent attribute mode here\n",
        "relationship_real = real_data['relationship'].value_counts()\n",
        "relationship_correlated = synthetic_correlated['relationship'].value_counts()\n",
        "relationship_both = pd.merge(relationship_real.to_frame(), \n",
        "                             relationship_correlated.to_frame(), \n",
        "                             left_index=True, \n",
        "                             right_index=True, \n",
        "                             suffixes=('_real', '_correlated_attribute_mode'))\n",
        "\n",
        "fig, axes = plt.subplots(1, 2, figsize=(6,3), dpi=120)\n",
        "axes[0].bar(relationship_both.index, relationship_both['relationship_real'])\n",
        "axes[1].bar(relationship_both.index, relationship_both['relationship_correlated_attribute_mode'])\n",
        "axes[0].set_title('real data')\n",
        "axes[1].set_title('correlated attribute mode')\n",
        "fig.autofmt_xdate()"
      ],
      "execution_count": 37,
      "outputs": [
        {
          "output_type": "display_data",
          "data": {
            "text/plain": [
              "<Figure size 720x360 with 2 Axes>"
            ],
            "image/png": "[encoded data removed]"
          },
          "metadata": {}
        }
      ]
    },
    {
      "cell_type": "markdown",
      "metadata": {
        "id": "Q4uMBHcFUoCt"
      },
      "source": [
        "## Statistical measures\n",
        "\n",
        "### Mutual information"
      ]
    },
    {
      "cell_type": "markdown",
      "metadata": {
        "id": "_Ln430t6UoCt"
      },
      "source": [
        "We can use mutual information to further understand how the relationships between features are similar/different in the real data and the synthetic data. Mutual information is defined as follows for two discrete variables X and Y:\n",
        "\n",
        "\n",
        "$$I(X; Y) = \\sum_{y \\in Y} \\sum_{x \\in X} p(x,y) \\log(\\frac{p(x,y)}{p(x)p(y)})$$\n",
        "\n",
        "Higher values indicate greater levels of mutual information. For two independent variables, the value will be zero (look at the logged term). This metric works for categorical variables *or* continuous variables. "
      ]
    },
    {
      "cell_type": "code",
      "metadata": {
        "id": "-zdSvQ3jUoCu"
      },
      "source": [
        "from sklearn.metrics import normalized_mutual_info_score"
      ],
      "execution_count": 38,
      "outputs": []
    },
    {
      "cell_type": "code",
      "metadata": {
        "id": "0GUEfgraUoCu",
        "colab": {
          "base_uri": "https://localhost:8080/"
        },
        "outputId": "b16b1b7b-7ecd-4ac9-9b29-34513d47ae7f"
      },
      "source": [
        "normalized_mutual_info_score(real_data['marital-status'], \n",
        "                             real_data['relationship'], \n",
        "                             average_method='arithmetic')"
      ],
      "execution_count": 39,
      "outputs": [
        {
          "output_type": "execute_result",
          "data": {
            "text/plain": [
              "0.5249037668258572"
            ]
          },
          "metadata": {},
          "execution_count": 39
        }
      ]
    },
    {
      "cell_type": "code",
      "metadata": {
        "id": "hqY1BFjEUoCu",
        "colab": {
          "base_uri": "https://localhost:8080/"
        },
        "outputId": "9a73d178-539d-4f44-d547-c5915ee07a51"
      },
      "source": [
        "normalized_mutual_info_score(real_data['marital-status'], \n",
        "                             real_data['education'], \n",
        "                             average_method='arithmetic')"
      ],
      "execution_count": 40,
      "outputs": [
        {
          "output_type": "execute_result",
          "data": {
            "text/plain": [
              "0.014483450445067415"
            ]
          },
          "metadata": {},
          "execution_count": 40
        }
      ]
    },
    {
      "cell_type": "markdown",
      "metadata": {
        "id": "kKVqjAJdUoCu"
      },
      "source": [
        "We can even plot the mutual information between all pairs of features in the dataset:"
      ]
    },
    {
      "cell_type": "code",
      "metadata": {
        "id": "vTHgNA9jUoCu",
        "colab": {
          "base_uri": "https://localhost:8080/",
          "height": 553
        },
        "outputId": "5dffc782-f3da-430c-ef21-886926939b3a"
      },
      "source": [
        "attribute_description = read_json_file(description_files['correlated attribute mode'])['attribute_description']\n",
        "ModelInspector(real_data, \n",
        "               synthetic_correlated, \n",
        "               attribute_description).mutual_information_heatmap()"
      ],
      "execution_count": 41,
      "outputs": [
        {
          "output_type": "display_data",
          "data": {
            "text/plain": [
              "<Figure size 1800x720 with 4 Axes>"
            ],
            "image/png": "[encoded data removed]"
          },
          "metadata": {}
        }
      ]
    },
    {
      "cell_type": "markdown",
      "metadata": {
        "id": "hz9snHG4UoCv"
      },
      "source": [
        "### Two-sample Kolmogorov–Smirnov test\n",
        "\n",
        "The Kolmogorov-Smirnov test quantifies the similarity between the empirical distribution functions two sets of data. We can use it to measure how well the distribution of our synthetic data mimics the distribution of the original dataset. \n",
        "\n",
        "For two empirical distributions P and Q, the Kolmogorov–Smirnov test statistic is defined as:\n",
        "\n",
        "$$D = \\max_x |P(x) - Q(x)|$$\n",
        "\n",
        "Intuitively, think of plotting the CDF of each dataset. The Kolmogorov–Smirnov test statistic is the maxium distance between the two CDFs. \n",
        "\n",
        "<img src=\"https://upload.wikimedia.org/wikipedia/commons/c/cf/KS_Example.png\">\n",
        "\n",
        "This metric only works for continuous variables. "
      ]
    },
    {
      "cell_type": "code",
      "metadata": {
        "id": "Hw8j99qJUoCv"
      },
      "source": [
        "from scipy.stats import ks_2samp"
      ],
      "execution_count": 42,
      "outputs": []
    },
    {
      "cell_type": "code",
      "metadata": {
        "id": "LQau8TuNUoCv"
      },
      "source": [
        "def ks_test(df_in: pd.DataFrame, df_out: pd.DataFrame, attr: str):\n",
        "    \"\"\"\n",
        "    df_in: the sensitive dataset\n",
        "    df_out: the synthetic dataset\n",
        "    attr: the attribute that will be calculated for Two-sample Kolmogorov–Smirnov test.\n",
        "    \"\"\"\n",
        "    return ks_2samp(df_in[attr], df_out[attr])[0]"
      ],
      "execution_count": 43,
      "outputs": []
    },
    {
      "cell_type": "code",
      "metadata": {
        "id": "u6f98s_HUoCv",
        "colab": {
          "base_uri": "https://localhost:8080/"
        },
        "outputId": "3e85786f-ae90-4aa8-acb3-e35de1d27018"
      },
      "source": [
        "ks_test(real_data, synthetic_random, 'age')"
      ],
      "execution_count": 44,
      "outputs": [
        {
          "output_type": "execute_result",
          "data": {
            "text/plain": [
              "0.33259405423666355"
            ]
          },
          "metadata": {},
          "execution_count": 44
        }
      ]
    },
    {
      "cell_type": "code",
      "metadata": {
        "id": "X-C2V7yuUoCw",
        "colab": {
          "base_uri": "https://localhost:8080/"
        },
        "outputId": "5df0c9a2-a2b1-4e92-f215-545f559fe194"
      },
      "source": [
        "ks_test(real_data, synthetic_independent, 'age')"
      ],
      "execution_count": 45,
      "outputs": [
        {
          "output_type": "execute_result",
          "data": {
            "text/plain": [
              "0.04653290746598687"
            ]
          },
          "metadata": {},
          "execution_count": 45
        }
      ]
    },
    {
      "cell_type": "code",
      "metadata": {
        "id": "WyZQiz3dUoCw",
        "colab": {
          "base_uri": "https://localhost:8080/"
        },
        "outputId": "839f14e2-0abb-4814-c70c-4a39a2d4f6bf"
      },
      "source": [
        "ks_test(real_data, synthetic_correlated, 'age')"
      ],
      "execution_count": 46,
      "outputs": [
        {
          "output_type": "execute_result",
          "data": {
            "text/plain": [
              "0.06289198734682594"
            ]
          },
          "metadata": {},
          "execution_count": 46
        }
      ]
    },
    {
      "cell_type": "markdown",
      "metadata": {
        "id": "ECTHAm3Nxxwa"
      },
      "source": [
        "What do you notice about the Kolmogorov–Smirnov test statistic in the synthetic_random versus the synthetic_independent and synthetic_correlated modes?"
      ]
    },
    {
      "cell_type": "markdown",
      "metadata": {
        "id": "AddQUh-4x8zH"
      },
      "source": [
        "**Write your observations in this text cell:** The test statistic was significantly lower in the synthetic_independent mode as opposed to the synthetic_random mode."
      ]
    },
    {
      "cell_type": "markdown",
      "metadata": {
        "id": "GowfFP1HUoCw"
      },
      "source": [
        "### KL-divergence\n",
        "\n",
        "The KL-divergence is an alternative way to measure the difference between two distributions. For two distributions P and Q, the KL-divergence is defined as \n",
        "\n",
        "$$D = \\sum_x P(x) \\log (\\frac{P(x)}{Q(X)})$$\n",
        "\n",
        "This metric works on discrete/categorical variables.\n"
      ]
    },
    {
      "cell_type": "code",
      "metadata": {
        "id": "0Dq8rBDaUoCw"
      },
      "source": [
        "from scipy.stats import entropy"
      ],
      "execution_count": 47,
      "outputs": []
    },
    {
      "cell_type": "code",
      "metadata": {
        "id": "u13fVdqLUoCw"
      },
      "source": [
        "def get_distribution_of_categorical_attribute(attribute: pd.Series, indicies=None):\n",
        "    distribution = attribute.dropna().value_counts()\n",
        "    if indicies is not None:\n",
        "        for idx in set(indicies) - set(distribution.index):\n",
        "            distribution.loc[idx] = 0\n",
        "    distribution.sort_index(inplace=True)\n",
        "    return distribution/sum(distribution)\n",
        "\n",
        "def kl_test(df_in: pd.DataFrame, df_out: pd.DataFrame, attr: str):\n",
        "    \"\"\"\n",
        "    df_in: the sensitive dataset\n",
        "    df_out: the synthetic dataset\n",
        "    attr: the attribute that will be calculated for KL-divergence.\n",
        "    \"\"\"\n",
        "    distribution_in = get_distribution_of_categorical_attribute(df_in[attr])\n",
        "    distribution_out = get_distribution_of_categorical_attribute(df_out[attr], distribution_in.index)\n",
        "    return entropy(distribution_out, distribution_in)"
      ],
      "execution_count": 48,
      "outputs": []
    },
    {
      "cell_type": "code",
      "metadata": {
        "id": "KUyOzLeTUoCw",
        "colab": {
          "base_uri": "https://localhost:8080/"
        },
        "outputId": "7fc8d921-65a3-4eb2-90cd-ff57cdbe7d46"
      },
      "source": [
        "kl_test(real_data, synthetic_random, 'relationship')"
      ],
      "execution_count": 49,
      "outputs": [
        {
          "output_type": "execute_result",
          "data": {
            "text/plain": [
              "0.37194502301936416"
            ]
          },
          "metadata": {},
          "execution_count": 49
        }
      ]
    },
    {
      "cell_type": "code",
      "metadata": {
        "id": "dBQfTe81UoCx",
        "colab": {
          "base_uri": "https://localhost:8080/"
        },
        "outputId": "d464dc90-a942-4851-e84a-f89807658a34"
      },
      "source": [
        "kl_test(real_data, synthetic_independent, 'relationship')"
      ],
      "execution_count": 50,
      "outputs": [
        {
          "output_type": "execute_result",
          "data": {
            "text/plain": [
              "0.004852757128718812"
            ]
          },
          "metadata": {},
          "execution_count": 50
        }
      ]
    },
    {
      "cell_type": "code",
      "metadata": {
        "id": "N5eXmFRsUoCx",
        "colab": {
          "base_uri": "https://localhost:8080/"
        },
        "outputId": "5a1253d6-a3a1-4b97-89a2-11b250908206"
      },
      "source": [
        "kl_test(real_data, synthetic_correlated, 'relationship')"
      ],
      "execution_count": 51,
      "outputs": [
        {
          "output_type": "execute_result",
          "data": {
            "text/plain": [
              "0.0062997091819315945"
            ]
          },
          "metadata": {},
          "execution_count": 51
        }
      ]
    },
    {
      "cell_type": "markdown",
      "metadata": {
        "id": "K6iyQW-SUoCx"
      },
      "source": [
        "### Boxplot"
      ]
    },
    {
      "cell_type": "markdown",
      "metadata": {
        "id": "0qRjI-CmyFdd"
      },
      "source": [
        "It is often useful to the compare distributions of a continuous variable using a boxplot. For example, we plot the distribution of age by income status in the real data and in the synthetic_correlated data below:"
      ]
    },
    {
      "cell_type": "code",
      "metadata": {
        "id": "iHL2v9nFUoCx"
      },
      "source": [
        "import seaborn as sns"
      ],
      "execution_count": 52,
      "outputs": []
    },
    {
      "cell_type": "code",
      "metadata": {
        "id": "p4LejBwzUoCx",
        "colab": {
          "base_uri": "https://localhost:8080/",
          "height": 206
        },
        "outputId": "1cfffaf1-7603-4861-d219-d1ca528f3d6e"
      },
      "source": [
        "real_data.head()"
      ],
      "execution_count": 53,
      "outputs": [
        {
          "output_type": "execute_result",
          "data": {
            "text/plain": [
              "   age  education     sex   relationship      marital-status income\n",
              "0   39  Bachelors    Male  Not-in-family       Never-married  <=50K\n",
              "1   50  Bachelors    Male        Husband  Married-civ-spouse  <=50K\n",
              "2   38    HS-grad    Male  Not-in-family            Divorced  <=50K\n",
              "3   53       11th    Male        Husband  Married-civ-spouse  <=50K\n",
              "4   28  Bachelors  Female           Wife  Married-civ-spouse  <=50K"
            ],
            "text/html": [
              "\n",
              "  <div id=\"df-6373bf84-ae0b-43e1-96fc-44700ae45ed4\">\n",
              "    <div class=\"colab-df-container\">\n",
              "      <div>\n",
              "<style scoped>\n",
              "    .dataframe tbody tr th:only-of-type {\n",
              "        vertical-align: middle;\n",
              "    }\n",
              "\n",
              "    .dataframe tbody tr th {\n",
              "        vertical-align: top;\n",
              "    }\n",
              "\n",
              "    .dataframe thead th {\n",
              "        text-align: right;\n",
              "    }\n",
              "</style>\n",
              "<table border=\"1\" class=\"dataframe\">\n",
              "  <thead>\n",
              "    <tr style=\"text-align: right;\">\n",
              "      <th></th>\n",
              "      <th>age</th>\n",
              "      <th>education</th>\n",
              "      <th>sex</th>\n",
              "      <th>relationship</th>\n",
              "      <th>marital-status</th>\n",
              "      <th>income</th>\n",
              "    </tr>\n",
              "  </thead>\n",
              "  <tbody>\n",
              "    <tr>\n",
              "      <th>0</th>\n",
              "      <td>39</td>\n",
              "      <td>Bachelors</td>\n",
              "      <td>Male</td>\n",
              "      <td>Not-in-family</td>\n",
              "      <td>Never-married</td>\n",
              "      <td>&lt;=50K</td>\n",
              "    </tr>\n",
              "    <tr>\n",
              "      <th>1</th>\n",
              "      <td>50</td>\n",
              "      <td>Bachelors</td>\n",
              "      <td>Male</td>\n",
              "      <td>Husband</td>\n",
              "      <td>Married-civ-spouse</td>\n",
              "      <td>&lt;=50K</td>\n",
              "    </tr>\n",
              "    <tr>\n",
              "      <th>2</th>\n",
              "      <td>38</td>\n",
              "      <td>HS-grad</td>\n",
              "      <td>Male</td>\n",
              "      <td>Not-in-family</td>\n",
              "      <td>Divorced</td>\n",
              "      <td>&lt;=50K</td>\n",
              "    </tr>\n",
              "    <tr>\n",
              "      <th>3</th>\n",
              "      <td>53</td>\n",
              "      <td>11th</td>\n",
              "      <td>Male</td>\n",
              "      <td>Husband</td>\n",
              "      <td>Married-civ-spouse</td>\n",
              "      <td>&lt;=50K</td>\n",
              "    </tr>\n",
              "    <tr>\n",
              "      <th>4</th>\n",
              "      <td>28</td>\n",
              "      <td>Bachelors</td>\n",
              "      <td>Female</td>\n",
              "      <td>Wife</td>\n",
              "      <td>Married-civ-spouse</td>\n",
              "      <td>&lt;=50K</td>\n",
              "    </tr>\n",
              "  </tbody>\n",
              "</table>\n",
              "</div>\n",
              "      <button class=\"colab-df-convert\" onclick=\"convertToInteractive('df-6373bf84-ae0b-43e1-96fc-44700ae45ed4')\"\n",
              "              title=\"Convert this dataframe to an interactive table.\"\n",
              "              style=\"display:none;\">\n",
              "        \n",
              "  <svg xmlns=\"http://www.w3.org/2000/svg\" height=\"24px\"viewBox=\"0 0 24 24\"\n",
              "       width=\"24px\">\n",
              "    <path d=\"M0 0h24v24H0V0z\" fill=\"none\"/>\n",
              "    <path d=\"M18.56 5.44l.94 2.06.94-2.06 2.06-.94-2.06-.94-.94-2.06-.94 2.06-2.06.94zm-11 1L8.5 8.5l.94-2.06 2.06-.94-2.06-.94L8.5 2.5l-.94 2.06-2.06.94zm10 10l.94 2.06.94-2.06 2.06-.94-2.06-.94-.94-2.06-.94 2.06-2.06.94z\"/><path d=\"M17.41 7.96l-1.37-1.37c-.4-.4-.92-.59-1.43-.59-.52 0-1.04.2-1.43.59L10.3 9.45l-7.72 7.72c-.78.78-.78 2.05 0 2.83L4 21.41c.39.39.9.59 1.41.59.51 0 1.02-.2 1.41-.59l7.78-7.78 2.81-2.81c.8-.78.8-2.07 0-2.86zM5.41 20L4 18.59l7.72-7.72 1.47 1.35L5.41 20z\"/>\n",
              "  </svg>\n",
              "      </button>\n",
              "      \n",
              "  <style>\n",
              "    .colab-df-container {\n",
              "      display:flex;\n",
              "      flex-wrap:wrap;\n",
              "      gap: 12px;\n",
              "    }\n",
              "\n",
              "    .colab-df-convert {\n",
              "      background-color: #E8F0FE;\n",
              "      border: none;\n",
              "      border-radius: 50%;\n",
              "      cursor: pointer;\n",
              "      display: none;\n",
              "      fill: #1967D2;\n",
              "      height: 32px;\n",
              "      padding: 0 0 0 0;\n",
              "      width: 32px;\n",
              "    }\n",
              "\n",
              "    .colab-df-convert:hover {\n",
              "      background-color: #E2EBFA;\n",
              "      box-shadow: 0px 1px 2px rgba(60, 64, 67, 0.3), 0px 1px 3px 1px rgba(60, 64, 67, 0.15);\n",
              "      fill: #174EA6;\n",
              "    }\n",
              "\n",
              "    [theme=dark] .colab-df-convert {\n",
              "      background-color: #3B4455;\n",
              "      fill: #D2E3FC;\n",
              "    }\n",
              "\n",
              "    [theme=dark] .colab-df-convert:hover {\n",
              "      background-color: #434B5C;\n",
              "      box-shadow: 0px 1px 3px 1px rgba(0, 0, 0, 0.15);\n",
              "      filter: drop-shadow(0px 1px 2px rgba(0, 0, 0, 0.3));\n",
              "      fill: #FFFFFF;\n",
              "    }\n",
              "  </style>\n",
              "\n",
              "      <script>\n",
              "        const buttonEl =\n",
              "          document.querySelector('#df-6373bf84-ae0b-43e1-96fc-44700ae45ed4 button.colab-df-convert');\n",
              "        buttonEl.style.display =\n",
              "          google.colab.kernel.accessAllowed ? 'block' : 'none';\n",
              "\n",
              "        async function convertToInteractive(key) {\n",
              "          const element = document.querySelector('#df-6373bf84-ae0b-43e1-96fc-44700ae45ed4');\n",
              "          const dataTable =\n",
              "            await google.colab.kernel.invokeFunction('convertToInteractive',\n",
              "                                                     [key], {});\n",
              "          if (!dataTable) return;\n",
              "\n",
              "          const docLinkHtml = 'Like what you see? Visit the ' +\n",
              "            '<a target=\"_blank\" href=https://colab.research.google.com/notebooks/data_table.ipynb>data table notebook</a>'\n",
              "            + ' to learn more about interactive tables.';\n",
              "          element.innerHTML = '';\n",
              "          dataTable['output_type'] = 'display_data';\n",
              "          await google.colab.output.renderOutput(dataTable, element);\n",
              "          const docLink = document.createElement('div');\n",
              "          docLink.innerHTML = docLinkHtml;\n",
              "          element.appendChild(docLink);\n",
              "        }\n",
              "      </script>\n",
              "    </div>\n",
              "  </div>\n",
              "  "
            ]
          },
          "metadata": {},
          "execution_count": 53
        }
      ]
    },
    {
      "cell_type": "code",
      "metadata": {
        "id": "zqtgzGJgUoCx",
        "colab": {
          "base_uri": "https://localhost:8080/",
          "height": 390
        },
        "outputId": "113a3593-6254-4b48-bfc1-2f3da2020ec9"
      },
      "source": [
        "plt.figure(dpi=100)\n",
        "sns.boxplot(x='income', y='age', data=real_data, linewidth=0.5, fliersize=2);"
      ],
      "execution_count": 54,
      "outputs": [
        {
          "output_type": "display_data",
          "data": {
            "text/plain": [
              "<Figure size 600x400 with 1 Axes>"
            ],
            "image/png": "[encoded data removed]"
          },
          "metadata": {}
        }
      ]
    },
    {
      "cell_type": "code",
      "metadata": {
        "id": "prxdaPchyaJA",
        "colab": {
          "base_uri": "https://localhost:8080/",
          "height": 390
        },
        "outputId": "da845b8d-fc15-4e93-c9aa-076251ccc408"
      },
      "source": [
        "plt.figure(dpi=100)\n",
        "sns.boxplot(x='income', y='age', data=synthetic_correlated, linewidth=0.5, fliersize=2);"
      ],
      "execution_count": 55,
      "outputs": [
        {
          "output_type": "display_data",
          "data": {
            "text/plain": [
              "<Figure size 600x400 with 1 Axes>"
            ],
            "image/png": "[encoded data removed]"
          },
          "metadata": {}
        }
      ]
    }
  ]
}